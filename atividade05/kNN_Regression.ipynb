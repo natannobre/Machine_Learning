{
 "metadata": {
  "language_info": {
   "codemirror_mode": {
    "name": "ipython",
    "version": 3
   },
   "file_extension": ".py",
   "mimetype": "text/x-python",
   "name": "python",
   "nbconvert_exporter": "python",
   "pygments_lexer": "ipython3",
   "version": "3.8.5"
  },
  "orig_nbformat": 2,
  "kernelspec": {
   "name": "python3",
   "display_name": "Python 3.8.5 64-bit ('base': conda)"
  },
  "interpreter": {
   "hash": "1f09bd18c3bd6ca7f9726fc8dcfe1413a5b5683c291aaa94868dd31b44d43b4e"
  }
 },
 "nbformat": 4,
 "nbformat_minor": 2,
 "cells": [
  {
   "source": [
    "# Autor: Natan Nobre Chaves\n",
    "## kNN Regression"
   ],
   "cell_type": "markdown",
   "metadata": {}
  },
  {
   "source": [
    "### 1. Altere nossa implementação de kNN para que ela possa calcular regressão. Dica: crie uma função predict_regression baseada na função predict_classification do documento notebook 02-Aula kNN.ipynb."
   ],
   "cell_type": "markdown",
   "metadata": {}
  },
  {
   "cell_type": "code",
   "execution_count": 2,
   "metadata": {},
   "outputs": [],
   "source": [
    "import pandas as pd\n",
    "import numpy as np\n",
    "import sklearn\n",
    "from sklearn.model_selection import train_test_split\n",
    "from sklearn.neighbors import KNeighborsRegressor"
   ]
  },
  {
   "cell_type": "code",
   "execution_count": 3,
   "metadata": {},
   "outputs": [],
   "source": [
    "def euclidean_distances(X, X_row):\n",
    "    X_ = (X - X_row) ** 2\n",
    "    return np.sum(X_, axis=1) ** 0.5"
   ]
  },
  {
   "cell_type": "code",
   "execution_count": 4,
   "metadata": {},
   "outputs": [],
   "source": [
    "def get_neighbors(X_train, test_row, k):\n",
    "    distances = euclidean_distances(X_train, test_row)\n",
    "    idx_sort = np.argsort(distances)\n",
    "    return idx_sort[:k]"
   ]
  },
  {
   "cell_type": "code",
   "execution_count": 5,
   "metadata": {},
   "outputs": [],
   "source": [
    "def predict_regression(X, y, test_row, k):\n",
    "    idx_sort = get_neighbors(X, test_row, k)\n",
    "    output_values = y[idx_sort]\n",
    "    return (np.mean(output_values))"
   ]
  },
  {
   "source": [
    "### 2. Use os seguintes dados como dados de treino (X_treino) para o kNN, onde House Price Index é o nosso rótulo (label ou y_treino)"
   ],
   "cell_type": "markdown",
   "metadata": {}
  },
  {
   "cell_type": "code",
   "execution_count": 6,
   "metadata": {},
   "outputs": [
    {
     "output_type": "execute_result",
     "data": {
      "text/plain": [
       "    Age    Loan  House Price Index\n",
       "0    25   40000                135\n",
       "1    35   60000                256\n",
       "2    45   80000                231\n",
       "3    20   20000                267\n",
       "4    35  120000                139\n",
       "5    52   18000                150\n",
       "6    23   95000                127\n",
       "7    40   62000                216\n",
       "8    60  100000                139\n",
       "9    48  220000                250\n",
       "10   33  150000                264"
      ],
      "text/html": "<div>\n<style scoped>\n    .dataframe tbody tr th:only-of-type {\n        vertical-align: middle;\n    }\n\n    .dataframe tbody tr th {\n        vertical-align: top;\n    }\n\n    .dataframe thead th {\n        text-align: right;\n    }\n</style>\n<table border=\"1\" class=\"dataframe\">\n  <thead>\n    <tr style=\"text-align: right;\">\n      <th></th>\n      <th>Age</th>\n      <th>Loan</th>\n      <th>House Price Index</th>\n    </tr>\n  </thead>\n  <tbody>\n    <tr>\n      <th>0</th>\n      <td>25</td>\n      <td>40000</td>\n      <td>135</td>\n    </tr>\n    <tr>\n      <th>1</th>\n      <td>35</td>\n      <td>60000</td>\n      <td>256</td>\n    </tr>\n    <tr>\n      <th>2</th>\n      <td>45</td>\n      <td>80000</td>\n      <td>231</td>\n    </tr>\n    <tr>\n      <th>3</th>\n      <td>20</td>\n      <td>20000</td>\n      <td>267</td>\n    </tr>\n    <tr>\n      <th>4</th>\n      <td>35</td>\n      <td>120000</td>\n      <td>139</td>\n    </tr>\n    <tr>\n      <th>5</th>\n      <td>52</td>\n      <td>18000</td>\n      <td>150</td>\n    </tr>\n    <tr>\n      <th>6</th>\n      <td>23</td>\n      <td>95000</td>\n      <td>127</td>\n    </tr>\n    <tr>\n      <th>7</th>\n      <td>40</td>\n      <td>62000</td>\n      <td>216</td>\n    </tr>\n    <tr>\n      <th>8</th>\n      <td>60</td>\n      <td>100000</td>\n      <td>139</td>\n    </tr>\n    <tr>\n      <th>9</th>\n      <td>48</td>\n      <td>220000</td>\n      <td>250</td>\n    </tr>\n    <tr>\n      <th>10</th>\n      <td>33</td>\n      <td>150000</td>\n      <td>264</td>\n    </tr>\n  </tbody>\n</table>\n</div>"
     },
     "metadata": {},
     "execution_count": 6
    }
   ],
   "source": [
    "dict_house_price = {\"Age\":[25, 35, 45, 20, 35, 52, 23, 40, 60, 48, 33],\n",
    "                    \"Loan\":[40000, 60000, 80000, 20000, 120000, 18000, 95000,                                                               62000, 100000, 220000, 150000],\n",
    "                    \"House Price Index\":[135, 256, 231, 267, 139, 150,                                                                                    127, 216, 139, 250, 264]}\n",
    "house_price = pd.DataFrame(dict_house_price)\n",
    "house_price                    "
   ]
  },
  {
   "cell_type": "code",
   "execution_count": 7,
   "metadata": {},
   "outputs": [
    {
     "output_type": "execute_result",
     "data": {
      "text/plain": [
       "array([[    25,  40000],\n",
       "       [    35,  60000],\n",
       "       [    45,  80000],\n",
       "       [    20,  20000],\n",
       "       [    35, 120000],\n",
       "       [    52,  18000],\n",
       "       [    23,  95000],\n",
       "       [    40,  62000],\n",
       "       [    60, 100000],\n",
       "       [    48, 220000],\n",
       "       [    33, 150000]], dtype=int64)"
      ]
     },
     "metadata": {},
     "execution_count": 7
    }
   ],
   "source": [
    "X_train = house_price[[\"Age\", \"Loan\"]].values\n",
    "X_train"
   ]
  },
  {
   "cell_type": "code",
   "execution_count": 8,
   "metadata": {},
   "outputs": [
    {
     "output_type": "execute_result",
     "data": {
      "text/plain": [
       "array([135, 256, 231, 267, 139, 150, 127, 216, 139, 250, 264], dtype=int64)"
      ]
     },
     "metadata": {},
     "execution_count": 8
    }
   ],
   "source": [
    "y_train = house_price[\"House Price Index\"].values\n",
    "y_train"
   ]
  },
  {
   "source": [
    "#### a) Calcular o rótulo para quando Age = 42 e Loan = $142,000."
   ],
   "cell_type": "markdown",
   "metadata": {}
  },
  {
   "cell_type": "code",
   "execution_count": 9,
   "metadata": {},
   "outputs": [],
   "source": [
    "aX_test = np.array([42, 142000])"
   ]
  },
  {
   "cell_type": "code",
   "execution_count": 10,
   "metadata": {},
   "outputs": [
    {
     "output_type": "stream",
     "name": "stdout",
     "text": [
      "Rotulo Predito: 180.66666666666666\n"
     ]
    }
   ],
   "source": [
    "k = 3\n",
    "print('Rotulo Predito: {}'.format(predict_regression(X_train, y_train, aX_test, k)))"
   ]
  },
  {
   "source": [
    "#### b) Calcular o rótulo para quando Age = 30 e Loan = $50,000."
   ],
   "cell_type": "markdown",
   "metadata": {}
  },
  {
   "cell_type": "code",
   "execution_count": 11,
   "metadata": {},
   "outputs": [],
   "source": [
    "bX_test = np.array([30, 50000])"
   ]
  },
  {
   "cell_type": "code",
   "execution_count": 12,
   "metadata": {},
   "outputs": [
    {
     "output_type": "stream",
     "name": "stdout",
     "text": [
      "Rotulo Predito: 202.33333333333334\n"
     ]
    }
   ],
   "source": [
    "k = 3\n",
    "print('Rotulo Predito: {}'.format(predict_regression(X_train, y_train, bX_test, k)))"
   ]
  },
  {
   "source": [
    "### 3. O conjunto de dados de qualidade de vinho consiste na predição da qualidade de vinhos brancos sobre uma escala dada medições químicas de cada vinho. Baixe o conjunto de qualidade de vinho e faça o seguinte com ele em um Jupyter Notebook:"
   ],
   "cell_type": "markdown",
   "metadata": {}
  },
  {
   "cell_type": "code",
   "execution_count": 13,
   "metadata": {},
   "outputs": [
    {
     "output_type": "execute_result",
     "data": {
      "text/plain": [
       "   fixed acidity  volatile acidity  citric acid  residual sugar  chlorides  \\\n",
       "0            7.0              0.27         0.36            20.7      0.045   \n",
       "1            6.3              0.30         0.34             1.6      0.049   \n",
       "2            8.1              0.28         0.40             6.9      0.050   \n",
       "3            7.2              0.23         0.32             8.5      0.058   \n",
       "4            7.2              0.23         0.32             8.5      0.058   \n",
       "\n",
       "   free sulfur dioxide  total sulfur dioxide  density    pH  sulphates  \\\n",
       "0                 45.0                 170.0   1.0010  3.00       0.45   \n",
       "1                 14.0                 132.0   0.9940  3.30       0.49   \n",
       "2                 30.0                  97.0   0.9951  3.26       0.44   \n",
       "3                 47.0                 186.0   0.9956  3.19       0.40   \n",
       "4                 47.0                 186.0   0.9956  3.19       0.40   \n",
       "\n",
       "   alcohol  quality  \n",
       "0      8.8        6  \n",
       "1      9.5        6  \n",
       "2     10.1        6  \n",
       "3      9.9        6  \n",
       "4      9.9        6  "
      ],
      "text/html": "<div>\n<style scoped>\n    .dataframe tbody tr th:only-of-type {\n        vertical-align: middle;\n    }\n\n    .dataframe tbody tr th {\n        vertical-align: top;\n    }\n\n    .dataframe thead th {\n        text-align: right;\n    }\n</style>\n<table border=\"1\" class=\"dataframe\">\n  <thead>\n    <tr style=\"text-align: right;\">\n      <th></th>\n      <th>fixed acidity</th>\n      <th>volatile acidity</th>\n      <th>citric acid</th>\n      <th>residual sugar</th>\n      <th>chlorides</th>\n      <th>free sulfur dioxide</th>\n      <th>total sulfur dioxide</th>\n      <th>density</th>\n      <th>pH</th>\n      <th>sulphates</th>\n      <th>alcohol</th>\n      <th>quality</th>\n    </tr>\n  </thead>\n  <tbody>\n    <tr>\n      <th>0</th>\n      <td>7.0</td>\n      <td>0.27</td>\n      <td>0.36</td>\n      <td>20.7</td>\n      <td>0.045</td>\n      <td>45.0</td>\n      <td>170.0</td>\n      <td>1.0010</td>\n      <td>3.00</td>\n      <td>0.45</td>\n      <td>8.8</td>\n      <td>6</td>\n    </tr>\n    <tr>\n      <th>1</th>\n      <td>6.3</td>\n      <td>0.30</td>\n      <td>0.34</td>\n      <td>1.6</td>\n      <td>0.049</td>\n      <td>14.0</td>\n      <td>132.0</td>\n      <td>0.9940</td>\n      <td>3.30</td>\n      <td>0.49</td>\n      <td>9.5</td>\n      <td>6</td>\n    </tr>\n    <tr>\n      <th>2</th>\n      <td>8.1</td>\n      <td>0.28</td>\n      <td>0.40</td>\n      <td>6.9</td>\n      <td>0.050</td>\n      <td>30.0</td>\n      <td>97.0</td>\n      <td>0.9951</td>\n      <td>3.26</td>\n      <td>0.44</td>\n      <td>10.1</td>\n      <td>6</td>\n    </tr>\n    <tr>\n      <th>3</th>\n      <td>7.2</td>\n      <td>0.23</td>\n      <td>0.32</td>\n      <td>8.5</td>\n      <td>0.058</td>\n      <td>47.0</td>\n      <td>186.0</td>\n      <td>0.9956</td>\n      <td>3.19</td>\n      <td>0.40</td>\n      <td>9.9</td>\n      <td>6</td>\n    </tr>\n    <tr>\n      <th>4</th>\n      <td>7.2</td>\n      <td>0.23</td>\n      <td>0.32</td>\n      <td>8.5</td>\n      <td>0.058</td>\n      <td>47.0</td>\n      <td>186.0</td>\n      <td>0.9956</td>\n      <td>3.19</td>\n      <td>0.40</td>\n      <td>9.9</td>\n      <td>6</td>\n    </tr>\n  </tbody>\n</table>\n</div>"
     },
     "metadata": {},
     "execution_count": 13
    }
   ],
   "source": [
    "wine = pd.read_csv(\"datasets/winequality-white.csv\", delimiter=';')\n",
    "wine.head()"
   ]
  },
  {
   "source": [
    "### 3.1. Separe 70% dos dados para treino (conjunto de treino) e 30% dos dados para teste (conjunto de teste)."
   ],
   "cell_type": "markdown",
   "metadata": {}
  },
  {
   "cell_type": "code",
   "execution_count": 14,
   "metadata": {},
   "outputs": [
    {
     "output_type": "stream",
     "name": "stdout",
     "text": [
      "[6 6 6 ... 6 7 6]\n"
     ]
    }
   ],
   "source": [
    "y = wine['quality'].values\n",
    "print(y)"
   ]
  },
  {
   "cell_type": "code",
   "execution_count": 15,
   "metadata": {},
   "outputs": [
    {
     "output_type": "execute_result",
     "data": {
      "text/plain": [
       "array([[ 7.  ,  0.27,  0.36, ...,  3.  ,  0.45,  8.8 ],\n",
       "       [ 6.3 ,  0.3 ,  0.34, ...,  3.3 ,  0.49,  9.5 ],\n",
       "       [ 8.1 ,  0.28,  0.4 , ...,  3.26,  0.44, 10.1 ],\n",
       "       ...,\n",
       "       [ 6.5 ,  0.24,  0.19, ...,  2.99,  0.46,  9.4 ],\n",
       "       [ 5.5 ,  0.29,  0.3 , ...,  3.34,  0.38, 12.8 ],\n",
       "       [ 6.  ,  0.21,  0.38, ...,  3.26,  0.32, 11.8 ]])"
      ]
     },
     "metadata": {},
     "execution_count": 15
    }
   ],
   "source": [
    "X = wine\n",
    "del X['quality']\n",
    "X = X.values\n",
    "X"
   ]
  },
  {
   "cell_type": "code",
   "execution_count": 16,
   "metadata": {},
   "outputs": [],
   "source": [
    "X_train, X_test, y_train, y_test = train_test_split(X, y, train_size=0.7, random_state=42, stratify=y)"
   ]
  },
  {
   "cell_type": "code",
   "execution_count": 17,
   "metadata": {},
   "outputs": [
    {
     "output_type": "stream",
     "name": "stdout",
     "text": [
      "(4898, 11)\n(3428, 11)\n(1470, 11)\n(3428,)\n(1470,)\n"
     ]
    }
   ],
   "source": [
    "print(wine.shape)\n",
    "print(X_train.shape)\n",
    "print(X_test.shape)\n",
    "print(y_train.shape)\n",
    "print(y_test.shape)"
   ]
  },
  {
   "source": [
    "### 3.2. Crie um modelo de regressão de qualidade de vinho usando o kNN para k=5.\n",
    "### 3.3. Use o modelo de regressão sobre X_test para calcular os valores preditos dos rótulos (y_pred)."
   ],
   "cell_type": "markdown",
   "metadata": {}
  },
  {
   "cell_type": "code",
   "execution_count": 18,
   "metadata": {},
   "outputs": [
    {
     "output_type": "stream",
     "name": "stdout",
     "text": [
      "[6.4 6.4 6.4 ... 5.6 6.4 6.2]\n"
     ]
    }
   ],
   "source": [
    "k = 5\n",
    "kNNr_model = KNeighborsRegressor(n_neighbors=k)\n",
    "kNNr_model.fit(X_train, y_train)\n",
    "y_pred = kNNr_model.predict(X_test)\n",
    "print(y_pred)"
   ]
  },
  {
   "cell_type": "code",
   "execution_count": null,
   "metadata": {},
   "outputs": [],
   "source": []
  }
 ]
}