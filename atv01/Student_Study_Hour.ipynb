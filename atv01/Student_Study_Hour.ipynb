{
  "nbformat": 4,
  "nbformat_minor": 0,
  "metadata": {
    "colab": {
      "name": "Student_Study_Hour.ipynb",
      "provenance": [],
      "collapsed_sections": [],
      "toc_visible": true
    },
    "kernelspec": {
      "name": "python385jvsc74a57bd01f09bd18c3bd6ca7f9726fc8dcfe1413a5b5683c291aaa94868dd31b44d43b4e",
      "display_name": "Python 3.8.5 64-bit (conda)"
    },
    "language_info": {
      "name": "python",
      "version": "3.8.5"
    }
  },
  "cells": [
    {
      "cell_type": "markdown",
      "metadata": {
        "id": "x_3GegmkxlpQ"
      },
      "source": [
        "# Lista de Exercícios 01"
      ]
    },
    {
      "cell_type": "markdown",
      "metadata": {
        "id": "awZI3d1byTTO"
      },
      "source": [
        "## 1. Escolha e baixe um conjunto de dados da plataforma Kaggle (https://www.kaggle.com/datasets), que tenha ao menos um atributo numérico. Carregue os dados através da biblioteca Pandas ou Dask. \n",
        "\n",
        "### Data Set = https://www.kaggle.com/aditeloo/student-study-hour-v2"
      ]
    },
    {
      "cell_type": "code",
      "metadata": {
        "id": "mVZ37OkPxq5t"
      },
      "source": [
        "%matplotlib inline\n",
        "import pandas as pd"
      ],
      "execution_count": 2,
      "outputs": []
    },
    {
      "cell_type": "code",
      "metadata": {
        "colab": {
          "base_uri": "https://localhost:8080/",
          "height": 204
        },
        "id": "GIKrvy_vyzK_",
        "outputId": "b2017979-a1ce-464d-ea74-4feb837739d0"
      },
      "source": [
        "df = pd.read_csv('student_study_hour.csv')\n",
        "df.head()"
      ],
      "execution_count": 3,
      "outputs": [
        {
          "output_type": "execute_result",
          "data": {
            "text/plain": [
              "   Hours  Scores\n",
              "0    2.5      21\n",
              "1    5.1      47\n",
              "2    3.2      27\n",
              "3    8.5      75\n",
              "4    3.5      30"
            ],
            "text/html": "<div>\n<style scoped>\n    .dataframe tbody tr th:only-of-type {\n        vertical-align: middle;\n    }\n\n    .dataframe tbody tr th {\n        vertical-align: top;\n    }\n\n    .dataframe thead th {\n        text-align: right;\n    }\n</style>\n<table border=\"1\" class=\"dataframe\">\n  <thead>\n    <tr style=\"text-align: right;\">\n      <th></th>\n      <th>Hours</th>\n      <th>Scores</th>\n    </tr>\n  </thead>\n  <tbody>\n    <tr>\n      <th>0</th>\n      <td>2.5</td>\n      <td>21</td>\n    </tr>\n    <tr>\n      <th>1</th>\n      <td>5.1</td>\n      <td>47</td>\n    </tr>\n    <tr>\n      <th>2</th>\n      <td>3.2</td>\n      <td>27</td>\n    </tr>\n    <tr>\n      <th>3</th>\n      <td>8.5</td>\n      <td>75</td>\n    </tr>\n    <tr>\n      <th>4</th>\n      <td>3.5</td>\n      <td>30</td>\n    </tr>\n  </tbody>\n</table>\n</div>"
          },
          "metadata": {},
          "execution_count": 3
        }
      ]
    },
    {
      "cell_type": "markdown",
      "metadata": {
        "id": "jDOirJE00lzM"
      },
      "source": [
        "## 2. Exiba as 20 primeiras linhas do conjunto de dados selecionado."
      ]
    },
    {
      "cell_type": "code",
      "metadata": {
        "colab": {
          "base_uri": "https://localhost:8080/",
          "height": 669
        },
        "id": "uYp_qQd_1CMK",
        "outputId": "b5d45244-47c0-4010-bbc3-38d2d6ee1e4d"
      },
      "source": [
        "df.head(20)"
      ],
      "execution_count": 4,
      "outputs": [
        {
          "output_type": "execute_result",
          "data": {
            "text/plain": [
              "    Hours  Scores\n",
              "0     2.5      21\n",
              "1     5.1      47\n",
              "2     3.2      27\n",
              "3     8.5      75\n",
              "4     3.5      30\n",
              "5     1.5      20\n",
              "6     9.2      88\n",
              "7     5.5      60\n",
              "8     8.3      81\n",
              "9     2.7      25\n",
              "10    7.7      85\n",
              "11    5.9      62\n",
              "12    4.5      41\n",
              "13    3.3      42\n",
              "14    1.1      17\n",
              "15    8.9      95\n",
              "16    2.5      30\n",
              "17    1.9      24\n",
              "18    6.1      67\n",
              "19    7.4      69"
            ],
            "text/html": "<div>\n<style scoped>\n    .dataframe tbody tr th:only-of-type {\n        vertical-align: middle;\n    }\n\n    .dataframe tbody tr th {\n        vertical-align: top;\n    }\n\n    .dataframe thead th {\n        text-align: right;\n    }\n</style>\n<table border=\"1\" class=\"dataframe\">\n  <thead>\n    <tr style=\"text-align: right;\">\n      <th></th>\n      <th>Hours</th>\n      <th>Scores</th>\n    </tr>\n  </thead>\n  <tbody>\n    <tr>\n      <th>0</th>\n      <td>2.5</td>\n      <td>21</td>\n    </tr>\n    <tr>\n      <th>1</th>\n      <td>5.1</td>\n      <td>47</td>\n    </tr>\n    <tr>\n      <th>2</th>\n      <td>3.2</td>\n      <td>27</td>\n    </tr>\n    <tr>\n      <th>3</th>\n      <td>8.5</td>\n      <td>75</td>\n    </tr>\n    <tr>\n      <th>4</th>\n      <td>3.5</td>\n      <td>30</td>\n    </tr>\n    <tr>\n      <th>5</th>\n      <td>1.5</td>\n      <td>20</td>\n    </tr>\n    <tr>\n      <th>6</th>\n      <td>9.2</td>\n      <td>88</td>\n    </tr>\n    <tr>\n      <th>7</th>\n      <td>5.5</td>\n      <td>60</td>\n    </tr>\n    <tr>\n      <th>8</th>\n      <td>8.3</td>\n      <td>81</td>\n    </tr>\n    <tr>\n      <th>9</th>\n      <td>2.7</td>\n      <td>25</td>\n    </tr>\n    <tr>\n      <th>10</th>\n      <td>7.7</td>\n      <td>85</td>\n    </tr>\n    <tr>\n      <th>11</th>\n      <td>5.9</td>\n      <td>62</td>\n    </tr>\n    <tr>\n      <th>12</th>\n      <td>4.5</td>\n      <td>41</td>\n    </tr>\n    <tr>\n      <th>13</th>\n      <td>3.3</td>\n      <td>42</td>\n    </tr>\n    <tr>\n      <th>14</th>\n      <td>1.1</td>\n      <td>17</td>\n    </tr>\n    <tr>\n      <th>15</th>\n      <td>8.9</td>\n      <td>95</td>\n    </tr>\n    <tr>\n      <th>16</th>\n      <td>2.5</td>\n      <td>30</td>\n    </tr>\n    <tr>\n      <th>17</th>\n      <td>1.9</td>\n      <td>24</td>\n    </tr>\n    <tr>\n      <th>18</th>\n      <td>6.1</td>\n      <td>67</td>\n    </tr>\n    <tr>\n      <th>19</th>\n      <td>7.4</td>\n      <td>69</td>\n    </tr>\n  </tbody>\n</table>\n</div>"
          },
          "metadata": {},
          "execution_count": 4
        }
      ]
    },
    {
      "cell_type": "markdown",
      "metadata": {
        "id": "sUt_sJ_Y1q0F"
      },
      "source": [
        "## 3. Exiba o número de linhas de dados presentes no conjunto de dados selecionado."
      ]
    },
    {
      "cell_type": "code",
      "metadata": {
        "colab": {
          "base_uri": "https://localhost:8080/"
        },
        "id": "i4uPZZcr1ufW",
        "outputId": "1f1b8b8b-394d-499c-f396-531a91aa3a9a"
      },
      "source": [
        "df.shape[0]"
      ],
      "execution_count": 5,
      "outputs": [
        {
          "output_type": "execute_result",
          "data": {
            "text/plain": [
              "28"
            ]
          },
          "metadata": {},
          "execution_count": 5
        }
      ]
    },
    {
      "cell_type": "markdown",
      "metadata": {
        "id": "TjJ0gs5v20Ne"
      },
      "source": [
        "## 4. Exiba a média, o desvio padrão, e os valores mínimo e máximo de um campo numérico do conjunto de dados selecionado.\n",
        "\n",
        "### Campo numérico: Hours"
      ]
    },
    {
      "cell_type": "code",
      "metadata": {
        "colab": {
          "base_uri": "https://localhost:8080/",
          "height": 297
        },
        "id": "oWLLu12PBQZB",
        "outputId": "f460d092-5f05-4ff2-e18b-603af0920aaf"
      },
      "source": [
        "df.describe()"
      ],
      "execution_count": 6,
      "outputs": [
        {
          "output_type": "execute_result",
          "data": {
            "text/plain": [
              "           Hours     Scores\n",
              "count  28.000000  28.000000\n",
              "mean    4.832143  49.964286\n",
              "std     2.530562  25.041421\n",
              "min     1.100000  17.000000\n",
              "25%     2.675000  29.250000\n",
              "50%     4.650000  44.500000\n",
              "75%     7.025000  70.500000\n",
              "max     9.200000  95.000000"
            ],
            "text/html": "<div>\n<style scoped>\n    .dataframe tbody tr th:only-of-type {\n        vertical-align: middle;\n    }\n\n    .dataframe tbody tr th {\n        vertical-align: top;\n    }\n\n    .dataframe thead th {\n        text-align: right;\n    }\n</style>\n<table border=\"1\" class=\"dataframe\">\n  <thead>\n    <tr style=\"text-align: right;\">\n      <th></th>\n      <th>Hours</th>\n      <th>Scores</th>\n    </tr>\n  </thead>\n  <tbody>\n    <tr>\n      <th>count</th>\n      <td>28.000000</td>\n      <td>28.000000</td>\n    </tr>\n    <tr>\n      <th>mean</th>\n      <td>4.832143</td>\n      <td>49.964286</td>\n    </tr>\n    <tr>\n      <th>std</th>\n      <td>2.530562</td>\n      <td>25.041421</td>\n    </tr>\n    <tr>\n      <th>min</th>\n      <td>1.100000</td>\n      <td>17.000000</td>\n    </tr>\n    <tr>\n      <th>25%</th>\n      <td>2.675000</td>\n      <td>29.250000</td>\n    </tr>\n    <tr>\n      <th>50%</th>\n      <td>4.650000</td>\n      <td>44.500000</td>\n    </tr>\n    <tr>\n      <th>75%</th>\n      <td>7.025000</td>\n      <td>70.500000</td>\n    </tr>\n    <tr>\n      <th>max</th>\n      <td>9.200000</td>\n      <td>95.000000</td>\n    </tr>\n  </tbody>\n</table>\n</div>"
          },
          "metadata": {},
          "execution_count": 6
        }
      ]
    },
    {
      "cell_type": "code",
      "metadata": {
        "colab": {
          "base_uri": "https://localhost:8080/"
        },
        "id": "ZpSXFwVd21Ub",
        "outputId": "95d91b46-9b21-415a-8c15-2d61d00e5d7b"
      },
      "source": [
        "meanHours = df['Hours'].mean()\n",
        "meanHours"
      ],
      "execution_count": 7,
      "outputs": [
        {
          "output_type": "execute_result",
          "data": {
            "text/plain": [
              "4.832142857142856"
            ]
          },
          "metadata": {},
          "execution_count": 7
        }
      ]
    },
    {
      "cell_type": "code",
      "metadata": {
        "colab": {
          "base_uri": "https://localhost:8080/"
        },
        "id": "4hrBV7G3CUBA",
        "outputId": "4cec6cc3-8cc5-4646-af20-25c5bcbff450"
      },
      "source": [
        "stdHours = df['Hours'].std()\n",
        "stdHours"
      ],
      "execution_count": 8,
      "outputs": [
        {
          "output_type": "execute_result",
          "data": {
            "text/plain": [
              "2.53056187164894"
            ]
          },
          "metadata": {},
          "execution_count": 8
        }
      ]
    },
    {
      "cell_type": "code",
      "metadata": {
        "colab": {
          "base_uri": "https://localhost:8080/"
        },
        "id": "-2ZehJlJDW0i",
        "outputId": "a0ebeb91-c99b-4c60-c54b-de1d59d0d0d1"
      },
      "source": [
        "minHours = df['Hours'].min()\n",
        "minHours"
      ],
      "execution_count": 9,
      "outputs": [
        {
          "output_type": "execute_result",
          "data": {
            "text/plain": [
              "1.1"
            ]
          },
          "metadata": {},
          "execution_count": 9
        }
      ]
    },
    {
      "cell_type": "code",
      "metadata": {
        "colab": {
          "base_uri": "https://localhost:8080/"
        },
        "id": "vTruSObyEfqk",
        "outputId": "45e4f30e-c293-4eae-8717-e4c5fc4be19b"
      },
      "source": [
        "maxHours = df['Hours'].max()\n",
        "maxHours"
      ],
      "execution_count": 10,
      "outputs": [
        {
          "output_type": "execute_result",
          "data": {
            "text/plain": [
              "9.2"
            ]
          },
          "metadata": {},
          "execution_count": 10
        }
      ]
    },
    {
      "cell_type": "markdown",
      "metadata": {
        "id": "z72xaEJ-Eui_"
      },
      "source": [
        "## 5. Exiba as 5 primeiras linhas do conjunto de dados ordenado em ordem decrescente pelo mesmo campo numérico usado por você na questão 4.\n",
        "\n",
        "### Campo numérico: Hours"
      ]
    },
    {
      "cell_type": "code",
      "metadata": {
        "colab": {
          "base_uri": "https://localhost:8080/",
          "height": 204
        },
        "id": "KRYiovf-EyKD",
        "outputId": "358f5fa2-d4cd-4518-fc00-ea2eb98a5e2e"
      },
      "source": [
        "df.sort_values('Hours', ascending=False).head(5)"
      ],
      "execution_count": 11,
      "outputs": [
        {
          "output_type": "execute_result",
          "data": {
            "text/plain": [
              "    Hours  Scores\n",
              "6     9.2      88\n",
              "15    8.9      95\n",
              "3     8.5      75\n",
              "8     8.3      81\n",
              "24    7.8      86"
            ],
            "text/html": "<div>\n<style scoped>\n    .dataframe tbody tr th:only-of-type {\n        vertical-align: middle;\n    }\n\n    .dataframe tbody tr th {\n        vertical-align: top;\n    }\n\n    .dataframe thead th {\n        text-align: right;\n    }\n</style>\n<table border=\"1\" class=\"dataframe\">\n  <thead>\n    <tr style=\"text-align: right;\">\n      <th></th>\n      <th>Hours</th>\n      <th>Scores</th>\n    </tr>\n  </thead>\n  <tbody>\n    <tr>\n      <th>6</th>\n      <td>9.2</td>\n      <td>88</td>\n    </tr>\n    <tr>\n      <th>15</th>\n      <td>8.9</td>\n      <td>95</td>\n    </tr>\n    <tr>\n      <th>3</th>\n      <td>8.5</td>\n      <td>75</td>\n    </tr>\n    <tr>\n      <th>8</th>\n      <td>8.3</td>\n      <td>81</td>\n    </tr>\n    <tr>\n      <th>24</th>\n      <td>7.8</td>\n      <td>86</td>\n    </tr>\n  </tbody>\n</table>\n</div>"
          },
          "metadata": {},
          "execution_count": 11
        }
      ]
    }
  ]
}