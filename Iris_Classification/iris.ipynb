{
 "metadata": {
  "language_info": {
   "codemirror_mode": {
    "name": "ipython",
    "version": 3
   },
   "file_extension": ".py",
   "mimetype": "text/x-python",
   "name": "python",
   "nbconvert_exporter": "python",
   "pygments_lexer": "ipython3",
   "version": "3.8.5"
  },
  "orig_nbformat": 2,
  "kernelspec": {
   "name": "python385jvsc74a57bd01f09bd18c3bd6ca7f9726fc8dcfe1413a5b5683c291aaa94868dd31b44d43b4e",
   "display_name": "Python 3.8.5 64-bit ('base': conda)"
  }
 },
 "nbformat": 4,
 "nbformat_minor": 2,
 "cells": [
  {
   "source": [
    "## 1. Baixe o conjunto de dados Iris (https://www.kaggle.com/uciml/iris):\n"
   ],
   "cell_type": "markdown",
   "metadata": {}
  },
  {
   "cell_type": "code",
   "execution_count": 565,
   "metadata": {},
   "outputs": [],
   "source": [
    "import pandas as pd\n",
    "import numpy as np"
   ]
  },
  {
   "cell_type": "code",
   "execution_count": 566,
   "metadata": {},
   "outputs": [
    {
     "output_type": "stream",
     "name": "stdout",
     "text": [
      "    SepalLengthCm  SepalWidthCm  PetalLengthCm  PetalWidthCm      Species\nId                                                                       \n1             5.1           3.5            1.4           0.2  Iris-setosa\n2             4.9           3.0            1.4           0.2  Iris-setosa\n3             4.7           3.2            1.3           0.2  Iris-setosa\n4             4.6           3.1            1.5           0.2  Iris-setosa\n5             5.0           3.6            1.4           0.2  Iris-setosa\n(150, 5)\n"
     ]
    }
   ],
   "source": [
    "# reading iris dataset\n",
    "iris = pd.read_csv(\"dataset/iris.csv\", index_col=0)\n",
    "print(iris.head())\n",
    "print(iris.shape)"
   ]
  },
  {
   "source": [
    "## 2. Exiba a quantidade de amostras existente em cada classe."
   ],
   "cell_type": "markdown",
   "metadata": {}
  },
  {
   "cell_type": "code",
   "execution_count": 567,
   "metadata": {},
   "outputs": [
    {
     "output_type": "stream",
     "name": "stdout",
     "text": [
      "Iris-setosa: 50 amostras\nIris-virginica: 50 amostras\nIris-versicolor: 50 amostras\n"
     ]
    }
   ],
   "source": [
    "# separated by species\n",
    "type_setosa = iris[iris[\"Species\"] == \"Iris-setosa\"]\n",
    "type_virginica = iris[iris[\"Species\"] == \"Iris-virginica\"]\n",
    "type_versicolor = iris[iris[\"Species\"] == \"Iris-versicolor\"]\n",
    "# number of observations\n",
    "print(\"Iris-setosa: \" + str(type_setosa.shape[0]) + \" amostras\")\n",
    "print(\"Iris-virginica: \" + str(type_virginica.shape[0]) + \" amostras\")\n",
    "print(\"Iris-versicolor: \" + str(type_versicolor.shape[0]) + \" amostras\")"
   ]
  },
  {
   "source": [
    "## 3. Separe aleatoriamente 80% dos dados para treino (conjunto de treino) e 20% dos dados para teste (conjunto de teste). Para esta separação, use somente recursos do Python, Numpy ou Pandas. Não use o Scikit Learn para isso."
   ],
   "cell_type": "markdown",
   "metadata": {}
  },
  {
   "cell_type": "code",
   "execution_count": 568,
   "metadata": {
    "tags": []
   },
   "outputs": [
    {
     "output_type": "stream",
     "name": "stdout",
     "text": [
      "     SepalLengthCm  SepalWidthCm  PetalLengthCm  PetalWidthCm         Species\nId                                                                           \n1              5.1           3.5            1.4           0.2     Iris-setosa\n4              4.6           3.1            1.5           0.2     Iris-setosa\n5              5.0           3.6            1.4           0.2     Iris-setosa\n6              5.4           3.9            1.7           0.4     Iris-setosa\n7              4.6           3.4            1.4           0.3     Iris-setosa\n..             ...           ...            ...           ...             ...\n146            6.7           3.0            5.2           2.3  Iris-virginica\n147            6.3           2.5            5.0           1.9  Iris-virginica\n148            6.5           3.0            5.2           2.0  Iris-virginica\n149            6.2           3.4            5.4           2.3  Iris-virginica\n150            5.9           3.0            5.1           1.8  Iris-virginica\n\n[120 rows x 5 columns]\n(120, 5)\n     SepalLengthCm  SepalWidthCm  PetalLengthCm  PetalWidthCm          Species\nId                                                                            \n2              4.9           3.0            1.4           0.2      Iris-setosa\n3              4.7           3.2            1.3           0.2      Iris-setosa\n8              5.0           3.4            1.5           0.2      Iris-setosa\n11             5.4           3.7            1.5           0.2      Iris-setosa\n16             5.7           4.4            1.5           0.4      Iris-setosa\n19             5.7           3.8            1.7           0.3      Iris-setosa\n26             5.0           3.0            1.6           0.2      Iris-setosa\n29             5.2           3.4            1.4           0.2      Iris-setosa\n32             5.4           3.4            1.5           0.4      Iris-setosa\n37             5.5           3.5            1.3           0.2      Iris-setosa\n52             6.4           3.2            4.5           1.5  Iris-versicolor\n53             6.9           3.1            4.9           1.5  Iris-versicolor\n58             4.9           2.4            3.3           1.0  Iris-versicolor\n61             5.0           2.0            3.5           1.0  Iris-versicolor\n66             6.7           3.1            4.4           1.4  Iris-versicolor\n69             6.2           2.2            4.5           1.5  Iris-versicolor\n76             6.6           3.0            4.4           1.4  Iris-versicolor\n79             6.0           2.9            4.5           1.5  Iris-versicolor\n82             5.5           2.4            3.7           1.0  Iris-versicolor\n87             6.7           3.1            4.7           1.5  Iris-versicolor\n102            5.8           2.7            5.1           1.9   Iris-virginica\n103            7.1           3.0            5.9           2.1   Iris-virginica\n108            7.3           2.9            6.3           1.8   Iris-virginica\n111            6.5           3.2            5.1           2.0   Iris-virginica\n116            6.4           3.2            5.3           2.3   Iris-virginica\n119            7.7           2.6            6.9           2.3   Iris-virginica\n126            7.2           3.2            6.0           1.8   Iris-virginica\n129            6.4           2.8            5.6           2.1   Iris-virginica\n132            7.9           3.8            6.4           2.0   Iris-virginica\n137            6.3           3.4            5.6           2.4   Iris-virginica\n(30, 5)\n"
     ]
    }
   ],
   "source": [
    "# list to separete train data (80% - 120 observations) and test data (20% - 30 observations)\n",
    "a_test = np.array([False]*50)\n",
    "index = 0\n",
    "while index < 10 :\n",
    "    num = np.random.randint(0,50) # create 10 random values to set True on the a_train indexes\n",
    "    if a_test[num] == False :\n",
    "        a_test[num] = True\n",
    "        index += 1\n",
    "\n",
    "# create a test dataframe with 30 observations\n",
    "test_data = pd.concat([type_setosa[a_test], type_versicolor[a_test], type_virginica[a_test]])\n",
    "\n",
    "# invert all values of a_train to crate the test dataframe\n",
    "a_train = np.invert(a_test)\n",
    "\n",
    "# create a train dataframe with 120 observations\n",
    "train_data = pd.concat([type_setosa[a_train], type_versicolor[a_train], type_virginica[a_train]])\n",
    "\n",
    "print(train_data)\n",
    "print(train_data.shape)\n",
    "print(test_data)\n",
    "print(test_data.shape)"
   ]
  },
  {
   "source": [
    "## 4. Usando somente o conjunto de treino, mostre as médias dos valores de cada feature para cada classe."
   ],
   "cell_type": "markdown",
   "metadata": {}
  },
  {
   "cell_type": "code",
   "execution_count": 569,
   "metadata": {},
   "outputs": [
    {
     "output_type": "execute_result",
     "data": {
      "text/plain": [
       "                 SepalLengthCm  SepalWidthCm  PetalLengthCm  PetalWidthCm\n",
       "Species                                                                  \n",
       "Iris-setosa             4.9450        3.4025         1.4625        0.2425\n",
       "Iris-versicolor         5.8975        2.7775         4.2650        1.3250\n",
       "Iris-virginica          6.5200        2.9475         5.4850        2.0150"
      ],
      "text/html": "<div>\n<style scoped>\n    .dataframe tbody tr th:only-of-type {\n        vertical-align: middle;\n    }\n\n    .dataframe tbody tr th {\n        vertical-align: top;\n    }\n\n    .dataframe thead th {\n        text-align: right;\n    }\n</style>\n<table border=\"1\" class=\"dataframe\">\n  <thead>\n    <tr style=\"text-align: right;\">\n      <th></th>\n      <th>SepalLengthCm</th>\n      <th>SepalWidthCm</th>\n      <th>PetalLengthCm</th>\n      <th>PetalWidthCm</th>\n    </tr>\n    <tr>\n      <th>Species</th>\n      <th></th>\n      <th></th>\n      <th></th>\n      <th></th>\n    </tr>\n  </thead>\n  <tbody>\n    <tr>\n      <th>Iris-setosa</th>\n      <td>4.9450</td>\n      <td>3.4025</td>\n      <td>1.4625</td>\n      <td>0.2425</td>\n    </tr>\n    <tr>\n      <th>Iris-versicolor</th>\n      <td>5.8975</td>\n      <td>2.7775</td>\n      <td>4.2650</td>\n      <td>1.3250</td>\n    </tr>\n    <tr>\n      <th>Iris-virginica</th>\n      <td>6.5200</td>\n      <td>2.9475</td>\n      <td>5.4850</td>\n      <td>2.0150</td>\n    </tr>\n  </tbody>\n</table>\n</div>"
     },
     "metadata": {},
     "execution_count": 569
    }
   ],
   "source": [
    "train_data.groupby(\"Species\").mean()"
   ]
  },
  {
   "source": [
    "## 5. Crie um algoritmo seu (sem usar aprendizado de máquina) para baseado nas médias das features calculadas no item 4, ou mesmo usando outras ideias suas, classificar corretamente as amostras do conjunto de teste. Aperfeçoe o seu algoritmo de forma a obter melhores resultados."
   ],
   "cell_type": "markdown",
   "metadata": {}
  },
  {
   "cell_type": "code",
   "execution_count": 570,
   "metadata": {},
   "outputs": [
    {
     "output_type": "execute_result",
     "data": {
      "text/plain": [
       "       SepalLengthCm  SepalWidthCm  PetalLengthCm  PetalWidthCm\n",
       "count     120.000000    120.000000     120.000000    120.000000\n",
       "mean        5.787500      3.042500       3.737500      1.194167\n",
       "std         0.806441      0.417206       1.740958      0.761831\n",
       "min         4.300000      2.200000       1.000000      0.100000\n",
       "25%         5.100000      2.800000       1.600000      0.300000\n",
       "50%         5.750000      3.000000       4.250000      1.300000\n",
       "75%         6.300000      3.300000       5.100000      1.800000\n",
       "max         7.700000      4.200000       6.700000      2.500000"
      ],
      "text/html": "<div>\n<style scoped>\n    .dataframe tbody tr th:only-of-type {\n        vertical-align: middle;\n    }\n\n    .dataframe tbody tr th {\n        vertical-align: top;\n    }\n\n    .dataframe thead th {\n        text-align: right;\n    }\n</style>\n<table border=\"1\" class=\"dataframe\">\n  <thead>\n    <tr style=\"text-align: right;\">\n      <th></th>\n      <th>SepalLengthCm</th>\n      <th>SepalWidthCm</th>\n      <th>PetalLengthCm</th>\n      <th>PetalWidthCm</th>\n    </tr>\n  </thead>\n  <tbody>\n    <tr>\n      <th>count</th>\n      <td>120.000000</td>\n      <td>120.000000</td>\n      <td>120.000000</td>\n      <td>120.000000</td>\n    </tr>\n    <tr>\n      <th>mean</th>\n      <td>5.787500</td>\n      <td>3.042500</td>\n      <td>3.737500</td>\n      <td>1.194167</td>\n    </tr>\n    <tr>\n      <th>std</th>\n      <td>0.806441</td>\n      <td>0.417206</td>\n      <td>1.740958</td>\n      <td>0.761831</td>\n    </tr>\n    <tr>\n      <th>min</th>\n      <td>4.300000</td>\n      <td>2.200000</td>\n      <td>1.000000</td>\n      <td>0.100000</td>\n    </tr>\n    <tr>\n      <th>25%</th>\n      <td>5.100000</td>\n      <td>2.800000</td>\n      <td>1.600000</td>\n      <td>0.300000</td>\n    </tr>\n    <tr>\n      <th>50%</th>\n      <td>5.750000</td>\n      <td>3.000000</td>\n      <td>4.250000</td>\n      <td>1.300000</td>\n    </tr>\n    <tr>\n      <th>75%</th>\n      <td>6.300000</td>\n      <td>3.300000</td>\n      <td>5.100000</td>\n      <td>1.800000</td>\n    </tr>\n    <tr>\n      <th>max</th>\n      <td>7.700000</td>\n      <td>4.200000</td>\n      <td>6.700000</td>\n      <td>2.500000</td>\n    </tr>\n  </tbody>\n</table>\n</div>"
     },
     "metadata": {},
     "execution_count": 570
    }
   ],
   "source": [
    "# Analyze correlation between the features\n",
    "train_data.describe()"
   ]
  },
  {
   "cell_type": "code",
   "execution_count": 571,
   "metadata": {},
   "outputs": [],
   "source": [
    "def personal_classifier(df_test:pd.DataFrame):\n",
    "    '''\n",
    "    Parameters: df_test = pandas.DataFrame (test dataset).\n",
    "    Return: numpy.Array = [\"Iris_setosa\", \"Iris_versicolor\" ou \"Iris_virginica\"] (classification type).\n",
    "    '''\n",
    "\n",
    "    classification = \"\"\n",
    "\n",
    "    train_petal_info = train_data.groupby(\"Species\").agg(np.mean)\n",
    "    train_petal_info = train_petal_info[[\"PetalLengthCm\", \"PetalWidthCm\"]]\n",
    "    np_train_petal_lenght = np.array(train_petal_info.iloc[:, 0])\n",
    "    np_train_petal_width = np.array(train_petal_info.iloc[:, 1])\n",
    "    #print(np_train_petal_lenght)\n",
    "    #print(train_petal_info)\n",
    "\n",
    "    test_petal_info = df_test[[\"PetalLengthCm\", \"PetalWidthCm\"]]\n",
    "    np_test_petal_lenght = np.array(test_petal_info.iloc[:, 0])\n",
    "    np_test_petal_width = np.array(test_petal_info.iloc[:, 1])\n",
    "    #print(np_test_petal_lenght)\n",
    "\n",
    "    l_train = []\n",
    "\n",
    "    # Setosa test\n",
    "    train = np_train_petal_lenght[0]\n",
    "    for test in np_test_petal_lenght :\n",
    "        l_train.append([abs(train - test), \"Iris-setosa\"])\n",
    "\n",
    "    #print(l_train)\n",
    "    index = 0\n",
    "    # Versicolor test\n",
    "    train = np_train_petal_lenght[1]\n",
    "    for test in np_test_petal_lenght :\n",
    "        if (abs(train - test) < l_train[index][0]) :\n",
    "            l_train[index] = [abs(train - test), \"Iris-versicolor\"]\n",
    "        index += 1\n",
    "    \n",
    "    #print(l_train)\n",
    "    index = 0\n",
    "    # Virginica test\n",
    "    train = np_train_petal_lenght[2]\n",
    "    for test in np_test_petal_lenght :\n",
    "        if (abs(train - test) < l_train[index][0]) :\n",
    "            l_train[index] = [abs(train - test), \"Iris-virginica\"]\n",
    "        index += 1\n",
    "    \n",
    "    np_l_train = np.array(l_train)\n",
    "    return np_l_train[:,1]"
   ]
  },
  {
   "cell_type": "code",
   "execution_count": 572,
   "metadata": {},
   "outputs": [
    {
     "output_type": "stream",
     "name": "stdout",
     "text": [
      "['Iris_setosa' 'Iris_setosa' 'Iris_setosa' 'Iris_setosa' 'Iris_setosa'\n 'Iris_setosa' 'Iris_setosa' 'Iris_setosa' 'Iris_setosa' 'Iris_setosa'\n 'Iris_versicolor' 'Iris_versicolor' 'Iris_versicolor' 'Iris_versicolor'\n 'Iris_versicolor' 'Iris_versicolor' 'Iris_versicolor' 'Iris_versicolor'\n 'Iris_versicolor' 'Iris_versicolor' 'Iris_virginica' 'Iris_virginica'\n 'Iris_virginica' 'Iris_virginica' 'Iris_virginica' 'Iris_virginica'\n 'Iris_versicolor' 'Iris_virginica' 'Iris_virginica' 'Iris_virginica']\n"
     ]
    }
   ],
   "source": [
    "predicted_values = personal_classifier(test_data)\n",
    "print(result)"
   ]
  },
  {
   "source": [
    "## 6. Quanto por cento no conjunto de teste você conseguiu acertar corretamente o rótulo (classe) no seu melhor algoritmo, ou seja, qual a acurácia?"
   ],
   "cell_type": "markdown",
   "metadata": {}
  },
  {
   "cell_type": "code",
   "execution_count": 573,
   "metadata": {},
   "outputs": [
    {
     "output_type": "stream",
     "name": "stdout",
     "text": [
      "96.67 %\n"
     ]
    }
   ],
   "source": [
    "def personal_evaluation(real_values, predicted_values) :\n",
    "    count = 0\n",
    "    for index in range(30) :\n",
    "        if real_values[index] == predicted_values[index] :\n",
    "            count += 1\n",
    "        #print(real_values[index], predicted_values[index])\n",
    "            \n",
    "    return round(count*100 / real_values.shape[0], 2)\n",
    "    \n",
    "\n",
    "real_values = np.array(test_data[\"Species\"])\n",
    "evaluation = personal_evaluation(real_values, predicted_values)\n",
    "print(str(evaluation) + \" %\")"
   ]
  }
 ]
}