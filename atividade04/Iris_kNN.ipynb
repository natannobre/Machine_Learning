{
 "metadata": {
  "language_info": {
   "codemirror_mode": {
    "name": "ipython",
    "version": 3
   },
   "file_extension": ".py",
   "mimetype": "text/x-python",
   "name": "python",
   "nbconvert_exporter": "python",
   "pygments_lexer": "ipython3",
   "version": "3.8.5"
  },
  "orig_nbformat": 2,
  "kernelspec": {
   "name": "python385jvsc74a57bd01f09bd18c3bd6ca7f9726fc8dcfe1413a5b5683c291aaa94868dd31b44d43b4e",
   "display_name": "Python 3.8.5 64-bit ('base': conda)"
  }
 },
 "nbformat": 4,
 "nbformat_minor": 2,
 "cells": [
  {
   "source": [
    " ## 1. Resolver a classificação do Iris dataset para k=3 e k=5 com essas funções que implementamos no documento colab. Usando 70% dos dados para treino e 30% para teste. Ou seja: não é para usar a implementação do scikit para o kNN, nem o split_train_test do scikit."
   ],
   "cell_type": "markdown",
   "metadata": {}
  },
  {
   "cell_type": "code",
   "execution_count": 466,
   "metadata": {},
   "outputs": [],
   "source": [
    "import pandas as pd\n",
    "import numpy as np\n",
    "import matplotlib.pyplot as plt"
   ]
  },
  {
   "cell_type": "code",
   "execution_count": 467,
   "metadata": {},
   "outputs": [
    {
     "output_type": "stream",
     "name": "stdout",
     "text": [
      "    SepalLengthCm  SepalWidthCm  PetalLengthCm  PetalWidthCm      Species\nId                                                                       \n1             5.1           3.5            1.4           0.2  Iris-setosa\n2             4.9           3.0            1.4           0.2  Iris-setosa\n3             4.7           3.2            1.3           0.2  Iris-setosa\n4             4.6           3.1            1.5           0.2  Iris-setosa\n5             5.0           3.6            1.4           0.2  Iris-setosa\n(150, 5)\n"
     ]
    }
   ],
   "source": [
    "# reading iris dataset\n",
    "iris = pd.read_csv(\"dataset/iris.csv\", index_col=0)\n",
    "print(iris.head())\n",
    "print(iris.shape)"
   ]
  },
  {
   "cell_type": "code",
   "execution_count": 468,
   "metadata": {},
   "outputs": [
    {
     "output_type": "stream",
     "name": "stdout",
     "text": [
      "Iris-setosa: 50 amostras\nIris-virginica: 50 amostras\nIris-versicolor: 50 amostras\n    SepalLengthCm  SepalWidthCm  PetalLengthCm  PetalWidthCm      Species\nId                                                                       \n1             5.1           3.5            1.4           0.2  Iris-setosa\n2             4.9           3.0            1.4           0.2  Iris-setosa\n3             4.7           3.2            1.3           0.2  Iris-setosa\n4             4.6           3.1            1.5           0.2  Iris-setosa\n5             5.0           3.6            1.4           0.2  Iris-setosa\n6             5.4           3.9            1.7           0.4  Iris-setosa\n7             4.6           3.4            1.4           0.3  Iris-setosa\n8             5.0           3.4            1.5           0.2  Iris-setosa\n9             4.4           2.9            1.4           0.2  Iris-setosa\n10            4.9           3.1            1.5           0.1  Iris-setosa\n11            5.4           3.7            1.5           0.2  Iris-setosa\n12            4.8           3.4            1.6           0.2  Iris-setosa\n13            4.8           3.0            1.4           0.1  Iris-setosa\n14            4.3           3.0            1.1           0.1  Iris-setosa\n15            5.8           4.0            1.2           0.2  Iris-setosa\n16            5.7           4.4            1.5           0.4  Iris-setosa\n17            5.4           3.9            1.3           0.4  Iris-setosa\n18            5.1           3.5            1.4           0.3  Iris-setosa\n19            5.7           3.8            1.7           0.3  Iris-setosa\n20            5.1           3.8            1.5           0.3  Iris-setosa\n21            5.4           3.4            1.7           0.2  Iris-setosa\n22            5.1           3.7            1.5           0.4  Iris-setosa\n23            4.6           3.6            1.0           0.2  Iris-setosa\n24            5.1           3.3            1.7           0.5  Iris-setosa\n25            4.8           3.4            1.9           0.2  Iris-setosa\n26            5.0           3.0            1.6           0.2  Iris-setosa\n27            5.0           3.4            1.6           0.4  Iris-setosa\n28            5.2           3.5            1.5           0.2  Iris-setosa\n29            5.2           3.4            1.4           0.2  Iris-setosa\n30            4.7           3.2            1.6           0.2  Iris-setosa\n31            4.8           3.1            1.6           0.2  Iris-setosa\n32            5.4           3.4            1.5           0.4  Iris-setosa\n33            5.2           4.1            1.5           0.1  Iris-setosa\n34            5.5           4.2            1.4           0.2  Iris-setosa\n35            4.9           3.1            1.5           0.1  Iris-setosa\n36            5.0           3.2            1.2           0.2  Iris-setosa\n37            5.5           3.5            1.3           0.2  Iris-setosa\n38            4.9           3.1            1.5           0.1  Iris-setosa\n39            4.4           3.0            1.3           0.2  Iris-setosa\n40            5.1           3.4            1.5           0.2  Iris-setosa\n41            5.0           3.5            1.3           0.3  Iris-setosa\n42            4.5           2.3            1.3           0.3  Iris-setosa\n43            4.4           3.2            1.3           0.2  Iris-setosa\n44            5.0           3.5            1.6           0.6  Iris-setosa\n45            5.1           3.8            1.9           0.4  Iris-setosa\n46            4.8           3.0            1.4           0.3  Iris-setosa\n47            5.1           3.8            1.6           0.2  Iris-setosa\n48            4.6           3.2            1.4           0.2  Iris-setosa\n49            5.3           3.7            1.5           0.2  Iris-setosa\n50            5.0           3.3            1.4           0.2  Iris-setosa\n"
     ]
    }
   ],
   "source": [
    "# separated by species\n",
    "type_setosa = iris[iris[\"Species\"] == \"Iris-setosa\"]\n",
    "type_virginica = iris[iris[\"Species\"] == \"Iris-virginica\"]\n",
    "type_versicolor = iris[iris[\"Species\"] == \"Iris-versicolor\"]\n",
    "# number of observations\n",
    "print(\"Iris-setosa: \" + str(type_setosa.shape[0]) + \" amostras\")\n",
    "print(\"Iris-virginica: \" + str(type_virginica.shape[0]) + \" amostras\")\n",
    "print(\"Iris-versicolor: \" + str(type_versicolor.shape[0]) + \" amostras\")\n",
    "print(type_setosa)"
   ]
  },
  {
   "cell_type": "code",
   "execution_count": 469,
   "metadata": {},
   "outputs": [
    {
     "output_type": "stream",
     "name": "stdout",
     "text": [
      "     SepalLengthCm  SepalWidthCm  PetalLengthCm  PetalWidthCm         Species\nId                                                                           \n46             4.8           3.0            1.4           0.3     Iris-setosa\n41             5.0           3.5            1.3           0.3     Iris-setosa\n33             5.2           4.1            1.5           0.1     Iris-setosa\n39             4.4           3.0            1.3           0.2     Iris-setosa\n26             5.0           3.0            1.6           0.2     Iris-setosa\n..             ...           ...            ...           ...             ...\n113            6.8           3.0            5.5           2.1  Iris-virginica\n127            6.2           2.8            4.8           1.8  Iris-virginica\n104            6.3           2.9            5.6           1.8  Iris-virginica\n148            6.5           3.0            5.2           2.0  Iris-virginica\n116            6.4           3.2            5.3           2.3  Iris-virginica\n\n[105 rows x 5 columns]\n"
     ]
    }
   ],
   "source": [
    "# All classes are shuffled\n",
    "type_setosa = type_setosa.sample(frac=1)\n",
    "type_versicolor = type_versicolor.sample(frac=1)\n",
    "type_virginica = type_virginica.sample(frac=1)\n",
    "\n",
    "# Classes concatenated to create train data and test data\n",
    "train_data = pd.concat([type_setosa[:int(type_setosa.shape[0]*0.7)], type_versicolor[:int(type_versicolor.shape[0]*0.7)], type_virginica[:int(type_virginica.shape[0]*0.7)]])\n",
    "print(train_data)\n",
    "test_data = pd.concat([type_setosa[int(type_setosa.shape[0]*0.7):], type_versicolor[int(type_versicolor.shape[0]*0.7):], type_virginica[int(type_virginica.shape[0]*0.7):]])"
   ]
  },
  {
   "cell_type": "code",
   "execution_count": 470,
   "metadata": {},
   "outputs": [
    {
     "output_type": "stream",
     "name": "stdout",
     "text": [
      "(45, 5)\n(105, 5)\n     SepalLengthCm  SepalWidthCm  PetalLengthCm  PetalWidthCm         Species\nId                                                                           \n46             4.8           3.0            1.4           0.3     Iris-setosa\n41             5.0           3.5            1.3           0.3     Iris-setosa\n33             5.2           4.1            1.5           0.1     Iris-setosa\n39             4.4           3.0            1.3           0.2     Iris-setosa\n26             5.0           3.0            1.6           0.2     Iris-setosa\n..             ...           ...            ...           ...             ...\n113            6.8           3.0            5.5           2.1  Iris-virginica\n127            6.2           2.8            4.8           1.8  Iris-virginica\n104            6.3           2.9            5.6           1.8  Iris-virginica\n148            6.5           3.0            5.2           2.0  Iris-virginica\n116            6.4           3.2            5.3           2.3  Iris-virginica\n\n[105 rows x 5 columns]\n"
     ]
    }
   ],
   "source": [
    "print(test_data.shape)\n",
    "print(train_data.shape)\n",
    "print(train_data)"
   ]
  },
  {
   "cell_type": "code",
   "execution_count": 471,
   "metadata": {},
   "outputs": [],
   "source": [
    "def euclidean_distances(X, X_row):\n",
    "    X_ = (X - X_row) ** 2\n",
    "    return np.sum(X_, axis=1) ** 0.5"
   ]
  },
  {
   "cell_type": "code",
   "execution_count": 472,
   "metadata": {},
   "outputs": [],
   "source": [
    "def get_neighbors(X_train, test_row, k):\n",
    "    distances = euclidean_distances(X_train, test_row)\n",
    "    idx_sort = np.argsort(distances)\n",
    "    return idx_sort[:k]"
   ]
  },
  {
   "cell_type": "code",
   "execution_count": 473,
   "metadata": {},
   "outputs": [],
   "source": [
    "def predict_classification(X, y, test_row, k):\n",
    "    idx_sort = get_neighbors(X, test_row, k)\n",
    "    output_values = y[idx_sort]\n",
    "    counts = np.unique(output_values, return_counts=True)\n",
    "    idx_max = np.argmax(counts[1])\n",
    "    prediction = counts[0][idx_max]\n",
    "    #print('idx_sort:{}, output_values:{}, prediction:{}'.format(idx_sort, output_values, prediction))\n",
    "    return prediction"
   ]
  },
  {
   "cell_type": "code",
   "execution_count": 474,
   "metadata": {},
   "outputs": [],
   "source": [
    "# Formating the data to fit on the functions above\n",
    "y_train = train_data['Species'].values\n",
    "X_train = train_data\n",
    "del X_train['Species']\n",
    "X_train = X_train.values"
   ]
  },
  {
   "cell_type": "code",
   "execution_count": 475,
   "metadata": {},
   "outputs": [
    {
     "output_type": "stream",
     "name": "stdout",
     "text": [
      "[[4.8 3.  1.4 0.3]\n [5.  3.5 1.3 0.3]\n [5.2 4.1 1.5 0.1]\n [4.4 3.  1.3 0.2]\n [5.  3.  1.6 0.2]\n [5.4 3.4 1.5 0.4]\n [4.8 3.4 1.6 0.2]\n [4.9 3.1 1.5 0.1]\n [4.6 3.2 1.4 0.2]\n [4.6 3.6 1.  0.2]\n [5.1 3.3 1.7 0.5]\n [4.4 2.9 1.4 0.2]\n [4.5 2.3 1.3 0.3]\n [5.1 3.5 1.4 0.3]\n [5.1 3.4 1.5 0.2]\n [4.8 3.  1.4 0.1]\n [5.  3.6 1.4 0.2]\n [4.6 3.4 1.4 0.3]\n [5.4 3.9 1.7 0.4]\n [4.6 3.1 1.5 0.2]\n [5.7 3.8 1.7 0.3]\n [4.9 3.1 1.5 0.1]\n [5.4 3.4 1.7 0.2]\n [5.5 4.2 1.4 0.2]\n [5.7 4.4 1.5 0.4]\n [5.1 3.5 1.4 0.2]\n [4.9 3.  1.4 0.2]\n [5.5 3.5 1.3 0.2]\n [4.8 3.4 1.9 0.2]\n [4.3 3.  1.1 0.1]\n [5.  3.4 1.6 0.4]\n [4.7 3.2 1.3 0.2]\n [4.7 3.2 1.6 0.2]\n [5.2 3.4 1.4 0.2]\n [5.1 3.8 1.6 0.2]\n [6.7 3.  5.  1.7]\n [6.3 2.3 4.4 1.3]\n [6.3 2.5 4.9 1.5]\n [5.5 2.4 3.7 1. ]\n [7.  3.2 4.7 1.4]\n [5.6 2.5 3.9 1.1]\n [5.9 3.  4.2 1.5]\n [5.5 2.6 4.4 1.2]\n [6.8 2.8 4.8 1.4]\n [6.2 2.9 4.3 1.3]\n [6.1 2.8 4.  1.3]\n [5.7 2.9 4.2 1.3]\n [6.3 3.3 4.7 1.6]\n [5.  2.3 3.3 1. ]\n [6.1 2.9 4.7 1.4]\n [5.2 2.7 3.9 1.4]\n [6.7 3.1 4.7 1.5]\n [5.5 2.4 3.8 1.1]\n [5.5 2.5 4.  1.3]\n [6.6 2.9 4.6 1.3]\n [5.5 2.3 4.  1.3]\n [6.1 3.  4.6 1.4]\n [6.4 3.2 4.5 1.5]\n [5.7 3.  4.2 1.2]\n [5.6 3.  4.1 1.3]\n [5.7 2.8 4.5 1.3]\n [5.8 2.7 3.9 1.2]\n [5.8 2.6 4.  1.2]\n [5.8 2.7 4.1 1. ]\n [6.9 3.1 4.9 1.5]\n [6.4 2.9 4.3 1.3]\n [4.9 2.4 3.3 1. ]\n [5.9 3.2 4.8 1.8]\n [5.6 3.  4.5 1.5]\n [6.  2.2 4.  1. ]\n [5.6 2.8 4.9 2. ]\n [7.4 2.8 6.1 1.9]\n [5.9 3.  5.1 1.8]\n [6.4 2.7 5.3 1.9]\n [7.7 3.  6.1 2.3]\n [6.7 3.1 5.6 2.4]\n [6.1 3.  4.9 1.8]\n [7.9 3.8 6.4 2. ]\n [6.9 3.2 5.7 2.3]\n [7.2 3.  5.8 1.6]\n [6.9 3.1 5.4 2.1]\n [7.7 2.8 6.7 2. ]\n [6.3 2.8 5.1 1.5]\n [6.7 3.  5.2 2.3]\n [6.7 2.5 5.8 1.8]\n [7.7 2.6 6.9 2.3]\n [6.7 3.3 5.7 2.5]\n [6.1 2.6 5.6 1.4]\n [6.3 2.7 4.9 1.8]\n [7.1 3.  5.9 2.1]\n [4.9 2.5 4.5 1.7]\n [7.3 2.9 6.3 1.8]\n [5.8 2.8 5.1 2.4]\n [7.7 3.8 6.7 2.2]\n [7.2 3.6 6.1 2.5]\n [6.5 3.  5.8 2.2]\n [5.8 2.7 5.1 1.9]\n [6.  2.2 5.  1.5]\n [6.5 3.2 5.1 2. ]\n [6.3 3.3 6.  2.5]\n [6.8 3.  5.5 2.1]\n [6.2 2.8 4.8 1.8]\n [6.3 2.9 5.6 1.8]\n [6.5 3.  5.2 2. ]\n [6.4 3.2 5.3 2.3]]\n['Iris-setosa' 'Iris-setosa' 'Iris-setosa' 'Iris-setosa' 'Iris-setosa'\n 'Iris-setosa' 'Iris-setosa' 'Iris-setosa' 'Iris-setosa' 'Iris-setosa'\n 'Iris-setosa' 'Iris-setosa' 'Iris-setosa' 'Iris-setosa' 'Iris-setosa'\n 'Iris-setosa' 'Iris-setosa' 'Iris-setosa' 'Iris-setosa' 'Iris-setosa'\n 'Iris-setosa' 'Iris-setosa' 'Iris-setosa' 'Iris-setosa' 'Iris-setosa'\n 'Iris-setosa' 'Iris-setosa' 'Iris-setosa' 'Iris-setosa' 'Iris-setosa'\n 'Iris-setosa' 'Iris-setosa' 'Iris-setosa' 'Iris-setosa' 'Iris-setosa'\n 'Iris-versicolor' 'Iris-versicolor' 'Iris-versicolor' 'Iris-versicolor'\n 'Iris-versicolor' 'Iris-versicolor' 'Iris-versicolor' 'Iris-versicolor'\n 'Iris-versicolor' 'Iris-versicolor' 'Iris-versicolor' 'Iris-versicolor'\n 'Iris-versicolor' 'Iris-versicolor' 'Iris-versicolor' 'Iris-versicolor'\n 'Iris-versicolor' 'Iris-versicolor' 'Iris-versicolor' 'Iris-versicolor'\n 'Iris-versicolor' 'Iris-versicolor' 'Iris-versicolor' 'Iris-versicolor'\n 'Iris-versicolor' 'Iris-versicolor' 'Iris-versicolor' 'Iris-versicolor'\n 'Iris-versicolor' 'Iris-versicolor' 'Iris-versicolor' 'Iris-versicolor'\n 'Iris-versicolor' 'Iris-versicolor' 'Iris-versicolor' 'Iris-virginica'\n 'Iris-virginica' 'Iris-virginica' 'Iris-virginica' 'Iris-virginica'\n 'Iris-virginica' 'Iris-virginica' 'Iris-virginica' 'Iris-virginica'\n 'Iris-virginica' 'Iris-virginica' 'Iris-virginica' 'Iris-virginica'\n 'Iris-virginica' 'Iris-virginica' 'Iris-virginica' 'Iris-virginica'\n 'Iris-virginica' 'Iris-virginica' 'Iris-virginica' 'Iris-virginica'\n 'Iris-virginica' 'Iris-virginica' 'Iris-virginica' 'Iris-virginica'\n 'Iris-virginica' 'Iris-virginica' 'Iris-virginica' 'Iris-virginica'\n 'Iris-virginica' 'Iris-virginica' 'Iris-virginica' 'Iris-virginica'\n 'Iris-virginica' 'Iris-virginica']\n"
     ]
    }
   ],
   "source": [
    "print(X_train)\n",
    "print(y_train)"
   ]
  },
  {
   "cell_type": "code",
   "execution_count": 476,
   "metadata": {},
   "outputs": [],
   "source": [
    "# Formating the data to fit on the functions above\n",
    "y_test = test_data['Species'].values\n",
    "X_test = test_data\n",
    "del X_test['Species']\n",
    "X_test = X_test.values"
   ]
  },
  {
   "cell_type": "code",
   "execution_count": 477,
   "metadata": {},
   "outputs": [
    {
     "output_type": "stream",
     "name": "stdout",
     "text": [
      "[[4.8 3.1 1.6 0.2]\n [5.4 3.9 1.3 0.4]\n [5.2 3.5 1.5 0.2]\n [5.  3.5 1.6 0.6]\n [5.1 3.8 1.5 0.3]\n [5.3 3.7 1.5 0.2]\n [5.1 3.7 1.5 0.4]\n [5.  3.3 1.4 0.2]\n [5.4 3.7 1.5 0.2]\n [4.4 3.2 1.3 0.2]\n [5.  3.2 1.2 0.2]\n [5.  3.4 1.5 0.2]\n [5.1 3.8 1.9 0.4]\n [5.8 4.  1.2 0.2]\n [4.9 3.1 1.5 0.1]\n [6.2 2.2 4.5 1.5]\n [6.1 2.8 4.7 1.2]\n [5.6 2.7 4.2 1.3]\n [6.6 3.  4.4 1.4]\n [5.  2.  3.5 1. ]\n [6.  2.7 5.1 1.6]\n [5.4 3.  4.5 1.5]\n [5.7 2.8 4.1 1.3]\n [6.  2.9 4.5 1.5]\n [6.7 3.1 4.4 1.4]\n [5.6 2.9 3.6 1.3]\n [6.  3.4 4.5 1.6]\n [5.1 2.5 3.  1.1]\n [5.7 2.6 3.5 1. ]\n [6.5 2.8 4.6 1.5]\n [6.8 3.2 5.9 2.3]\n [6.  3.  4.8 1.8]\n [6.9 3.1 5.1 2.3]\n [6.7 3.3 5.7 2.1]\n [6.5 3.  5.5 1.8]\n [6.2 3.4 5.4 2.3]\n [7.2 3.2 6.  1.8]\n [6.4 2.8 5.6 2.2]\n [6.3 3.4 5.6 2.4]\n [6.4 3.1 5.5 1.8]\n [6.4 2.8 5.6 2.1]\n [6.3 2.5 5.  1.9]\n [7.6 3.  6.6 2.1]\n [5.8 2.7 5.1 1.9]\n [5.7 2.5 5.  2. ]]\n['Iris-setosa' 'Iris-setosa' 'Iris-setosa' 'Iris-setosa' 'Iris-setosa'\n 'Iris-setosa' 'Iris-setosa' 'Iris-setosa' 'Iris-setosa' 'Iris-setosa'\n 'Iris-setosa' 'Iris-setosa' 'Iris-setosa' 'Iris-setosa' 'Iris-setosa'\n 'Iris-versicolor' 'Iris-versicolor' 'Iris-versicolor' 'Iris-versicolor'\n 'Iris-versicolor' 'Iris-versicolor' 'Iris-versicolor' 'Iris-versicolor'\n 'Iris-versicolor' 'Iris-versicolor' 'Iris-versicolor' 'Iris-versicolor'\n 'Iris-versicolor' 'Iris-versicolor' 'Iris-versicolor' 'Iris-virginica'\n 'Iris-virginica' 'Iris-virginica' 'Iris-virginica' 'Iris-virginica'\n 'Iris-virginica' 'Iris-virginica' 'Iris-virginica' 'Iris-virginica'\n 'Iris-virginica' 'Iris-virginica' 'Iris-virginica' 'Iris-virginica'\n 'Iris-virginica' 'Iris-virginica']\n"
     ]
    }
   ],
   "source": [
    "print(X_test)\n",
    "print(y_test)"
   ]
  },
  {
   "source": [
    "## Para K = 3\n"
   ],
   "cell_type": "markdown",
   "metadata": {}
  },
  {
   "cell_type": "code",
   "execution_count": 478,
   "metadata": {},
   "outputs": [
    {
     "output_type": "stream",
     "name": "stdout",
     "text": [
      "['Iris-setosa', 'Iris-setosa', 'Iris-setosa', 'Iris-setosa', 'Iris-setosa', 'Iris-setosa', 'Iris-setosa', 'Iris-setosa', 'Iris-setosa', 'Iris-setosa', 'Iris-setosa', 'Iris-setosa', 'Iris-setosa', 'Iris-setosa', 'Iris-setosa', 'Iris-versicolor', 'Iris-versicolor', 'Iris-versicolor', 'Iris-versicolor', 'Iris-versicolor', 'Iris-virginica', 'Iris-versicolor', 'Iris-versicolor', 'Iris-versicolor', 'Iris-versicolor', 'Iris-versicolor', 'Iris-versicolor', 'Iris-versicolor', 'Iris-versicolor', 'Iris-versicolor', 'Iris-virginica', 'Iris-virginica', 'Iris-virginica', 'Iris-virginica', 'Iris-virginica', 'Iris-virginica', 'Iris-virginica', 'Iris-virginica', 'Iris-virginica', 'Iris-virginica', 'Iris-virginica', 'Iris-virginica', 'Iris-virginica', 'Iris-virginica', 'Iris-virginica']\n"
     ]
    }
   ],
   "source": [
    "k = 3\n",
    "y_pred = []\n",
    "for q in X_test :\n",
    "    y_pred.append(predict_classification(X_train, y_train, q, k))\n",
    "print(y_pred)"
   ]
  },
  {
   "cell_type": "code",
   "execution_count": 479,
   "metadata": {},
   "outputs": [
    {
     "output_type": "stream",
     "name": "stdout",
     "text": [
      "Acuracy: 97.77777777777777%\n"
     ]
    }
   ],
   "source": [
    "# acuracy\n",
    "print(\"Acuracy: {}%\".format(np.sum(y_pred == y_test) * 100 / y_test.shape[0]))"
   ]
  },
  {
   "source": [
    "## Para K = 5"
   ],
   "cell_type": "markdown",
   "metadata": {}
  },
  {
   "cell_type": "code",
   "execution_count": 480,
   "metadata": {},
   "outputs": [
    {
     "output_type": "stream",
     "name": "stdout",
     "text": [
      "['Iris-setosa', 'Iris-setosa', 'Iris-setosa', 'Iris-setosa', 'Iris-setosa', 'Iris-setosa', 'Iris-setosa', 'Iris-setosa', 'Iris-setosa', 'Iris-setosa', 'Iris-setosa', 'Iris-setosa', 'Iris-setosa', 'Iris-setosa', 'Iris-setosa', 'Iris-virginica', 'Iris-versicolor', 'Iris-versicolor', 'Iris-versicolor', 'Iris-versicolor', 'Iris-virginica', 'Iris-versicolor', 'Iris-versicolor', 'Iris-versicolor', 'Iris-versicolor', 'Iris-versicolor', 'Iris-versicolor', 'Iris-versicolor', 'Iris-versicolor', 'Iris-versicolor', 'Iris-virginica', 'Iris-virginica', 'Iris-virginica', 'Iris-virginica', 'Iris-virginica', 'Iris-virginica', 'Iris-virginica', 'Iris-virginica', 'Iris-virginica', 'Iris-virginica', 'Iris-virginica', 'Iris-virginica', 'Iris-virginica', 'Iris-virginica', 'Iris-virginica']\n"
     ]
    }
   ],
   "source": [
    "k = 5\n",
    "y_pred = []\n",
    "for q in X_test :\n",
    "    y_pred.append(predict_classification(X_train, y_train, q, k))\n",
    "print(y_pred)"
   ]
  },
  {
   "cell_type": "code",
   "execution_count": 481,
   "metadata": {},
   "outputs": [
    {
     "output_type": "stream",
     "name": "stdout",
     "text": [
      "Acuracy: 95.55555555555556%\n"
     ]
    }
   ],
   "source": [
    "# acuracy\n",
    "print(\"Acuracy: {}%\".format(np.sum(y_pred == y_test) * 100 / y_test.shape[0]))"
   ]
  },
  {
   "cell_type": "code",
   "execution_count": null,
   "metadata": {},
   "outputs": [],
   "source": []
  }
 ]
}