{
 "metadata": {
  "language_info": {
   "codemirror_mode": {
    "name": "ipython",
    "version": 3
   },
   "file_extension": ".py",
   "mimetype": "text/x-python",
   "name": "python",
   "nbconvert_exporter": "python",
   "pygments_lexer": "ipython3",
   "version": "3.8.5"
  },
  "orig_nbformat": 4,
  "kernelspec": {
   "name": "python3",
   "display_name": "Python 3.8.5 64-bit ('DataScience': conda)"
  },
  "interpreter": {
   "hash": "6a9d193666e13d3b25b51d102bf5ec435779a8e8c05a2ee5783b187e30809c30"
  }
 },
 "nbformat": 4,
 "nbformat_minor": 2,
 "cells": [
  {
   "source": [
    "# Autor: Natan Nobre Chaves\n",
    "## Bacharelando em Engenharia de Computação"
   ],
   "cell_type": "markdown",
   "metadata": {}
  },
  {
   "source": [
    "## Title: Pima Indians Diabetes Database\n",
    "\n",
    "### Context:<br>\n",
    "This dataset is originally from the National Institute of Diabetes and Digestive and Kidney Diseases. The objective of the dataset is to diagnostically predict whether or not a patient has diabetes, based on certain diagnostic measurements included in the dataset. Several constraints were placed on the selection of these instances from a larger database. In particular, all patients here are females at least 21 years old of Pima Indian heritage.\n",
    "\n",
    "### Content:<br>\n",
    "The datasets consists of several medical predictor variables and one target variable, Outcome. Predictor variables includes the number of pregnancies the patient has had, their BMI, insulin level, age, and so on.\n",
    "\n",
    "Source: https://www.kaggle.com/uciml/pima-indians-diabetes-database"
   ],
   "cell_type": "markdown",
   "metadata": {}
  },
  {
   "source": [
    "# Bibliotecas"
   ],
   "cell_type": "markdown",
   "metadata": {}
  },
  {
   "cell_type": "code",
   "execution_count": 575,
   "metadata": {},
   "outputs": [],
   "source": [
    "from matplotlib import pyplot\n",
    "import pandas as pd\n",
    "import numpy as np\n",
    "import sklearn\n",
    "import seaborn as sns\n",
    "import plotly.express as px\n",
    "\n",
    "from sklearn import pipeline\n",
    "from sklearn.pipeline import Pipeline\n",
    "from sklearn.model_selection import train_test_split, cross_val_score\n",
    "from sklearn.neighbors import KNeighborsClassifier\n",
    "from sklearn.preprocessing import StandardScaler\n",
    "from sklearn.preprocessing import MinMaxScaler\n",
    "from sklearn import metrics\n",
    "\n",
    "from sklearn import model_selection\n",
    "from sklearn.linear_model import LinearRegression,LogisticRegression\n",
    "from sklearn.tree import DecisionTreeRegressor,DecisionTreeClassifier\n",
    "from sklearn.ensemble import RandomForestClassifier\n",
    "from sklearn.svm import SVC\n",
    "\n",
    "# Generate and plot a synthetic imbalanced classification dataset\n",
    "from numpy import where\n",
    "from collections import Counter\n",
    "import imblearn\n",
    "from imblearn.over_sampling import SMOTE"
   ]
  },
  {
   "source": [
    "# Importação do Dataset"
   ],
   "cell_type": "markdown",
   "metadata": {}
  },
  {
   "cell_type": "code",
   "execution_count": 576,
   "metadata": {},
   "outputs": [
    {
     "output_type": "stream",
     "name": "stdout",
     "text": [
      "(768, 9)\n"
     ]
    },
    {
     "output_type": "execute_result",
     "data": {
      "text/plain": [
       "   Pregnancies  Glucose  BloodPressure  SkinThickness  Insulin   BMI  \\\n",
       "0            6      148             72             35        0  33.6   \n",
       "1            1       85             66             29        0  26.6   \n",
       "2            8      183             64              0        0  23.3   \n",
       "3            1       89             66             23       94  28.1   \n",
       "4            0      137             40             35      168  43.1   \n",
       "\n",
       "   DiabetesPedigreeFunction  Age  Outcome  \n",
       "0                     0.627   50        1  \n",
       "1                     0.351   31        0  \n",
       "2                     0.672   32        1  \n",
       "3                     0.167   21        0  \n",
       "4                     2.288   33        1  "
      ],
      "text/html": "<div>\n<style scoped>\n    .dataframe tbody tr th:only-of-type {\n        vertical-align: middle;\n    }\n\n    .dataframe tbody tr th {\n        vertical-align: top;\n    }\n\n    .dataframe thead th {\n        text-align: right;\n    }\n</style>\n<table border=\"1\" class=\"dataframe\">\n  <thead>\n    <tr style=\"text-align: right;\">\n      <th></th>\n      <th>Pregnancies</th>\n      <th>Glucose</th>\n      <th>BloodPressure</th>\n      <th>SkinThickness</th>\n      <th>Insulin</th>\n      <th>BMI</th>\n      <th>DiabetesPedigreeFunction</th>\n      <th>Age</th>\n      <th>Outcome</th>\n    </tr>\n  </thead>\n  <tbody>\n    <tr>\n      <th>0</th>\n      <td>6</td>\n      <td>148</td>\n      <td>72</td>\n      <td>35</td>\n      <td>0</td>\n      <td>33.6</td>\n      <td>0.627</td>\n      <td>50</td>\n      <td>1</td>\n    </tr>\n    <tr>\n      <th>1</th>\n      <td>1</td>\n      <td>85</td>\n      <td>66</td>\n      <td>29</td>\n      <td>0</td>\n      <td>26.6</td>\n      <td>0.351</td>\n      <td>31</td>\n      <td>0</td>\n    </tr>\n    <tr>\n      <th>2</th>\n      <td>8</td>\n      <td>183</td>\n      <td>64</td>\n      <td>0</td>\n      <td>0</td>\n      <td>23.3</td>\n      <td>0.672</td>\n      <td>32</td>\n      <td>1</td>\n    </tr>\n    <tr>\n      <th>3</th>\n      <td>1</td>\n      <td>89</td>\n      <td>66</td>\n      <td>23</td>\n      <td>94</td>\n      <td>28.1</td>\n      <td>0.167</td>\n      <td>21</td>\n      <td>0</td>\n    </tr>\n    <tr>\n      <th>4</th>\n      <td>0</td>\n      <td>137</td>\n      <td>40</td>\n      <td>35</td>\n      <td>168</td>\n      <td>43.1</td>\n      <td>2.288</td>\n      <td>33</td>\n      <td>1</td>\n    </tr>\n  </tbody>\n</table>\n</div>"
     },
     "metadata": {},
     "execution_count": 576
    }
   ],
   "source": [
    "diabetes = pd.read_csv(\"dataset/diabetes.csv\")\n",
    "print(diabetes.shape)\n",
    "diabetes.head()"
   ]
  },
  {
   "cell_type": "code",
   "execution_count": 577,
   "metadata": {},
   "outputs": [
    {
     "output_type": "execute_result",
     "data": {
      "text/plain": [
       "         Pregnancies  Glucose  BloodPressure  SkinThickness  Insulin  BMI  \\\n",
       "Outcome                                                                     \n",
       "0                500      500            500            500      500  500   \n",
       "1                268      268            268            268      268  268   \n",
       "\n",
       "         DiabetesPedigreeFunction  Age  \n",
       "Outcome                                 \n",
       "0                             500  500  \n",
       "1                             268  268  "
      ],
      "text/html": "<div>\n<style scoped>\n    .dataframe tbody tr th:only-of-type {\n        vertical-align: middle;\n    }\n\n    .dataframe tbody tr th {\n        vertical-align: top;\n    }\n\n    .dataframe thead th {\n        text-align: right;\n    }\n</style>\n<table border=\"1\" class=\"dataframe\">\n  <thead>\n    <tr style=\"text-align: right;\">\n      <th></th>\n      <th>Pregnancies</th>\n      <th>Glucose</th>\n      <th>BloodPressure</th>\n      <th>SkinThickness</th>\n      <th>Insulin</th>\n      <th>BMI</th>\n      <th>DiabetesPedigreeFunction</th>\n      <th>Age</th>\n    </tr>\n    <tr>\n      <th>Outcome</th>\n      <th></th>\n      <th></th>\n      <th></th>\n      <th></th>\n      <th></th>\n      <th></th>\n      <th></th>\n      <th></th>\n    </tr>\n  </thead>\n  <tbody>\n    <tr>\n      <th>0</th>\n      <td>500</td>\n      <td>500</td>\n      <td>500</td>\n      <td>500</td>\n      <td>500</td>\n      <td>500</td>\n      <td>500</td>\n      <td>500</td>\n    </tr>\n    <tr>\n      <th>1</th>\n      <td>268</td>\n      <td>268</td>\n      <td>268</td>\n      <td>268</td>\n      <td>268</td>\n      <td>268</td>\n      <td>268</td>\n      <td>268</td>\n    </tr>\n  </tbody>\n</table>\n</div>"
     },
     "metadata": {},
     "execution_count": 577
    }
   ],
   "source": [
    "diabetes.groupby(\"Outcome\").count()"
   ]
  },
  {
   "source": [
    "# Questão 1"
   ],
   "cell_type": "markdown",
   "metadata": {}
  },
  {
   "cell_type": "code",
   "execution_count": 578,
   "metadata": {},
   "outputs": [
    {
     "output_type": "stream",
     "name": "stdout",
     "text": [
      "(768,)\n(768, 8)\n"
     ]
    }
   ],
   "source": [
    "y = diabetes['Outcome'].values\n",
    "X = diabetes.copy()\n",
    "del X['Outcome']\n",
    "X = X.values\n",
    "print(y.shape)\n",
    "print(X.shape)"
   ]
  },
  {
   "cell_type": "code",
   "execution_count": 579,
   "metadata": {},
   "outputs": [
    {
     "output_type": "stream",
     "name": "stdout",
     "text": [
      "(429, 8)\n(185, 8)\n"
     ]
    }
   ],
   "source": [
    "X_treino, X_teste, y_treino, y_teste = train_test_split(X, y, train_size=0.8, random_state=42, stratify=y)\n",
    "X_treino_holdout, X_validacao_holdout, y_treino_holdout, y_validacao_holdout = train_test_split(X_treino, y_treino, train_size=0.7, random_state=42, stratify=y_treino)\n",
    "print(X_treino_holdout.shape)\n",
    "print(X_validacao_holdout.shape)"
   ]
  },
  {
   "source": [
    "## Modelos de KNN SEM escalonamento de features"
   ],
   "cell_type": "markdown",
   "metadata": {}
  },
  {
   "cell_type": "code",
   "execution_count": 580,
   "metadata": {},
   "outputs": [],
   "source": [
    "quantidade_de_modelos = 55\n",
    "\n",
    "# criando os modelos kNN\n",
    "modelokNN = []\n",
    "for idx in range(quantidade_de_modelos) :\n",
    "    modelokNN.append(KNeighborsClassifier(n_neighbors=(idx+1)))\n",
    "\n",
    "# treinando o modelo\n",
    "for idx in range(quantidade_de_modelos) :\n",
    "    modelokNN[idx].fit(X_treino_holdout, y_treino_holdout)\n",
    "\n",
    "# predizendo as amostras de teste\n",
    "y_pred = []\n",
    "for idx in range(quantidade_de_modelos) :\n",
    "    y_pred.append(np.array(modelokNN[idx].predict(X_validacao_holdout)))"
   ]
  },
  {
   "cell_type": "code",
   "execution_count": 581,
   "metadata": {},
   "outputs": [
    {
     "output_type": "stream",
     "name": "stdout",
     "text": [
      "[0.8098258905806076, 'K = 51', 51]\n[0.8098258905806076, 'K = 49', 49]\n[0.8083248078448253, 'K = 50', 50]\n[0.8000160160160161, 'K = 52', 52]\n[0.7948146619902345, 'K = 47', 47]\n[0.7933197348291688, 'K = 42', 42]\n[0.7900434235816151, 'K = 48', 48]\n[0.7898485008260396, 'K = 39', 39]\n[0.7883586226502256, 'K = 43', 43]\n[0.7882522522522524, 'K = 54', 54]\n[0.7850914512199558, 'K = 53', 53]\n[0.784898884898885, 'K = 41', 41]\n[0.7834154765452476, 'K = 45', 45]\n[0.7834154765452476, 'K = 31', 31]\n[0.7818374978752337, 'K = 34', 34]\n[0.7818374978752337, 'K = 32', 32]\n[0.78016038016038, 'K = 55', 55]\n[0.7769185481988864, 'K = 37', 37]\n[0.7769185481988864, 'K = 36', 36]\n[0.7769185481988864, 'K = 35', 35]\n[0.7769185481988864, 'K = 33', 33]\n[0.7769185481988864, 'K = 23', 23]\n[0.7752487797770817, 'K = 44', 44]\n[0.7752487797770817, 'K = 40', 40]\n[0.7734747729075208, 'K = 46', 46]\n[0.7703552609212987, 'K = 25', 25]\n[0.7703552609212987, 'K = 21', 21]\n[0.7685898738530318, 'K = 38', 38]\n[0.7654784737475474, 'K = 19', 19]\n[0.7622566622566622, 'K = 12', 12]\n[0.7616941356071791, 'K = 15', 15]\n[0.7588730239673637, 'K = 27', 27]\n[0.7580396396396397, 'K = 11', 11]\n[0.7570193675456836, 'K = 30', 30]\n[0.7570193675456836, 'K = 29', 29]\n[0.7570193675456836, 'K = 28', 28]\n[0.7570193675456836, 'K = 22', 22]\n[0.7557698793383704, 'K = 14', 14]\n[0.7540383992962082, 'K = 17', 17]\n[0.7540383992962082, 'K = 16', 16]\n[0.7519194174924195, 'K = 9', 9]\n[0.7502414162826512, 'K = 6', 6]\n[0.7502414162826512, 'K = 20', 20]\n[0.7502414162826512, 'K = 18', 18]\n[0.749208543581945, 'K = 13', 13]\n[0.7482448868752412, 'K = 7', 7]\n[0.7444103388424806, 'K = 8', 8]\n[0.7433864065997517, 'K = 26', 26]\n[0.7413007692077459, 'K = 10', 10]\n[0.741197197197197, 'K = 24', 24]\n[0.7380622566300316, 'K = 3', 3]\n[0.7317221523542858, 'K = 4', 4]\n[0.7236401049960371, 'K = 5', 5]\n[0.6999738616759894, 'K = 2', 2]\n[0.6768191268191268, 'K = 1', 1]\n"
     ]
    }
   ],
   "source": [
    "# Calculando os F1-Scores\n",
    "f1_scores_nao_escalonado = []\n",
    "for idx in range(quantidade_de_modelos) :\n",
    "    f1_scores_nao_escalonado.append([metrics.f1_score(y_validacao_holdout, y_pred[idx], average='weighted', zero_division=0), \"K = \" + str(idx+1), idx+1])\n",
    "\n",
    "# Ordenando do maior para o menor\n",
    "f1_scores_nao_escalonado.sort(reverse=True)\n",
    "for idx in range(quantidade_de_modelos) :\n",
    "    print(f1_scores_nao_escalonado[idx])"
   ]
  },
  {
   "source": [
    "## Criando o melhor modelo KNN sem escalonamento"
   ],
   "cell_type": "markdown",
   "metadata": {}
  },
  {
   "cell_type": "code",
   "execution_count": 582,
   "metadata": {},
   "outputs": [
    {
     "output_type": "stream",
     "name": "stdout",
     "text": [
      "K = 51\n"
     ]
    }
   ],
   "source": [
    "# criando\n",
    "print(\"K = \"+str(f1_scores_nao_escalonado[0][2]))\n",
    "melhor_modelo = KNeighborsClassifier(n_neighbors=f1_scores_nao_escalonado[0][2])\n",
    "\n",
    "# treinando\n",
    "melhor_modelo.fit(X_treino, y_treino)\n",
    "\n",
    "# predizendo\n",
    "y_pred = melhor_modelo.predict(X_teste)"
   ]
  },
  {
   "cell_type": "code",
   "execution_count": 583,
   "metadata": {},
   "outputs": [
    {
     "output_type": "stream",
     "name": "stdout",
     "text": [
      "0.6753246753246753\n              precision    recall  f1-score   support\n\n           0       0.72      0.81      0.76       100\n           1       0.55      0.43      0.48        54\n\n    accuracy                           0.68       154\n   macro avg       0.64      0.62      0.62       154\nweighted avg       0.66      0.68      0.66       154\n\n"
     ]
    }
   ],
   "source": [
    "print(metrics.accuracy_score(y_teste, y_pred))\n",
    "print(metrics.classification_report(y_teste, y_pred, zero_division=0))"
   ]
  },
  {
   "source": [
    "## Modelos de KNN COM escalonamento de features"
   ],
   "cell_type": "markdown",
   "metadata": {}
  },
  {
   "cell_type": "code",
   "execution_count": 584,
   "metadata": {},
   "outputs": [],
   "source": [
    "quantidade_de_modelos = 55\n",
    "\n",
    "# criando os pipelines\n",
    "pipe = []\n",
    "for idx in range(quantidade_de_modelos) :\n",
    "    pipe.append(Pipeline(steps = [('scale',StandardScaler()),('KNN',KNeighborsClassifier(n_neighbors=(idx+1)))]))\n",
    "\n",
    "# treinando\n",
    "for idx in range(quantidade_de_modelos) :\n",
    "    pipe[idx].fit(X_treino_holdout, y_treino_holdout)\n",
    "\n",
    "# predizendo as amostras de teste\n",
    "y_pred = []\n",
    "for idx in range(quantidade_de_modelos) :\n",
    "    y_pred.append(np.array(pipe[idx].predict(X_validacao_holdout)))"
   ]
  },
  {
   "cell_type": "code",
   "execution_count": 585,
   "metadata": {
    "tags": []
   },
   "outputs": [
    {
     "output_type": "stream",
     "name": "stdout",
     "text": [
      "[0.7573967790184007, 'K = 19', 19]\n[0.7555475266815472, 'K = 37', 37]\n[0.7550506608452175, 'K = 29', 29]\n[0.7525485618508875, 'K = 17', 17]\n[0.7483921878082461, 'K = 51', 51]\n[0.7481646908788137, 'K = 25', 25]\n[0.7481646908788137, 'K = 23', 23]\n[0.7477108319365817, 'K = 15', 15]\n[0.7461129082750705, 'K = 11', 11]\n[0.7459608551859475, 'K = 33', 33]\n[0.7459608551859475, 'K = 31', 31]\n[0.745448861238335, 'K = 21', 21]\n[0.7433864065997517, 'K = 8', 8]\n[0.742598324844869, 'K = 16', 16]\n[0.7411436699857753, 'K = 42', 42]\n[0.7411436699857753, 'K = 39', 39]\n[0.7411436699857753, 'K = 36', 36]\n[0.7388744687064015, 'K = 55', 55]\n[0.7388744687064015, 'K = 35', 35]\n[0.7388744687064015, 'K = 27', 27]\n[0.7385146413445003, 'K = 46', 46]\n[0.7380622566300316, 'K = 9', 9]\n[0.7364108634181626, 'K = 45', 45]\n[0.7364108634181626, 'K = 41', 41]\n[0.7364108634181626, 'K = 30', 30]\n[0.7338783549309865, 'K = 14', 14]\n[0.7338783549309865, 'K = 12', 12]\n[0.7337983682109491, 'K = 53', 53]\n[0.7337983682109491, 'K = 49', 49]\n[0.7337983682109491, 'K = 48', 48]\n[0.7337983682109491, 'K = 47', 47]\n[0.7337983682109491, 'K = 44', 44]\n[0.7337983682109491, 'K = 40', 40]\n[0.7316985048943813, 'K = 43', 43]\n[0.7316985048943813, 'K = 34', 34]\n[0.7311582503935299, 'K = 18', 18]\n[0.728442154529111, 'K = 7', 7]\n[0.7263525316395936, 'K = 50', 50]\n[0.7263525316395936, 'K = 38', 38]\n[0.7247381504954474, 'K = 20', 20]\n[0.7236401049960371, 'K = 1', 1]\n[0.72354516678841, 'K = 3', 3]\n[0.7216912578507011, 'K = 13', 13]\n[0.7197739940007981, 'K = 22', 22]\n[0.7188022554929028, 'K = 52', 52]\n[0.7170640113798009, 'K = 32', 32]\n[0.7153913813453466, 'K = 10', 10]\n[0.7141904219346865, 'K = 28', 28]\n[0.7124482146379957, 'K = 24', 24]\n[0.7095982198664901, 'K = 26', 26]\n[0.7079125028503253, 'K = 2', 2]\n[0.7046233957742909, 'K = 5', 5]\n[0.7033719433719434, 'K = 54', 54]\n[0.6967293896178882, 'K = 6', 6]\n[0.6809445234708392, 'K = 4', 4]\n"
     ]
    }
   ],
   "source": [
    "# Calculando os F1-Scores\n",
    "f1_scores_escalonado = []\n",
    "for idx in range(quantidade_de_modelos) :\n",
    "    f1_scores_escalonado.append([metrics.f1_score(y_validacao_holdout, y_pred[idx], average='weighted', zero_division=0), \"K = \" + str(idx+1), idx+1])\n",
    "\n",
    "# Ordenando do maior para o menor\n",
    "f1_scores_escalonado.sort(reverse=True)\n",
    "for idx in range(quantidade_de_modelos) :\n",
    "    print(f1_scores_escalonado[idx])"
   ]
  },
  {
   "source": [
    "## Criando o melhor modelo KNN com escalonamento"
   ],
   "cell_type": "markdown",
   "metadata": {}
  },
  {
   "cell_type": "code",
   "execution_count": 586,
   "metadata": {},
   "outputs": [
    {
     "output_type": "stream",
     "name": "stdout",
     "text": [
      "K = 19\n"
     ]
    }
   ],
   "source": [
    "# criando\n",
    "print(\"K = \"+str(f1_scores_escalonado[0][2]))\n",
    "melhor_modelo = KNeighborsClassifier(n_neighbors=f1_scores_escalonado[0][2])\n",
    "\n",
    "# treinando\n",
    "melhor_modelo.fit(X_treino, y_treino)\n",
    "\n",
    "# predizendo\n",
    "y_pred = melhor_modelo.predict(X_teste)"
   ]
  },
  {
   "cell_type": "code",
   "execution_count": 587,
   "metadata": {},
   "outputs": [
    {
     "output_type": "stream",
     "name": "stdout",
     "text": [
      "0.7272727272727273\n              precision    recall  f1-score   support\n\n           0       0.77      0.83      0.80       100\n           1       0.63      0.54      0.58        54\n\n    accuracy                           0.73       154\n   macro avg       0.70      0.68      0.69       154\nweighted avg       0.72      0.73      0.72       154\n\n"
     ]
    }
   ],
   "source": [
    "print(metrics.accuracy_score(y_teste, y_pred))\n",
    "print(metrics.classification_report(y_teste, y_pred, zero_division=0))"
   ]
  },
  {
   "source": [
    "# Questão 2"
   ],
   "cell_type": "markdown",
   "metadata": {}
  },
  {
   "source": [
    "## Modelos Sem Escalonamento"
   ],
   "cell_type": "markdown",
   "metadata": {}
  },
  {
   "cell_type": "code",
   "execution_count": 588,
   "metadata": {},
   "outputs": [],
   "source": [
    "quantidade_de_modelos = 55\n",
    "\n",
    "# criando os modelos kNN\n",
    "modelokNN = []\n",
    "for idx in range(quantidade_de_modelos) :\n",
    "    modelokNN.append(KNeighborsClassifier(n_neighbors=(idx+1)))\n",
    "\n",
    "cv = []\n",
    "for idx in range(quantidade_de_modelos) :\n",
    "    cv.append([cross_val_score(modelokNN[idx],X_treino,y_treino,cv=5,scoring='f1_weighted').mean(), \"K = \" + str(idx+1), idx+1])"
   ]
  },
  {
   "cell_type": "code",
   "execution_count": 589,
   "metadata": {},
   "outputs": [
    {
     "output_type": "stream",
     "name": "stdout",
     "text": [
      "[0.7606241388532532, 'K = 12', 12]\n[0.758260766571087, 'K = 14', 14]\n[0.7564372883827548, 'K = 15', 15]\n[0.7503549799350728, 'K = 11', 11]\n[0.7500613027439541, 'K = 17', 17]\n[0.7492766940816857, 'K = 16', 16]\n[0.7488404793577346, 'K = 10', 10]\n[0.747555881225926, 'K = 19', 19]\n[0.7448849237389392, 'K = 27', 27]\n[0.7436937094136458, 'K = 13', 13]\n[0.7432099292202186, 'K = 9', 9]\n[0.7428826323389677, 'K = 29', 29]\n[0.7405528023366097, 'K = 36', 36]\n[0.7399650411141376, 'K = 23', 23]\n[0.7395763029378862, 'K = 28', 28]\n[0.7392051294083578, 'K = 54', 54]\n[0.7391921881495435, 'K = 25', 25]\n[0.7384521433641553, 'K = 26', 26]\n[0.7374244968245739, 'K = 20', 20]\n[0.7371472480935382, 'K = 21', 21]\n[0.7367600481660022, 'K = 52', 52]\n[0.7366779405819885, 'K = 35', 35]\n[0.7354765596511476, 'K = 34', 34]\n[0.7353565440374894, 'K = 53', 53]\n[0.7353416764765986, 'K = 33', 33]\n[0.7352273454313959, 'K = 31', 31]\n[0.7348283833554563, 'K = 37', 37]\n[0.7346699681169848, 'K = 49', 49]\n[0.7346491747446551, 'K = 5', 5]\n[0.7340963140905447, 'K = 24', 24]\n[0.7337688717326969, 'K = 22', 22]\n[0.7336859157550202, 'K = 41', 41]\n[0.7335790612858796, 'K = 39', 39]\n[0.7328788922160616, 'K = 32', 32]\n[0.7328777726837418, 'K = 50', 50]\n[0.7326505537363621, 'K = 18', 18]\n[0.7326001474005042, 'K = 55', 55]\n[0.7323084867542471, 'K = 43', 43]\n[0.7323082904659534, 'K = 38', 38]\n[0.7316957323758387, 'K = 7', 7]\n[0.731213783856953, 'K = 51', 51]\n[0.7306699397370077, 'K = 47', 47]\n[0.7299355481602816, 'K = 30', 30]\n[0.7287052674741961, 'K = 45', 45]\n[0.7276975092463218, 'K = 42', 42]\n[0.7276039691730146, 'K = 44', 44]\n[0.7275265124814917, 'K = 46', 46]\n[0.7268316722474022, 'K = 40', 40]\n[0.7260862873777234, 'K = 8', 8]\n[0.7232134781854609, 'K = 6', 6]\n[0.7229532247427413, 'K = 3', 3]\n[0.7218388338692353, 'K = 48', 48]\n[0.7068582970056612, 'K = 4', 4]\n[0.7012585535792727, 'K = 2', 2]\n[0.6961556498638053, 'K = 1', 1]\n"
     ]
    }
   ],
   "source": [
    "# Ordenando do maior para o menor\n",
    "cv.sort(reverse=True)\n",
    "for idx in range(quantidade_de_modelos) :\n",
    "    print(cv[idx])"
   ]
  },
  {
   "source": [
    "## Criando o melhor modelo sem escalonamento"
   ],
   "cell_type": "markdown",
   "metadata": {}
  },
  {
   "cell_type": "code",
   "execution_count": 590,
   "metadata": {},
   "outputs": [
    {
     "output_type": "stream",
     "name": "stdout",
     "text": [
      "K = 12\n"
     ]
    }
   ],
   "source": [
    "# criando\n",
    "print(\"K = \"+str(cv[0][2]))\n",
    "melhor_modelo = KNeighborsClassifier(n_neighbors=cv[0][2])\n",
    "\n",
    "# treinando\n",
    "melhor_modelo.fit(X_treino, y_treino)\n",
    "\n",
    "# predizendo\n",
    "y_pred = melhor_modelo.predict(X_teste)"
   ]
  },
  {
   "cell_type": "code",
   "execution_count": 591,
   "metadata": {},
   "outputs": [
    {
     "output_type": "stream",
     "name": "stdout",
     "text": [
      "0.7012987012987013\n              precision    recall  f1-score   support\n\n           0       0.74      0.84      0.79       100\n           1       0.60      0.44      0.51        54\n\n    accuracy                           0.70       154\n   macro avg       0.67      0.64      0.65       154\nweighted avg       0.69      0.70      0.69       154\n\n"
     ]
    }
   ],
   "source": [
    "print(metrics.accuracy_score(y_teste, y_pred))\n",
    "print(metrics.classification_report(y_teste, y_pred, zero_division=0))"
   ]
  },
  {
   "source": [
    "## Modelos Com Escalonamento"
   ],
   "cell_type": "markdown",
   "metadata": {}
  },
  {
   "cell_type": "code",
   "execution_count": 592,
   "metadata": {},
   "outputs": [],
   "source": [
    "quantidade_de_modelos = 55\n",
    "\n",
    "# criando os pipelines\n",
    "pipe = []\n",
    "for idx in range(quantidade_de_modelos) :\n",
    "    pipe.append(Pipeline(steps = [('scale',StandardScaler()),('KNN',KNeighborsClassifier(n_neighbors=(idx+1)))]))\n",
    "\n",
    "cv = []\n",
    "for idx in range(quantidade_de_modelos) :\n",
    "    cv.append([cross_val_score(pipe[idx],X_treino,y_treino,cv=5,scoring='f1_weighted').mean(), \"K = \" + str(idx+1), idx+1])"
   ]
  },
  {
   "cell_type": "code",
   "execution_count": 593,
   "metadata": {},
   "outputs": [
    {
     "output_type": "stream",
     "name": "stdout",
     "text": [
      "[0.7507420007654881, 'K = 31', 31]\n[0.7485312592517452, 'K = 30', 30]\n[0.7473043240771392, 'K = 13', 13]\n[0.7467381782824891, 'K = 29', 29]\n[0.7465483105942291, 'K = 41', 41]\n[0.7449011096556681, 'K = 35', 35]\n[0.7448486457570255, 'K = 33', 33]\n[0.744209984300043, 'K = 15', 15]\n[0.7412629069950082, 'K = 14', 14]\n[0.7401998752328218, 'K = 24', 24]\n[0.739968342864092, 'K = 25', 25]\n[0.7394140965024014, 'K = 7', 7]\n[0.7392839849411941, 'K = 9', 9]\n[0.7390136639665208, 'K = 5', 5]\n[0.7388287629854672, 'K = 45', 45]\n[0.738820473041174, 'K = 32', 32]\n[0.7380539193535964, 'K = 42', 42]\n[0.7380397871255525, 'K = 37', 37]\n[0.7367209127258352, 'K = 11', 11]\n[0.7353603495110055, 'K = 39', 39]\n[0.7349044065501291, 'K = 17', 17]\n[0.7348863779724158, 'K = 20', 20]\n[0.7347352032580259, 'K = 23', 23]\n[0.7346151154816634, 'K = 49', 49]\n[0.734143346654964, 'K = 10', 10]\n[0.7339137258082209, 'K = 40', 40]\n[0.733848984933099, 'K = 43', 43]\n[0.7338093400301827, 'K = 21', 21]\n[0.7336668652908517, 'K = 55', 55]\n[0.7334698091384105, 'K = 19', 19]\n[0.7330100206087724, 'K = 16', 16]\n[0.732764780081105, 'K = 22', 22]\n[0.7324137413531135, 'K = 12', 12]\n[0.7316924690116421, 'K = 28', 28]\n[0.7311915591763735, 'K = 47', 47]\n[0.7307722544085318, 'K = 34', 34]\n[0.7307175358299002, 'K = 18', 18]\n[0.730629798131661, 'K = 26', 26]\n[0.7305396329098646, 'K = 27', 27]\n[0.7305070420035534, 'K = 38', 38]\n[0.7303840728256299, 'K = 36', 36]\n[0.72888746243415, 'K = 51', 51]\n[0.7280469739103083, 'K = 8', 8]\n[0.7260919928778349, 'K = 46', 46]\n[0.7256193143827245, 'K = 48', 48]\n[0.725521482169834, 'K = 50', 50]\n[0.7245532502916212, 'K = 54', 54]\n[0.7234886779758513, 'K = 53', 53]\n[0.7220787163400312, 'K = 44', 44]\n[0.7194432869453249, 'K = 52', 52]\n[0.715406204106255, 'K = 3', 3]\n[0.7132591199106851, 'K = 1', 1]\n[0.7065162047968996, 'K = 6', 6]\n[0.6890370175547919, 'K = 4', 4]\n[0.659693202655767, 'K = 2', 2]\n"
     ]
    }
   ],
   "source": [
    "# Ordenando do maior para o menor\n",
    "cv.sort(reverse=True)\n",
    "for idx in range(quantidade_de_modelos) :\n",
    "    print(cv[idx])"
   ]
  },
  {
   "source": [
    "## Criando o melhor modelo com escalonamento"
   ],
   "cell_type": "markdown",
   "metadata": {}
  },
  {
   "cell_type": "code",
   "execution_count": 594,
   "metadata": {},
   "outputs": [
    {
     "output_type": "stream",
     "name": "stdout",
     "text": [
      "K = 31\n"
     ]
    }
   ],
   "source": [
    "# criando\n",
    "print(\"K = \"+str(cv[0][2]))\n",
    "melhor_modelo = KNeighborsClassifier(n_neighbors=cv[0][2])\n",
    "\n",
    "# treinando\n",
    "melhor_modelo.fit(X_treino, y_treino)\n",
    "\n",
    "# predizendo\n",
    "y_pred = melhor_modelo.predict(X_teste)"
   ]
  },
  {
   "cell_type": "code",
   "execution_count": 595,
   "metadata": {},
   "outputs": [
    {
     "output_type": "stream",
     "name": "stdout",
     "text": [
      "0.6688311688311688\n              precision    recall  f1-score   support\n\n           0       0.72      0.81      0.76       100\n           1       0.54      0.41      0.46        54\n\n    accuracy                           0.67       154\n   macro avg       0.63      0.61      0.61       154\nweighted avg       0.65      0.67      0.66       154\n\n"
     ]
    }
   ],
   "source": [
    "print(metrics.accuracy_score(y_teste, y_pred))\n",
    "print(metrics.classification_report(y_teste, y_pred, zero_division=0))"
   ]
  },
  {
   "source": [
    "# Questão 3"
   ],
   "cell_type": "markdown",
   "metadata": {}
  },
  {
   "source": [
    "## Modelos Sem Escalonamento"
   ],
   "cell_type": "markdown",
   "metadata": {}
  },
  {
   "cell_type": "code",
   "execution_count": 596,
   "metadata": {},
   "outputs": [],
   "source": [
    "knn = KNeighborsClassifier()\n",
    "\n",
    "param_range = range(1,quantidade_de_modelos)\n",
    "\n",
    "#param_grid = [{'kneighborsclassifier__n_neighbors': param_range}]\n",
    "param_grid = [{'n_neighbors': param_range}]"
   ]
  },
  {
   "cell_type": "code",
   "execution_count": 597,
   "metadata": {},
   "outputs": [
    {
     "output_type": "stream",
     "name": "stdout",
     "text": [
      "0.7606241388532532\n{'n_neighbors': 12}\n"
     ]
    }
   ],
   "source": [
    "gs = model_selection.GridSearchCV(estimator=knn, param_grid=param_grid, \n",
    "                    return_train_score=False, scoring='f1_weighted', cv=5)\n",
    "gs = gs.fit(X_treino, y_treino)\n",
    "\n",
    "print(gs.best_score_)\n",
    "print(gs.best_params_)"
   ]
  },
  {
   "cell_type": "code",
   "execution_count": 598,
   "metadata": {},
   "outputs": [
    {
     "output_type": "execute_result",
     "data": {
      "text/plain": [
       "    mean_fit_time  std_fit_time  mean_score_time  std_score_time  \\\n",
       "11       0.000798  3.989220e-04         0.003989    3.504023e-07   \n",
       "13       0.000598  4.885776e-04         0.004189    3.992797e-04   \n",
       "14       0.000798  3.989698e-04         0.004189    3.990889e-04   \n",
       "10       0.000997  1.507891e-07         0.003989    1.907349e-07   \n",
       "16       0.000804  5.113873e-04         0.004195    5.134070e-04   \n",
       "\n",
       "   param_n_neighbors               params  split0_test_score  \\\n",
       "11                12  {'n_neighbors': 12}           0.754521   \n",
       "13                14  {'n_neighbors': 14}           0.752093   \n",
       "14                15  {'n_neighbors': 15}           0.764077   \n",
       "10                11  {'n_neighbors': 11}           0.734783   \n",
       "16                17  {'n_neighbors': 17}           0.761841   \n",
       "\n",
       "    split1_test_score  split2_test_score  split3_test_score  \\\n",
       "11           0.776571           0.729023           0.736149   \n",
       "13           0.793758           0.690636           0.732693   \n",
       "14           0.797780           0.679818           0.732146   \n",
       "10           0.801087           0.700802           0.721930   \n",
       "16           0.775363           0.700802           0.711541   \n",
       "\n",
       "    split4_test_score  mean_test_score  std_test_score  rank_test_score  \n",
       "11           0.806857         0.760624        0.028379                1  \n",
       "13           0.822124         0.758261        0.046051                2  \n",
       "14           0.808366         0.756437        0.046743                3  \n",
       "10           0.793173         0.750355        0.039782                4  \n",
       "16           0.800760         0.750061        0.038104                5  "
      ],
      "text/html": "<div>\n<style scoped>\n    .dataframe tbody tr th:only-of-type {\n        vertical-align: middle;\n    }\n\n    .dataframe tbody tr th {\n        vertical-align: top;\n    }\n\n    .dataframe thead th {\n        text-align: right;\n    }\n</style>\n<table border=\"1\" class=\"dataframe\">\n  <thead>\n    <tr style=\"text-align: right;\">\n      <th></th>\n      <th>mean_fit_time</th>\n      <th>std_fit_time</th>\n      <th>mean_score_time</th>\n      <th>std_score_time</th>\n      <th>param_n_neighbors</th>\n      <th>params</th>\n      <th>split0_test_score</th>\n      <th>split1_test_score</th>\n      <th>split2_test_score</th>\n      <th>split3_test_score</th>\n      <th>split4_test_score</th>\n      <th>mean_test_score</th>\n      <th>std_test_score</th>\n      <th>rank_test_score</th>\n    </tr>\n  </thead>\n  <tbody>\n    <tr>\n      <th>11</th>\n      <td>0.000798</td>\n      <td>3.989220e-04</td>\n      <td>0.003989</td>\n      <td>3.504023e-07</td>\n      <td>12</td>\n      <td>{'n_neighbors': 12}</td>\n      <td>0.754521</td>\n      <td>0.776571</td>\n      <td>0.729023</td>\n      <td>0.736149</td>\n      <td>0.806857</td>\n      <td>0.760624</td>\n      <td>0.028379</td>\n      <td>1</td>\n    </tr>\n    <tr>\n      <th>13</th>\n      <td>0.000598</td>\n      <td>4.885776e-04</td>\n      <td>0.004189</td>\n      <td>3.992797e-04</td>\n      <td>14</td>\n      <td>{'n_neighbors': 14}</td>\n      <td>0.752093</td>\n      <td>0.793758</td>\n      <td>0.690636</td>\n      <td>0.732693</td>\n      <td>0.822124</td>\n      <td>0.758261</td>\n      <td>0.046051</td>\n      <td>2</td>\n    </tr>\n    <tr>\n      <th>14</th>\n      <td>0.000798</td>\n      <td>3.989698e-04</td>\n      <td>0.004189</td>\n      <td>3.990889e-04</td>\n      <td>15</td>\n      <td>{'n_neighbors': 15}</td>\n      <td>0.764077</td>\n      <td>0.797780</td>\n      <td>0.679818</td>\n      <td>0.732146</td>\n      <td>0.808366</td>\n      <td>0.756437</td>\n      <td>0.046743</td>\n      <td>3</td>\n    </tr>\n    <tr>\n      <th>10</th>\n      <td>0.000997</td>\n      <td>1.507891e-07</td>\n      <td>0.003989</td>\n      <td>1.907349e-07</td>\n      <td>11</td>\n      <td>{'n_neighbors': 11}</td>\n      <td>0.734783</td>\n      <td>0.801087</td>\n      <td>0.700802</td>\n      <td>0.721930</td>\n      <td>0.793173</td>\n      <td>0.750355</td>\n      <td>0.039782</td>\n      <td>4</td>\n    </tr>\n    <tr>\n      <th>16</th>\n      <td>0.000804</td>\n      <td>5.113873e-04</td>\n      <td>0.004195</td>\n      <td>5.134070e-04</td>\n      <td>17</td>\n      <td>{'n_neighbors': 17}</td>\n      <td>0.761841</td>\n      <td>0.775363</td>\n      <td>0.700802</td>\n      <td>0.711541</td>\n      <td>0.800760</td>\n      <td>0.750061</td>\n      <td>0.038104</td>\n      <td>5</td>\n    </tr>\n  </tbody>\n</table>\n</div>"
     },
     "metadata": {},
     "execution_count": 598
    }
   ],
   "source": [
    "df = pd.DataFrame(gs.cv_results_)\n",
    "df.sort_values(by='rank_test_score').head()"
   ]
  },
  {
   "cell_type": "code",
   "execution_count": 599,
   "metadata": {},
   "outputs": [
    {
     "output_type": "stream",
     "name": "stdout",
     "text": [
      "12\n"
     ]
    },
    {
     "output_type": "execute_result",
     "data": {
      "text/plain": [
       "   mean_fit_time  std_fit_time  mean_score_time  std_score_time  \\\n",
       "0       0.000997  1.168008e-07         0.003790    3.985883e-04   \n",
       "1       0.000798  3.989221e-04         0.003790    3.990653e-04   \n",
       "2       0.000997  2.861023e-07         0.004388    7.982254e-04   \n",
       "3       0.000598  4.884998e-04         0.004189    3.988744e-04   \n",
       "4       0.000000  0.000000e+00         0.003989    3.371748e-07   \n",
       "\n",
       "  param_n_neighbors              params  split0_test_score  split1_test_score  \\\n",
       "0                 1  {'n_neighbors': 1}           0.647306           0.644077   \n",
       "1                 2  {'n_neighbors': 2}           0.672499           0.692774   \n",
       "2                 3  {'n_neighbors': 3}           0.718207           0.683752   \n",
       "3                 4  {'n_neighbors': 4}           0.732146           0.700968   \n",
       "4                 5  {'n_neighbors': 5}           0.739949           0.732690   \n",
       "\n",
       "   split2_test_score  split3_test_score  split4_test_score  mean_test_score  \\\n",
       "0           0.686524           0.723577           0.779294         0.696156   \n",
       "1           0.672499           0.721875           0.746645         0.701259   \n",
       "2           0.682569           0.725010           0.805228         0.722953   \n",
       "3           0.679231           0.692774           0.729172         0.706858   \n",
       "4           0.680114           0.747225           0.773267         0.734649   \n",
       "\n",
       "   std_test_score  rank_test_score  \n",
       "0        0.050706               54  \n",
       "1        0.029021               53  \n",
       "2        0.044639               50  \n",
       "3        0.020658               52  \n",
       "4        0.030514               29  "
      ],
      "text/html": "<div>\n<style scoped>\n    .dataframe tbody tr th:only-of-type {\n        vertical-align: middle;\n    }\n\n    .dataframe tbody tr th {\n        vertical-align: top;\n    }\n\n    .dataframe thead th {\n        text-align: right;\n    }\n</style>\n<table border=\"1\" class=\"dataframe\">\n  <thead>\n    <tr style=\"text-align: right;\">\n      <th></th>\n      <th>mean_fit_time</th>\n      <th>std_fit_time</th>\n      <th>mean_score_time</th>\n      <th>std_score_time</th>\n      <th>param_n_neighbors</th>\n      <th>params</th>\n      <th>split0_test_score</th>\n      <th>split1_test_score</th>\n      <th>split2_test_score</th>\n      <th>split3_test_score</th>\n      <th>split4_test_score</th>\n      <th>mean_test_score</th>\n      <th>std_test_score</th>\n      <th>rank_test_score</th>\n    </tr>\n  </thead>\n  <tbody>\n    <tr>\n      <th>0</th>\n      <td>0.000997</td>\n      <td>1.168008e-07</td>\n      <td>0.003790</td>\n      <td>3.985883e-04</td>\n      <td>1</td>\n      <td>{'n_neighbors': 1}</td>\n      <td>0.647306</td>\n      <td>0.644077</td>\n      <td>0.686524</td>\n      <td>0.723577</td>\n      <td>0.779294</td>\n      <td>0.696156</td>\n      <td>0.050706</td>\n      <td>54</td>\n    </tr>\n    <tr>\n      <th>1</th>\n      <td>0.000798</td>\n      <td>3.989221e-04</td>\n      <td>0.003790</td>\n      <td>3.990653e-04</td>\n      <td>2</td>\n      <td>{'n_neighbors': 2}</td>\n      <td>0.672499</td>\n      <td>0.692774</td>\n      <td>0.672499</td>\n      <td>0.721875</td>\n      <td>0.746645</td>\n      <td>0.701259</td>\n      <td>0.029021</td>\n      <td>53</td>\n    </tr>\n    <tr>\n      <th>2</th>\n      <td>0.000997</td>\n      <td>2.861023e-07</td>\n      <td>0.004388</td>\n      <td>7.982254e-04</td>\n      <td>3</td>\n      <td>{'n_neighbors': 3}</td>\n      <td>0.718207</td>\n      <td>0.683752</td>\n      <td>0.682569</td>\n      <td>0.725010</td>\n      <td>0.805228</td>\n      <td>0.722953</td>\n      <td>0.044639</td>\n      <td>50</td>\n    </tr>\n    <tr>\n      <th>3</th>\n      <td>0.000598</td>\n      <td>4.884998e-04</td>\n      <td>0.004189</td>\n      <td>3.988744e-04</td>\n      <td>4</td>\n      <td>{'n_neighbors': 4}</td>\n      <td>0.732146</td>\n      <td>0.700968</td>\n      <td>0.679231</td>\n      <td>0.692774</td>\n      <td>0.729172</td>\n      <td>0.706858</td>\n      <td>0.020658</td>\n      <td>52</td>\n    </tr>\n    <tr>\n      <th>4</th>\n      <td>0.000000</td>\n      <td>0.000000e+00</td>\n      <td>0.003989</td>\n      <td>3.371748e-07</td>\n      <td>5</td>\n      <td>{'n_neighbors': 5}</td>\n      <td>0.739949</td>\n      <td>0.732690</td>\n      <td>0.680114</td>\n      <td>0.747225</td>\n      <td>0.773267</td>\n      <td>0.734649</td>\n      <td>0.030514</td>\n      <td>29</td>\n    </tr>\n  </tbody>\n</table>\n</div>"
     },
     "metadata": {},
     "execution_count": 599
    }
   ],
   "source": [
    "melhor_n = df.sort_values(by='rank_test_score')['param_n_neighbors'].iloc[0]\n",
    "print(melhor_n)"
   ]
  },
  {
   "source": [
    "## Criando o melhor modelo sem escalonamento"
   ],
   "cell_type": "markdown",
   "metadata": {}
  },
  {
   "cell_type": "code",
   "execution_count": 600,
   "metadata": {},
   "outputs": [],
   "source": [
    "# criando\n",
    "melhor_modelo = KNeighborsClassifier(n_neighbors=melhor_n)\n",
    "\n",
    "# treinando\n",
    "melhor_modelo.fit(X_treino, y_treino)\n",
    "\n",
    "# predizendo\n",
    "y_pred = melhor_modelo.predict(X_teste)"
   ]
  },
  {
   "cell_type": "code",
   "execution_count": 601,
   "metadata": {},
   "outputs": [
    {
     "output_type": "stream",
     "name": "stdout",
     "text": [
      "0.7012987012987013\n              precision    recall  f1-score   support\n\n           0       0.74      0.84      0.79       100\n           1       0.60      0.44      0.51        54\n\n    accuracy                           0.70       154\n   macro avg       0.67      0.64      0.65       154\nweighted avg       0.69      0.70      0.69       154\n\n"
     ]
    }
   ],
   "source": [
    "print(metrics.accuracy_score(y_teste, y_pred))\n",
    "print(metrics.classification_report(y_teste, y_pred, zero_division=0))"
   ]
  },
  {
   "source": [
    "## Modelos Com Escalonamento"
   ],
   "cell_type": "markdown",
   "metadata": {}
  },
  {
   "cell_type": "code",
   "execution_count": 602,
   "metadata": {},
   "outputs": [
    {
     "output_type": "stream",
     "name": "stdout",
     "text": [
      "0.7507420007654881\n{'kneighborsclassifier__n_neighbors': 31}\n"
     ]
    }
   ],
   "source": [
    "param_grid = [{'kneighborsclassifier__n_neighbors': param_range}]\n",
    "pipe = pipeline.make_pipeline(StandardScaler(), KNeighborsClassifier())\n",
    "gs = model_selection.GridSearchCV(estimator=pipe, param_grid=param_grid, \n",
    "                    return_train_score=False, scoring='f1_weighted', cv=5)\n",
    "gs = gs.fit(X_treino, y_treino)\n",
    "\n",
    "print(gs.best_score_)\n",
    "print(gs.best_params_)"
   ]
  },
  {
   "cell_type": "code",
   "execution_count": 603,
   "metadata": {},
   "outputs": [
    {
     "output_type": "execute_result",
     "data": {
      "text/plain": [
       "    mean_fit_time  std_fit_time  mean_score_time  std_score_time  \\\n",
       "30       0.001396      0.000489         0.004987    3.693565e-07   \n",
       "29       0.001197      0.000399         0.004987    2.611745e-07   \n",
       "12       0.001463      0.000452         0.004629    3.664470e-04   \n",
       "28       0.001197      0.000399         0.004987    2.431402e-07   \n",
       "40       0.001396      0.000489         0.004987    2.611745e-07   \n",
       "\n",
       "   param_kneighborsclassifier__n_neighbors  \\\n",
       "30                                      31   \n",
       "29                                      30   \n",
       "12                                      13   \n",
       "28                                      29   \n",
       "40                                      41   \n",
       "\n",
       "                                       params  split0_test_score  \\\n",
       "30  {'kneighborsclassifier__n_neighbors': 31}           0.732146   \n",
       "29  {'kneighborsclassifier__n_neighbors': 30}           0.736149   \n",
       "12  {'kneighborsclassifier__n_neighbors': 13}           0.717899   \n",
       "28  {'kneighborsclassifier__n_neighbors': 29}           0.707823   \n",
       "40  {'kneighborsclassifier__n_neighbors': 41}           0.761013   \n",
       "\n",
       "    split1_test_score  split2_test_score  split3_test_score  \\\n",
       "30           0.793758           0.732146           0.728918   \n",
       "29           0.791448           0.729023           0.724797   \n",
       "12           0.764077           0.754521           0.736149   \n",
       "28           0.791448           0.749427           0.710846   \n",
       "40           0.756689           0.703932           0.746990   \n",
       "\n",
       "    split4_test_score  mean_test_score  std_test_score  rank_test_score  \n",
       "30           0.766743         0.750742        0.025590                1  \n",
       "29           0.761240         0.748531        0.024902                2  \n",
       "12           0.763877         0.747304        0.017873                3  \n",
       "28           0.774147         0.746738        0.033347                4  \n",
       "40           0.764118         0.746548        0.022078                5  "
      ],
      "text/html": "<div>\n<style scoped>\n    .dataframe tbody tr th:only-of-type {\n        vertical-align: middle;\n    }\n\n    .dataframe tbody tr th {\n        vertical-align: top;\n    }\n\n    .dataframe thead th {\n        text-align: right;\n    }\n</style>\n<table border=\"1\" class=\"dataframe\">\n  <thead>\n    <tr style=\"text-align: right;\">\n      <th></th>\n      <th>mean_fit_time</th>\n      <th>std_fit_time</th>\n      <th>mean_score_time</th>\n      <th>std_score_time</th>\n      <th>param_kneighborsclassifier__n_neighbors</th>\n      <th>params</th>\n      <th>split0_test_score</th>\n      <th>split1_test_score</th>\n      <th>split2_test_score</th>\n      <th>split3_test_score</th>\n      <th>split4_test_score</th>\n      <th>mean_test_score</th>\n      <th>std_test_score</th>\n      <th>rank_test_score</th>\n    </tr>\n  </thead>\n  <tbody>\n    <tr>\n      <th>30</th>\n      <td>0.001396</td>\n      <td>0.000489</td>\n      <td>0.004987</td>\n      <td>3.693565e-07</td>\n      <td>31</td>\n      <td>{'kneighborsclassifier__n_neighbors': 31}</td>\n      <td>0.732146</td>\n      <td>0.793758</td>\n      <td>0.732146</td>\n      <td>0.728918</td>\n      <td>0.766743</td>\n      <td>0.750742</td>\n      <td>0.025590</td>\n      <td>1</td>\n    </tr>\n    <tr>\n      <th>29</th>\n      <td>0.001197</td>\n      <td>0.000399</td>\n      <td>0.004987</td>\n      <td>2.611745e-07</td>\n      <td>30</td>\n      <td>{'kneighborsclassifier__n_neighbors': 30}</td>\n      <td>0.736149</td>\n      <td>0.791448</td>\n      <td>0.729023</td>\n      <td>0.724797</td>\n      <td>0.761240</td>\n      <td>0.748531</td>\n      <td>0.024902</td>\n      <td>2</td>\n    </tr>\n    <tr>\n      <th>12</th>\n      <td>0.001463</td>\n      <td>0.000452</td>\n      <td>0.004629</td>\n      <td>3.664470e-04</td>\n      <td>13</td>\n      <td>{'kneighborsclassifier__n_neighbors': 13}</td>\n      <td>0.717899</td>\n      <td>0.764077</td>\n      <td>0.754521</td>\n      <td>0.736149</td>\n      <td>0.763877</td>\n      <td>0.747304</td>\n      <td>0.017873</td>\n      <td>3</td>\n    </tr>\n    <tr>\n      <th>28</th>\n      <td>0.001197</td>\n      <td>0.000399</td>\n      <td>0.004987</td>\n      <td>2.431402e-07</td>\n      <td>29</td>\n      <td>{'kneighborsclassifier__n_neighbors': 29}</td>\n      <td>0.707823</td>\n      <td>0.791448</td>\n      <td>0.749427</td>\n      <td>0.710846</td>\n      <td>0.774147</td>\n      <td>0.746738</td>\n      <td>0.033347</td>\n      <td>4</td>\n    </tr>\n    <tr>\n      <th>40</th>\n      <td>0.001396</td>\n      <td>0.000489</td>\n      <td>0.004987</td>\n      <td>2.611745e-07</td>\n      <td>41</td>\n      <td>{'kneighborsclassifier__n_neighbors': 41}</td>\n      <td>0.761013</td>\n      <td>0.756689</td>\n      <td>0.703932</td>\n      <td>0.746990</td>\n      <td>0.764118</td>\n      <td>0.746548</td>\n      <td>0.022078</td>\n      <td>5</td>\n    </tr>\n  </tbody>\n</table>\n</div>"
     },
     "metadata": {},
     "execution_count": 603
    }
   ],
   "source": [
    "df = pd.DataFrame(gs.cv_results_)\n",
    "df.sort_values(by='rank_test_score').head()"
   ]
  },
  {
   "cell_type": "code",
   "execution_count": 604,
   "metadata": {},
   "outputs": [
    {
     "output_type": "stream",
     "name": "stdout",
     "text": [
      "31\n"
     ]
    }
   ],
   "source": [
    "melhor_n = df.sort_values(by='rank_test_score')['param_kneighborsclassifier__n_neighbors'].iloc[0]\n",
    "print(melhor_n)"
   ]
  },
  {
   "source": [
    "## Criando o melhor modelo com escalonamento"
   ],
   "cell_type": "markdown",
   "metadata": {}
  },
  {
   "cell_type": "code",
   "execution_count": 605,
   "metadata": {},
   "outputs": [],
   "source": [
    "# criando\n",
    "melhor_modelo = KNeighborsClassifier(n_neighbors=melhor_n)\n",
    "\n",
    "# treinando\n",
    "melhor_modelo.fit(X_treino, y_treino)\n",
    "\n",
    "# predizendo\n",
    "y_pred = melhor_modelo.predict(X_teste)"
   ]
  },
  {
   "cell_type": "code",
   "execution_count": 606,
   "metadata": {},
   "outputs": [
    {
     "output_type": "stream",
     "name": "stdout",
     "text": [
      "0.6688311688311688\n              precision    recall  f1-score   support\n\n           0       0.72      0.81      0.76       100\n           1       0.54      0.41      0.46        54\n\n    accuracy                           0.67       154\n   macro avg       0.63      0.61      0.61       154\nweighted avg       0.65      0.67      0.66       154\n\n"
     ]
    }
   ],
   "source": [
    "print(metrics.accuracy_score(y_teste, y_pred))\n",
    "print(metrics.classification_report(y_teste, y_pred, zero_division=0))"
   ]
  },
  {
   "cell_type": "code",
   "execution_count": null,
   "metadata": {},
   "outputs": [],
   "source": []
  }
 ]
}