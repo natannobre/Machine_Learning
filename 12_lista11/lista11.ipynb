{
 "cells": [
  {
   "cell_type": "code",
   "execution_count": 44,
   "source": [
    "import pandas as pd\r\n",
    "import warnings\r\n",
    "warnings.filterwarnings('ignore')\r\n",
    "\r\n",
    "from sklearn.model_selection import train_test_split\r\n",
    "\r\n",
    "from sklearn.ensemble import GradientBoostingClassifier\r\n",
    "from xgboost import XGBClassifier\r\n",
    "import lightgbm as lgb\r\n",
    "from catboost import CatBoostClassifier\r\n",
    "from sklearn.linear_model import Perceptron\r\n",
    "from sklearn.neural_network import MLPClassifier\r\n",
    "from sklearn import metrics\r\n",
    "from sklearn.ensemble import RandomForestClassifier"
   ],
   "outputs": [],
   "metadata": {}
  },
  {
   "cell_type": "markdown",
   "source": [
    "# Resolva o problema de classificação binária sobre o dataset \"Pima Indians Diabetes Database\"."
   ],
   "metadata": {}
  },
  {
   "cell_type": "code",
   "execution_count": 45,
   "source": [
    "diabetes = pd.read_csv(\"dataset/diabetes.csv\")\r\n",
    "print(diabetes.shape)\r\n",
    "diabetes.head()"
   ],
   "outputs": [
    {
     "output_type": "stream",
     "name": "stdout",
     "text": [
      "(768, 9)\n"
     ]
    },
    {
     "output_type": "execute_result",
     "data": {
      "text/plain": [
       "   Pregnancies  Glucose  BloodPressure  SkinThickness  Insulin   BMI  \\\n",
       "0            6      148             72             35        0  33.6   \n",
       "1            1       85             66             29        0  26.6   \n",
       "2            8      183             64              0        0  23.3   \n",
       "3            1       89             66             23       94  28.1   \n",
       "4            0      137             40             35      168  43.1   \n",
       "\n",
       "   DiabetesPedigreeFunction  Age  Outcome  \n",
       "0                     0.627   50        1  \n",
       "1                     0.351   31        0  \n",
       "2                     0.672   32        1  \n",
       "3                     0.167   21        0  \n",
       "4                     2.288   33        1  "
      ],
      "text/html": [
       "<div>\n",
       "<style scoped>\n",
       "    .dataframe tbody tr th:only-of-type {\n",
       "        vertical-align: middle;\n",
       "    }\n",
       "\n",
       "    .dataframe tbody tr th {\n",
       "        vertical-align: top;\n",
       "    }\n",
       "\n",
       "    .dataframe thead th {\n",
       "        text-align: right;\n",
       "    }\n",
       "</style>\n",
       "<table border=\"1\" class=\"dataframe\">\n",
       "  <thead>\n",
       "    <tr style=\"text-align: right;\">\n",
       "      <th></th>\n",
       "      <th>Pregnancies</th>\n",
       "      <th>Glucose</th>\n",
       "      <th>BloodPressure</th>\n",
       "      <th>SkinThickness</th>\n",
       "      <th>Insulin</th>\n",
       "      <th>BMI</th>\n",
       "      <th>DiabetesPedigreeFunction</th>\n",
       "      <th>Age</th>\n",
       "      <th>Outcome</th>\n",
       "    </tr>\n",
       "  </thead>\n",
       "  <tbody>\n",
       "    <tr>\n",
       "      <th>0</th>\n",
       "      <td>6</td>\n",
       "      <td>148</td>\n",
       "      <td>72</td>\n",
       "      <td>35</td>\n",
       "      <td>0</td>\n",
       "      <td>33.6</td>\n",
       "      <td>0.627</td>\n",
       "      <td>50</td>\n",
       "      <td>1</td>\n",
       "    </tr>\n",
       "    <tr>\n",
       "      <th>1</th>\n",
       "      <td>1</td>\n",
       "      <td>85</td>\n",
       "      <td>66</td>\n",
       "      <td>29</td>\n",
       "      <td>0</td>\n",
       "      <td>26.6</td>\n",
       "      <td>0.351</td>\n",
       "      <td>31</td>\n",
       "      <td>0</td>\n",
       "    </tr>\n",
       "    <tr>\n",
       "      <th>2</th>\n",
       "      <td>8</td>\n",
       "      <td>183</td>\n",
       "      <td>64</td>\n",
       "      <td>0</td>\n",
       "      <td>0</td>\n",
       "      <td>23.3</td>\n",
       "      <td>0.672</td>\n",
       "      <td>32</td>\n",
       "      <td>1</td>\n",
       "    </tr>\n",
       "    <tr>\n",
       "      <th>3</th>\n",
       "      <td>1</td>\n",
       "      <td>89</td>\n",
       "      <td>66</td>\n",
       "      <td>23</td>\n",
       "      <td>94</td>\n",
       "      <td>28.1</td>\n",
       "      <td>0.167</td>\n",
       "      <td>21</td>\n",
       "      <td>0</td>\n",
       "    </tr>\n",
       "    <tr>\n",
       "      <th>4</th>\n",
       "      <td>0</td>\n",
       "      <td>137</td>\n",
       "      <td>40</td>\n",
       "      <td>35</td>\n",
       "      <td>168</td>\n",
       "      <td>43.1</td>\n",
       "      <td>2.288</td>\n",
       "      <td>33</td>\n",
       "      <td>1</td>\n",
       "    </tr>\n",
       "  </tbody>\n",
       "</table>\n",
       "</div>"
      ]
     },
     "metadata": {},
     "execution_count": 45
    }
   ],
   "metadata": {}
  },
  {
   "cell_type": "markdown",
   "source": [
    "## 1. Separe os dados em treino (80%) e teste (20%)"
   ],
   "metadata": {}
  },
  {
   "cell_type": "code",
   "execution_count": 46,
   "source": [
    "y = diabetes['Outcome'].values\r\n",
    "X = diabetes.copy()\r\n",
    "del X['Outcome']\r\n",
    "X = X.values\r\n",
    "print(y.shape)\r\n",
    "print(X.shape)"
   ],
   "outputs": [
    {
     "output_type": "stream",
     "name": "stdout",
     "text": [
      "(768,)\n",
      "(768, 8)\n"
     ]
    }
   ],
   "metadata": {}
  },
  {
   "cell_type": "code",
   "execution_count": 47,
   "source": [
    "X_train, X_test, y_train, y_test = train_test_split(X, y, test_size = 0.2, random_state=42)"
   ],
   "outputs": [],
   "metadata": {}
  },
  {
   "cell_type": "markdown",
   "source": [
    "## 2. Crie os modelos a seguir sobre o conjunto de treino e calcule F1-Score sobre os dados de treino e de teste usando:"
   ],
   "metadata": {}
  },
  {
   "cell_type": "markdown",
   "source": [
    "### a) Random Forest"
   ],
   "metadata": {}
  },
  {
   "cell_type": "code",
   "execution_count": 48,
   "source": [
    "rf = RandomForestClassifier(n_estimators=700, random_state=42)\r\n",
    "rf.fit(X_train, y_train)\r\n",
    "y_pred_train = rf.predict(X_train)\r\n",
    "y_pred_test = rf.predict(X_test)\r\n",
    "print(\"F1 Score - Treino: \", metrics.f1_score(y_train, y_pred_train))\r\n",
    "print(\"F1 Score - Teste: \", metrics.f1_score(y_test, y_pred_test))"
   ],
   "outputs": [
    {
     "output_type": "stream",
     "name": "stdout",
     "text": [
      "F1 Score - Treino:  1.0\n",
      "F1 Score - Teste:  0.6428571428571428\n"
     ]
    }
   ],
   "metadata": {}
  },
  {
   "cell_type": "markdown",
   "source": [
    "### b) Gradient Boosting"
   ],
   "metadata": {}
  },
  {
   "cell_type": "code",
   "execution_count": 49,
   "source": [
    "gb = GradientBoostingClassifier(n_estimators=700, random_state=42)\r\n",
    "gb.fit(X_train, y_train)\r\n",
    "y_pred_train = gb.predict(X_train)\r\n",
    "y_pred_test = gb.predict(X_test)\r\n",
    "print(\"F1 Score - Treino: \", metrics.f1_score(y_train, y_pred_train))\r\n",
    "print(\"F1 Score - Teste: \", metrics.f1_score(y_test, y_pred_test))"
   ],
   "outputs": [
    {
     "output_type": "stream",
     "name": "stdout",
     "text": [
      "F1 Score - Treino:  1.0\n",
      "F1 Score - Teste:  0.6610169491525425\n"
     ]
    }
   ],
   "metadata": {}
  },
  {
   "cell_type": "markdown",
   "source": [
    "### c) XGBoost "
   ],
   "metadata": {}
  },
  {
   "cell_type": "code",
   "execution_count": 50,
   "source": [
    "xgb = XGBClassifier(random_state=42)\r\n",
    "xgb.fit(X_train, y_train)\r\n",
    "y_pred_train = xgb.predict(X_train)\r\n",
    "y_pred_test = xgb.predict(X_test)\r\n",
    "print(\"F1 Score - Treino: \", metrics.f1_score(y_train, y_pred_train))\r\n",
    "print(\"F1 Score - Teste: \", metrics.f1_score(y_test, y_pred_test))"
   ],
   "outputs": [
    {
     "output_type": "stream",
     "name": "stdout",
     "text": [
      "[21:13:55] WARNING: ..\\src\\learner.cc:1061: Starting in XGBoost 1.3.0, the default evaluation metric used with the objective 'binary:logistic' was changed from 'error' to 'logloss'. Explicitly set eval_metric if you'd like to restore the old behavior.\n",
      "F1 Score - Treino:  1.0\n",
      "F1 Score - Teste:  0.6000000000000001\n"
     ]
    }
   ],
   "metadata": {}
  },
  {
   "cell_type": "markdown",
   "source": [
    "### d) LightGBM "
   ],
   "metadata": {}
  },
  {
   "cell_type": "code",
   "execution_count": 51,
   "source": [
    "lgbm = lgb.LGBMClassifier(random_state=42)\r\n",
    "lgbm.fit(X_train, y_train)\r\n",
    "y_pred_train = lgbm.predict(X_train)\r\n",
    "y_pred_test = lgbm.predict(X_test)\r\n",
    "print(\"F1 Score - Treino: \", metrics.f1_score(y_train, y_pred_train))\r\n",
    "print(\"F1 Score - Teste: \", metrics.f1_score(y_test, y_pred_test))"
   ],
   "outputs": [
    {
     "output_type": "stream",
     "name": "stdout",
     "text": [
      "F1 Score - Treino:  1.0\n",
      "F1 Score - Teste:  0.6386554621848739\n"
     ]
    }
   ],
   "metadata": {}
  },
  {
   "cell_type": "markdown",
   "source": [
    "### f) CatBoost"
   ],
   "metadata": {}
  },
  {
   "cell_type": "code",
   "execution_count": 52,
   "source": [
    "cb = CatBoostClassifier(random_state=42, verbose=False)\r\n",
    "cb.fit(X_train, y_train)\r\n",
    "y_pred_train = cb.predict(X_train)\r\n",
    "y_pred_test = cb.predict(X_test)\r\n",
    "print(\"F1 Score - Treino: \", metrics.f1_score(y_train, y_pred_train))\r\n",
    "print(\"F1 Score - Teste: \", metrics.f1_score(y_test, y_pred_test))"
   ],
   "outputs": [
    {
     "output_type": "stream",
     "name": "stdout",
     "text": [
      "F1 Score - Treino:  0.9414634146341464\n",
      "F1 Score - Teste:  0.6548672566371682\n"
     ]
    }
   ],
   "metadata": {}
  },
  {
   "cell_type": "markdown",
   "source": [
    "### g) Perceptron "
   ],
   "metadata": {}
  },
  {
   "cell_type": "code",
   "execution_count": 53,
   "source": [
    "pct = Perceptron(tol=1e-3, random_state=0)\r\n",
    "pct.fit(X_train, y_train)\r\n",
    "y_pred_train = pct.predict(X_train)\r\n",
    "y_pred_test = pct.predict(X_test)\r\n",
    "print(\"F1 Score - Treino: \", metrics.f1_score(y_train, y_pred_train))\r\n",
    "print(\"F1 Score - Teste: \", metrics.f1_score(y_test, y_pred_test))"
   ],
   "outputs": [
    {
     "output_type": "stream",
     "name": "stdout",
     "text": [
      "F1 Score - Treino:  0.5377358490566037\n",
      "F1 Score - Teste:  0.576923076923077\n"
     ]
    }
   ],
   "metadata": {}
  },
  {
   "cell_type": "markdown",
   "source": [
    "### h) Multi-layer Perceptron"
   ],
   "metadata": {}
  },
  {
   "cell_type": "code",
   "execution_count": 54,
   "source": [
    "mlpc = MLPClassifier(max_iter=300, random_state=0)\r\n",
    "mlpc.fit(X_train, y_train)\r\n",
    "y_pred_train = mlpc.predict(X_train)\r\n",
    "y_pred_test = mlpc.predict(X_test)\r\n",
    "print(\"F1 Score - Treino: \", metrics.f1_score(y_train, y_pred_train))\r\n",
    "print(\"F1 Score - Teste: \", metrics.f1_score(y_test, y_pred_test))"
   ],
   "outputs": [
    {
     "output_type": "stream",
     "name": "stdout",
     "text": [
      "F1 Score - Treino:  0.6193853427895981\n",
      "F1 Score - Teste:  0.5321100917431193\n"
     ]
    }
   ],
   "metadata": {}
  }
 ],
 "metadata": {
  "orig_nbformat": 4,
  "language_info": {
   "name": "python",
   "version": "3.8.5",
   "mimetype": "text/x-python",
   "codemirror_mode": {
    "name": "ipython",
    "version": 3
   },
   "pygments_lexer": "ipython3",
   "nbconvert_exporter": "python",
   "file_extension": ".py"
  },
  "kernelspec": {
   "name": "python3",
   "display_name": "Python 3.8.5 64-bit ('DataScience': conda)"
  },
  "interpreter": {
   "hash": "6a9d193666e13d3b25b51d102bf5ec435779a8e8c05a2ee5783b187e30809c30"
  }
 },
 "nbformat": 4,
 "nbformat_minor": 2
}