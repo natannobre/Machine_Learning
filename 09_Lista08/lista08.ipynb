{
 "metadata": {
  "language_info": {
   "codemirror_mode": {
    "name": "ipython",
    "version": 3
   },
   "file_extension": ".py",
   "mimetype": "text/x-python",
   "name": "python",
   "nbconvert_exporter": "python",
   "pygments_lexer": "ipython3",
   "version": "3.8.5"
  },
  "orig_nbformat": 4,
  "kernelspec": {
   "name": "python3",
   "display_name": "Python 3.8.5 64-bit ('DataScience': conda)"
  },
  "interpreter": {
   "hash": "6a9d193666e13d3b25b51d102bf5ec435779a8e8c05a2ee5783b187e30809c30"
  }
 },
 "nbformat": 4,
 "nbformat_minor": 2,
 "cells": [
  {
   "cell_type": "code",
   "execution_count": 1,
   "source": [
    "from matplotlib import pyplot as plt\r\n",
    "import pandas as pd\r\n",
    "import numpy as np\r\n",
    "import sklearn\r\n",
    "import math\r\n",
    "import warnings\r\n",
    "warnings.filterwarnings('ignore')\r\n",
    "\r\n",
    "#import seaborn as sns\r\n",
    "#import plotly.express as px\r\n",
    "\r\n",
    "#from sklearn import pipeline\r\n",
    "#from sklearn.pipeline import Pipeline\r\n",
    "from sklearn.model_selection import train_test_split\r\n",
    "#from sklearn.neighbors import KNeighborsClassifier\r\n",
    "#from sklearn.preprocessing import StandardScaler\r\n",
    "#from sklearn.preprocessing import MinMaxScaler\r\n",
    "from sklearn import metrics\r\n",
    "\r\n",
    "from sklearn.linear_model import Lasso\r\n",
    "from sklearn.linear_model import Ridge\r\n",
    "from sklearn import datasets\r\n",
    "\r\n",
    "#from sklearn import model_selection\r\n",
    "from sklearn.linear_model import LinearRegression,LogisticRegression\r\n",
    "#from sklearn.tree import DecisionTreeRegressor,DecisionTreeClassifier\r\n",
    "#from sklearn.ensemble import RandomForestClassifier\r\n",
    "#from sklearn.svm import SVC\r\n",
    "\r\n",
    "# Generate and plot a synthetic imbalanced classification dataset\r\n",
    "#from numpy import where\r\n",
    "#from collections import Counter\r\n",
    "#import imblearn\r\n",
    "#from imblearn.over_sampling import SMOTE"
   ],
   "outputs": [],
   "metadata": {}
  },
  {
   "cell_type": "markdown",
   "source": [
    "## Questão 1 - Dado o código a seguir (Fonte: Datacamp - Curso Supervised Learning with scikit-learn), use a regressão Lasso, que usa regularização L1, sobre o dataset Boston House Prices (sklearn.datasets.load_boston) para:\n",
    "\n",
    "(...) <br>\n",
    "from sklearn.linear_model import Lasso <br>\n",
    "(...) <br>\n",
    "X_train, X_test, y_train, y_test = train_test_split(X, y, test_size = 0.3, random_state=42) <br>\n",
    "lasso = Lasso(alpha=0.1, normalize=True) <br>\n",
    "lasso.fit(X_train, y_train) <br>\n",
    "lasso_pred = lasso.predict(X_test) <br>\n",
    "lasso.score(X_test, y_test) <br>"
   ],
   "metadata": {}
  },
  {
   "cell_type": "markdown",
   "source": [
    "### a) Mostre os coeficientes para alpha=0.1 e normalize=True. Mostre também para normalize=False."
   ],
   "metadata": {}
  },
  {
   "cell_type": "code",
   "execution_count": 2,
   "source": [
    "boston = sklearn.datasets.load_boston()\r\n",
    "\r\n",
    "X = boston['data']\r\n",
    "y = boston['target']\r\n",
    "feature_names = boston['feature_names']\r\n",
    "desc = boston['DESCR']\r\n",
    "print(X.shape)\r\n",
    "print(y.shape)\r\n",
    "print(feature_names)\r\n",
    "print(desc)"
   ],
   "outputs": [
    {
     "output_type": "stream",
     "name": "stdout",
     "text": [
      "(506, 13)\n",
      "(506,)\n",
      "['CRIM' 'ZN' 'INDUS' 'CHAS' 'NOX' 'RM' 'AGE' 'DIS' 'RAD' 'TAX' 'PTRATIO'\n",
      " 'B' 'LSTAT']\n",
      ".. _boston_dataset:\n",
      "\n",
      "Boston house prices dataset\n",
      "---------------------------\n",
      "\n",
      "**Data Set Characteristics:**  \n",
      "\n",
      "    :Number of Instances: 506 \n",
      "\n",
      "    :Number of Attributes: 13 numeric/categorical predictive. Median Value (attribute 14) is usually the target.\n",
      "\n",
      "    :Attribute Information (in order):\n",
      "        - CRIM     per capita crime rate by town\n",
      "        - ZN       proportion of residential land zoned for lots over 25,000 sq.ft.\n",
      "        - INDUS    proportion of non-retail business acres per town\n",
      "        - CHAS     Charles River dummy variable (= 1 if tract bounds river; 0 otherwise)\n",
      "        - NOX      nitric oxides concentration (parts per 10 million)\n",
      "        - RM       average number of rooms per dwelling\n",
      "        - AGE      proportion of owner-occupied units built prior to 1940\n",
      "        - DIS      weighted distances to five Boston employment centres\n",
      "        - RAD      index of accessibility to radial highways\n",
      "        - TAX      full-value property-tax rate per $10,000\n",
      "        - PTRATIO  pupil-teacher ratio by town\n",
      "        - B        1000(Bk - 0.63)^2 where Bk is the proportion of blacks by town\n",
      "        - LSTAT    % lower status of the population\n",
      "        - MEDV     Median value of owner-occupied homes in $1000's\n",
      "\n",
      "    :Missing Attribute Values: None\n",
      "\n",
      "    :Creator: Harrison, D. and Rubinfeld, D.L.\n",
      "\n",
      "This is a copy of UCI ML housing dataset.\n",
      "https://archive.ics.uci.edu/ml/machine-learning-databases/housing/\n",
      "\n",
      "\n",
      "This dataset was taken from the StatLib library which is maintained at Carnegie Mellon University.\n",
      "\n",
      "The Boston house-price data of Harrison, D. and Rubinfeld, D.L. 'Hedonic\n",
      "prices and the demand for clean air', J. Environ. Economics & Management,\n",
      "vol.5, 81-102, 1978.   Used in Belsley, Kuh & Welsch, 'Regression diagnostics\n",
      "...', Wiley, 1980.   N.B. Various transformations are used in the table on\n",
      "pages 244-261 of the latter.\n",
      "\n",
      "The Boston house-price data has been used in many machine learning papers that address regression\n",
      "problems.   \n",
      "     \n",
      ".. topic:: References\n",
      "\n",
      "   - Belsley, Kuh & Welsch, 'Regression diagnostics: Identifying Influential Data and Sources of Collinearity', Wiley, 1980. 244-261.\n",
      "   - Quinlan,R. (1993). Combining Instance-Based and Model-Based Learning. In Proceedings on the Tenth International Conference of Machine Learning, 236-243, University of Massachusetts, Amherst. Morgan Kaufmann.\n",
      "\n"
     ]
    }
   ],
   "metadata": {}
  },
  {
   "cell_type": "code",
   "execution_count": 3,
   "source": [
    "X_train, X_test, y_train, y_test = train_test_split(X, y, test_size = 0.3, random_state=42)\r\n",
    "lassoa1 = Lasso(alpha=0.1, normalize=True)\r\n",
    "lassoa1.fit(X_train, y_train)\r\n",
    "print(lassoa1.coef_)\r\n",
    "print(lassoa1.intercept_)\r\n",
    "# 0-CRIM, 1-ZN, 2-INDUS, 3-CHAS, 4-NOX, 6-AGE, 7-DIS, 8-RAD, 9-TAX, 11-B"
   ],
   "outputs": [
    {
     "output_type": "stream",
     "name": "stdout",
     "text": [
      "[-0.          0.         -0.          0.         -0.          3.18852894\n",
      " -0.         -0.         -0.         -0.         -0.3066901   0.\n",
      " -0.48666476]\n",
      "14.496827419617063\n"
     ]
    }
   ],
   "metadata": {}
  },
  {
   "cell_type": "code",
   "execution_count": 4,
   "source": [
    "lassoa2 = Lasso(alpha=0.1, normalize=False)\r\n",
    "lassoa2.fit(X_train, y_train)\r\n",
    "print(lassoa2.coef_)\r\n",
    "print(lassoa2.intercept_)\r\n",
    "# 4-NOX"
   ],
   "outputs": [
    {
     "output_type": "stream",
     "name": "stdout",
     "text": [
      "[-1.22854422e-01  3.86385849e-02 -4.97188385e-04  1.48353759e+00\n",
      " -0.00000000e+00  3.89367421e+00 -1.96048179e-02 -1.10561397e+00\n",
      "  2.16673479e-01 -1.05844004e-02 -7.44014516e-01  1.23959059e-02\n",
      " -6.02281637e-01]\n",
      "22.664981803967592\n"
     ]
    }
   ],
   "metadata": {}
  },
  {
   "cell_type": "markdown",
   "source": [
    "### b) Mostre os coeficientes para alpha=0.4 e normalize=True. Mostre também para normalize=False."
   ],
   "metadata": {}
  },
  {
   "cell_type": "code",
   "execution_count": 5,
   "source": [
    "lassob1 = Lasso(alpha=0.4, normalize=True)\r\n",
    "lassob1.fit(X_train, y_train)\r\n",
    "print(lassob1.coef_)\r\n",
    "print(lassob1.intercept_)\r\n",
    "# 0-CRIM, 1-ZN, 2-INDUS, 3-CHAS, 4-NOX, 5-RM, 6-AGE, 7-DIS, 8-RAD, 9-TAX, 10-PTRATIO, 11-B, 12-LSTAT"
   ],
   "outputs": [
    {
     "output_type": "stream",
     "name": "stdout",
     "text": [
      "[-0.  0. -0.  0. -0.  0. -0.  0. -0. -0. -0.  0. -0.]\n",
      "23.01581920903955\n"
     ]
    }
   ],
   "metadata": {}
  },
  {
   "cell_type": "code",
   "execution_count": 6,
   "source": [
    "lassob2 = Lasso(alpha=0.4, normalize=False)\r\n",
    "lassob2.fit(X_train, y_train)\r\n",
    "print(lassob2.coef_)\r\n",
    "print(lassob2.intercept_)\r\n",
    "# 2-INDUS, 3-CHAS, 4-NOX"
   ],
   "outputs": [
    {
     "output_type": "stream",
     "name": "stdout",
     "text": [
      "[-0.11576163  0.0382639  -0.          0.         -0.          3.02904787\n",
      " -0.00594293 -0.94591883  0.21832368 -0.0105426  -0.73995647  0.01213879\n",
      " -0.66980952]\n",
      "27.500578610367032\n"
     ]
    }
   ],
   "metadata": {}
  },
  {
   "cell_type": "markdown",
   "source": [
    "### c) Houve feature(s) removida(s) em alguma configuração acima? Qual(is)?\n",
    "Sim"
   ],
   "metadata": {}
  },
  {
   "cell_type": "markdown",
   "source": [
    "#### item (a) com normalize=True"
   ],
   "metadata": {}
  },
  {
   "cell_type": "code",
   "execution_count": 7,
   "source": [
    "vcoef = lassoa1.coef_\r\n",
    "for idx in range(0,len(feature_names)) :\r\n",
    "    if vcoef[idx] == 0:\r\n",
    "        print(feature_names[idx])\r\n",
    "# 0-CRIM, 1-ZN, 2-INDUS, 3-CHAS, 4-NOX, 6-AGE, 7-DIS, 8-RAD, 9-TAX, 11-B"
   ],
   "outputs": [
    {
     "output_type": "stream",
     "name": "stdout",
     "text": [
      "CRIM\n",
      "ZN\n",
      "INDUS\n",
      "CHAS\n",
      "NOX\n",
      "AGE\n",
      "DIS\n",
      "RAD\n",
      "TAX\n",
      "B\n"
     ]
    }
   ],
   "metadata": {}
  },
  {
   "cell_type": "markdown",
   "source": [
    "#### item (a) com normalize=False"
   ],
   "metadata": {}
  },
  {
   "cell_type": "code",
   "execution_count": 8,
   "source": [
    "vcoef = lassoa2.coef_\r\n",
    "for idx in range(0,len(feature_names)) :\r\n",
    "    if vcoef[idx] == 0:\r\n",
    "        print(feature_names[idx])\r\n",
    "# 4-NOX"
   ],
   "outputs": [
    {
     "output_type": "stream",
     "name": "stdout",
     "text": [
      "NOX\n"
     ]
    }
   ],
   "metadata": {}
  },
  {
   "cell_type": "markdown",
   "source": [
    "#### item (b) com normalize=True"
   ],
   "metadata": {}
  },
  {
   "cell_type": "code",
   "execution_count": 9,
   "source": [
    "vcoef = lassob1.coef_\r\n",
    "for idx in range(0,len(feature_names)) :\r\n",
    "    if vcoef[idx] == 0:\r\n",
    "        print(feature_names[idx])\r\n",
    "# 0-CRIM, 1-ZN, 2-INDUS, 3-CHAS, 4-NOX, 5-RM, 6-AGE, 7-DIS, 8-RAD, 9-TAX, 10-PTRATIO, 11-B, 12-LSTAT"
   ],
   "outputs": [
    {
     "output_type": "stream",
     "name": "stdout",
     "text": [
      "CRIM\n",
      "ZN\n",
      "INDUS\n",
      "CHAS\n",
      "NOX\n",
      "RM\n",
      "AGE\n",
      "DIS\n",
      "RAD\n",
      "TAX\n",
      "PTRATIO\n",
      "B\n",
      "LSTAT\n"
     ]
    }
   ],
   "metadata": {}
  },
  {
   "cell_type": "markdown",
   "source": [
    "#### item (b) com normalize=False"
   ],
   "metadata": {}
  },
  {
   "cell_type": "code",
   "execution_count": 10,
   "source": [
    "vcoef = lassob2.coef_\r\n",
    "for idx in range(0,len(feature_names)) :\r\n",
    "    if vcoef[idx] == 0:\r\n",
    "        print(feature_names[idx])\r\n",
    "# 2-INDUS, 3-CHAS, 4-NOX"
   ],
   "outputs": [
    {
     "output_type": "stream",
     "name": "stdout",
     "text": [
      "INDUS\n",
      "CHAS\n",
      "NOX\n"
     ]
    }
   ],
   "metadata": {}
  },
  {
   "cell_type": "markdown",
   "source": [
    "## Questão 2 -  Dado o código a seguir (Fonte: Datacamp - Curso Supervised Learning with scikit-learn), use a regressão Ridge, que usa regularização L2, sobre o dataset Boston House Prices (sklearn.datasets.load_boston) para:\r\n",
    "\r\n",
    "(...)<br>\r\n",
    "from sklearn.linear_model import Ridge<br>\r\n",
    "(...)<br>\r\n",
    "X_train, X_test, y_train, y_test = train_test_split(X, y, test_size = 0.3, random_state=42)<br>\r\n",
    "ridge = Ridge(alpha=0.1, normalize=True)<br>\r\n",
    "ridge.fit(X_train, y_train)<br>\r\n",
    "ridge_pred = ridge.predict(X_test)<br>\r\n",
    "ridge.score(X_test, y_test)<br>"
   ],
   "metadata": {}
  },
  {
   "cell_type": "code",
   "execution_count": 11,
   "source": [
    "X_train, X_test, y_train, y_test = train_test_split(X, y, test_size = 0.3, random_state=42)\r\n",
    "ridge = Ridge(alpha=0.1, normalize=True)\r\n",
    "ridge.fit(X_train, y_train)\r\n",
    "ridge_pred = ridge.predict(X_test)\r\n",
    "ridge.score(X_test, y_test)"
   ],
   "outputs": [
    {
     "output_type": "execute_result",
     "data": {
      "text/plain": [
       "0.6996938275127316"
      ]
     },
     "metadata": {},
     "execution_count": 11
    }
   ],
   "metadata": {}
  },
  {
   "cell_type": "markdown",
   "source": [
    "### a) Adapte o código acima para mostrar em um gráfico os scores (R^2) sobre o conjunto de teste para os seguintes valores de alpha: \\[1.e-04, 1.e-03, 1.e-02, 1.e-01, 1.e+00\\]. Use normalize=True. Esses valores de alpha podem ser facilmente obtidos no numpy usando: valores_alpha = np.logspace(-4, 0, 5)."
   ],
   "metadata": {}
  },
  {
   "cell_type": "code",
   "execution_count": 12,
   "source": [
    "valores_alpha = np.logspace(-4, 0, 5)\r\n",
    "valores_alpha"
   ],
   "outputs": [
    {
     "output_type": "execute_result",
     "data": {
      "text/plain": [
       "array([1.e-04, 1.e-03, 1.e-02, 1.e-01, 1.e+00])"
      ]
     },
     "metadata": {},
     "execution_count": 12
    }
   ],
   "metadata": {}
  },
  {
   "cell_type": "code",
   "execution_count": 13,
   "source": [
    "R2 = []\r\n",
    "for a in valores_alpha:\r\n",
    "    ridge = Ridge(alpha=a, normalize=True)\r\n",
    "    ridge.fit(X_train, y_train)\r\n",
    "    ridge_pred = ridge.predict(X_test)\r\n",
    "    R2.append(ridge.score(X_test, y_test))"
   ],
   "outputs": [],
   "metadata": {}
  },
  {
   "cell_type": "code",
   "execution_count": 14,
   "source": [
    "R2"
   ],
   "outputs": [
    {
     "output_type": "execute_result",
     "data": {
      "text/plain": [
       "[0.7112111590981028,\n",
       " 0.7110775704734218,\n",
       " 0.7097594050919815,\n",
       " 0.6996938275127316,\n",
       " 0.6241064474736238]"
      ]
     },
     "metadata": {},
     "execution_count": 14
    }
   ],
   "metadata": {}
  },
  {
   "cell_type": "code",
   "execution_count": 15,
   "source": [
    "plt.bar(['1.e-04', '1.e-03', '1.e-02', '1.e-01', '1.e+00'], R2, color=\"green\")\r\n",
    "plt.xticks(['1.e-04', '1.e-03', '1.e-02', '1.e-01', '1.e+00'])\r\n",
    "plt.yticks([0.624, 0.65, 0.67, 0.69, 0.70, 0.71])\r\n",
    "plt.ylim([0.62, 0.712])\r\n",
    "\r\n",
    "# A label para o eixo Y\r\n",
    "plt.ylabel('R²')\r\n",
    "\r\n",
    "# A label para o eixo X\r\n",
    "plt.xlabel(\"Alpha\")\r\n",
    "\r\n",
    "# O título do gráfico\r\n",
    "plt.title('Alpha x R2')\r\n",
    " \r\n",
    "# Chamamos o método show() para mostrar o gráfico na tela\r\n",
    "plt.show()"
   ],
   "outputs": [
    {
     "output_type": "display_data",
     "data": {
      "text/plain": [
       "<Figure size 432x288 with 1 Axes>"
      ],
      "image/png": "[encoded data removed]"
     },
     "metadata": {
      "needs_background": "light"
     }
    }
   ],
   "metadata": {}
  },
  {
   "cell_type": "markdown",
   "source": [
    "### b) Mostre o mesmo para normalize=False."
   ],
   "metadata": {}
  },
  {
   "cell_type": "code",
   "execution_count": 16,
   "source": [
    "R2_false = []\r\n",
    "for a in valores_alpha:\r\n",
    "    ridge = Ridge(alpha=a, normalize=False)\r\n",
    "    ridge.fit(X_train, y_train)\r\n",
    "    ridge_pred = ridge.predict(X_test)\r\n",
    "    R2_false.append(ridge.score(X_test, y_test))"
   ],
   "outputs": [],
   "metadata": {}
  },
  {
   "cell_type": "code",
   "execution_count": 17,
   "source": [
    "R2_false"
   ],
   "outputs": [
    {
     "output_type": "execute_result",
     "data": {
      "text/plain": [
       "[0.7112250981524468,\n",
       " 0.711216928951723,\n",
       " 0.711135163316331,\n",
       " 0.710317820639133,\n",
       " 0.7041586727559437]"
      ]
     },
     "metadata": {},
     "execution_count": 17
    }
   ],
   "metadata": {}
  },
  {
   "cell_type": "code",
   "execution_count": 18,
   "source": [
    "plt.bar(['1.e-04', '1.e-03', '1.e-02', '1.e-01', '1.e+00'], R2_false, color=\"green\")\r\n",
    "plt.xticks(['1.e-04', '1.e-03', '1.e-02', '1.e-01', '1.e+00'])\r\n",
    "plt.yticks([0.704, 0.706, 0.710, 0.711, 0.712])\r\n",
    "plt.ylim([0.702, 0.712])\r\n",
    "\r\n",
    "# A label para o eixo Y\r\n",
    "plt.ylabel('R²')\r\n",
    "\r\n",
    "# A label para o eixo X\r\n",
    "plt.xlabel(\"Alpha\")\r\n",
    "\r\n",
    "# O título do gráfico\r\n",
    "plt.title('Alpha x R2')\r\n",
    " \r\n",
    "# Chamamos o método show() para mostrar o gráfico na tela\r\n",
    "plt.show()"
   ],
   "outputs": [
    {
     "output_type": "display_data",
     "data": {
      "text/plain": [
       "<Figure size 432x288 with 1 Axes>"
      ],
      "image/png": "[encoded data removed]"
     },
     "metadata": {
      "needs_background": "light"
     }
    }
   ],
   "metadata": {}
  },
  {
   "cell_type": "markdown",
   "source": [
    "### c) Agora pegue os hiperparâmetros do melhor resultado que você obteve. Treine um novo modelo usando-os, mas mudando agora a quantidade de épocas (hiperparâmetro max_iter) para apenas 10 (o valor default é 1000). Qual o score R^2 sobre o conjunto de teste para o novo modelo?"
   ],
   "metadata": {}
  },
  {
   "cell_type": "code",
   "execution_count": 19,
   "source": [
    "max_R2 = max(R2)\r\n",
    "max_R2_false = max(R2_false)\r\n",
    "\r\n",
    "if max_R2 > max_R2_false:\r\n",
    "    max_idx = R2.index(max_R2)\r\n",
    "    norm_ans = True\r\n",
    "else:\r\n",
    "    max_idx = R2_false.index(max_R2_false)\r\n",
    "    norm_ans = False\r\n",
    "\r\n",
    "print(max_idx)\r\n",
    "print(norm_ans)"
   ],
   "outputs": [
    {
     "output_type": "stream",
     "name": "stdout",
     "text": [
      "0\n",
      "False\n"
     ]
    }
   ],
   "metadata": {}
  },
  {
   "cell_type": "code",
   "execution_count": 20,
   "source": [
    "#print(valores_alpha[max_idx])\r\n",
    "#print(norm_ans)\r\n",
    "\r\n",
    "ridge = Ridge(alpha=valores_alpha[max_idx], normalize=norm_ans, max_iter=10)\r\n",
    "ridge.fit(X_train, y_train)\r\n",
    "ridge_pred = ridge.predict(X_test)\r\n",
    "ridge.score(X_test, y_test)"
   ],
   "outputs": [
    {
     "output_type": "execute_result",
     "data": {
      "text/plain": [
       "0.7112250981524468"
      ]
     },
     "metadata": {},
     "execution_count": 20
    }
   ],
   "metadata": {}
  },
  {
   "cell_type": "markdown",
   "source": [
    "## Questão 3 - Resolva o problema de classificação binária sobre o dataset \"Pima Indians Diabetes Database (link alternativo no Kaggle)\". "
   ],
   "metadata": {}
  },
  {
   "cell_type": "code",
   "execution_count": 21,
   "source": [
    "diabetes = pd.read_csv(\"dataset/diabetes.csv\")\r\n",
    "print(diabetes.shape)\r\n",
    "diabetes.head()"
   ],
   "outputs": [
    {
     "output_type": "stream",
     "name": "stdout",
     "text": [
      "(768, 9)\n"
     ]
    },
    {
     "output_type": "execute_result",
     "data": {
      "text/plain": [
       "   Pregnancies  Glucose  BloodPressure  SkinThickness  Insulin   BMI  \\\n",
       "0            6      148             72             35        0  33.6   \n",
       "1            1       85             66             29        0  26.6   \n",
       "2            8      183             64              0        0  23.3   \n",
       "3            1       89             66             23       94  28.1   \n",
       "4            0      137             40             35      168  43.1   \n",
       "\n",
       "   DiabetesPedigreeFunction  Age  Outcome  \n",
       "0                     0.627   50        1  \n",
       "1                     0.351   31        0  \n",
       "2                     0.672   32        1  \n",
       "3                     0.167   21        0  \n",
       "4                     2.288   33        1  "
      ],
      "text/html": [
       "<div>\n",
       "<style scoped>\n",
       "    .dataframe tbody tr th:only-of-type {\n",
       "        vertical-align: middle;\n",
       "    }\n",
       "\n",
       "    .dataframe tbody tr th {\n",
       "        vertical-align: top;\n",
       "    }\n",
       "\n",
       "    .dataframe thead th {\n",
       "        text-align: right;\n",
       "    }\n",
       "</style>\n",
       "<table border=\"1\" class=\"dataframe\">\n",
       "  <thead>\n",
       "    <tr style=\"text-align: right;\">\n",
       "      <th></th>\n",
       "      <th>Pregnancies</th>\n",
       "      <th>Glucose</th>\n",
       "      <th>BloodPressure</th>\n",
       "      <th>SkinThickness</th>\n",
       "      <th>Insulin</th>\n",
       "      <th>BMI</th>\n",
       "      <th>DiabetesPedigreeFunction</th>\n",
       "      <th>Age</th>\n",
       "      <th>Outcome</th>\n",
       "    </tr>\n",
       "  </thead>\n",
       "  <tbody>\n",
       "    <tr>\n",
       "      <th>0</th>\n",
       "      <td>6</td>\n",
       "      <td>148</td>\n",
       "      <td>72</td>\n",
       "      <td>35</td>\n",
       "      <td>0</td>\n",
       "      <td>33.6</td>\n",
       "      <td>0.627</td>\n",
       "      <td>50</td>\n",
       "      <td>1</td>\n",
       "    </tr>\n",
       "    <tr>\n",
       "      <th>1</th>\n",
       "      <td>1</td>\n",
       "      <td>85</td>\n",
       "      <td>66</td>\n",
       "      <td>29</td>\n",
       "      <td>0</td>\n",
       "      <td>26.6</td>\n",
       "      <td>0.351</td>\n",
       "      <td>31</td>\n",
       "      <td>0</td>\n",
       "    </tr>\n",
       "    <tr>\n",
       "      <th>2</th>\n",
       "      <td>8</td>\n",
       "      <td>183</td>\n",
       "      <td>64</td>\n",
       "      <td>0</td>\n",
       "      <td>0</td>\n",
       "      <td>23.3</td>\n",
       "      <td>0.672</td>\n",
       "      <td>32</td>\n",
       "      <td>1</td>\n",
       "    </tr>\n",
       "    <tr>\n",
       "      <th>3</th>\n",
       "      <td>1</td>\n",
       "      <td>89</td>\n",
       "      <td>66</td>\n",
       "      <td>23</td>\n",
       "      <td>94</td>\n",
       "      <td>28.1</td>\n",
       "      <td>0.167</td>\n",
       "      <td>21</td>\n",
       "      <td>0</td>\n",
       "    </tr>\n",
       "    <tr>\n",
       "      <th>4</th>\n",
       "      <td>0</td>\n",
       "      <td>137</td>\n",
       "      <td>40</td>\n",
       "      <td>35</td>\n",
       "      <td>168</td>\n",
       "      <td>43.1</td>\n",
       "      <td>2.288</td>\n",
       "      <td>33</td>\n",
       "      <td>1</td>\n",
       "    </tr>\n",
       "  </tbody>\n",
       "</table>\n",
       "</div>"
      ]
     },
     "metadata": {},
     "execution_count": 21
    }
   ],
   "metadata": {}
  },
  {
   "cell_type": "markdown",
   "source": [
    "### item 1 - Separe os dados em treino (80%) e teste (20%)."
   ],
   "metadata": {}
  },
  {
   "cell_type": "code",
   "execution_count": 22,
   "source": [
    "y = diabetes['Outcome'].values\r\n",
    "X = diabetes.copy()\r\n",
    "del X['Outcome']\r\n",
    "X = X.values\r\n",
    "print(y.shape)\r\n",
    "print(X.shape)"
   ],
   "outputs": [
    {
     "output_type": "stream",
     "name": "stdout",
     "text": [
      "(768,)\n",
      "(768, 8)\n"
     ]
    }
   ],
   "metadata": {}
  },
  {
   "cell_type": "code",
   "execution_count": 23,
   "source": [
    "X_train, X_test, y_train, y_test = train_test_split(X, y, test_size = 0.2, random_state=42)\r\n",
    "valores_alpha = np.logspace(-7, 7, 5)\r\n",
    "valores_alpha"
   ],
   "outputs": [
    {
     "output_type": "execute_result",
     "data": {
      "text/plain": [
       "array([1.00000000e-07, 3.16227766e-04, 1.00000000e+00, 3.16227766e+03,\n",
       "       1.00000000e+07])"
      ]
     },
     "metadata": {},
     "execution_count": 23
    }
   ],
   "metadata": {}
  },
  {
   "cell_type": "markdown",
   "source": [
    "### item 2 - Use o algoritmo __LogisticRegression__."
   ],
   "metadata": {}
  },
  {
   "cell_type": "markdown",
   "source": [
    "### penalty='none'"
   ],
   "metadata": {}
  },
  {
   "cell_type": "code",
   "execution_count": 24,
   "source": [
    "lr_none = LogisticRegression(penalty='none')\r\n",
    "lr_none.fit(X_train, y_train)\r\n",
    "y_pred = lr_none.predict(X_test)\r\n",
    "#score.append(lr.score(X_test, y_test))\r\n",
    "score = metrics.accuracy_score(y_test, y_pred)\r\n",
    "print(lr_none.coef_[0])"
   ],
   "outputs": [
    {
     "output_type": "stream",
     "name": "stdout",
     "text": [
      "[ 0.05973423  0.03578764 -0.01417207  0.00440241 -0.00212616  0.10549724\n",
      "  0.94935471  0.03527163]\n"
     ]
    }
   ],
   "metadata": {}
  },
  {
   "cell_type": "code",
   "execution_count": 25,
   "source": [
    "score = []\r\n",
    "#print(valores_alpha)\r\n",
    "for a in valores_alpha:\r\n",
    "    lr = LogisticRegression(penalty='none', C=(1/a))\r\n",
    "    lr.fit(X_train, y_train)\r\n",
    "    y_pred = lr.predict(X_test)\r\n",
    "    #score.append(lr.score(X_test, y_test))\r\n",
    "    score.append(metrics.accuracy_score(y_test, y_pred))\r\n",
    "score"
   ],
   "outputs": [
    {
     "output_type": "execute_result",
     "data": {
      "text/plain": [
       "[0.7597402597402597,\n",
       " 0.7597402597402597,\n",
       " 0.7597402597402597,\n",
       " 0.7597402597402597,\n",
       " 0.7597402597402597]"
      ]
     },
     "metadata": {},
     "execution_count": 25
    }
   ],
   "metadata": {}
  },
  {
   "cell_type": "markdown",
   "source": [
    "### penalty='l1'"
   ],
   "metadata": {}
  },
  {
   "cell_type": "code",
   "execution_count": 26,
   "source": [
    "lr = LogisticRegression(penalty='l1', solver='liblinear')\r\n",
    "lr.fit(X_train, y_train)\r\n",
    "y_pred = lr.predict(X_test)\r\n",
    "#score.append(lr.score(X_test, y_test))\r\n",
    "score = metrics.accuracy_score(y_test, y_pred)\r\n",
    "print(lr.coef_[0])"
   ],
   "outputs": [
    {
     "output_type": "stream",
     "name": "stdout",
     "text": [
      "[ 0.06378557  0.03229646 -0.01463462  0.00303176 -0.00161999  0.09417762\n",
      "  0.54758975  0.03448149]\n"
     ]
    }
   ],
   "metadata": {}
  },
  {
   "cell_type": "code",
   "execution_count": 27,
   "source": [
    "plt.bar(diabetes.columns[:-1].values, lr.coef_[0], color=\"red\")\r\n",
    "plt.xticks(diabetes.columns[:-1].values, rotation=90)\r\n",
    "#plt.yticks([0.704, 0.706, 0.710, 0.711, 0.712])\r\n",
    "#plt.ylim([0.702, 0.712])\r\n",
    "\r\n",
    "# A label para o eixo Y\r\n",
    "plt.ylabel('Valor do Coeficiente')\r\n",
    "\r\n",
    "# A label para o eixo X\r\n",
    "plt.xlabel(\"Features\")\r\n",
    "\r\n",
    "# O título do gráfico\r\n",
    "plt.title('Impacto de penalty=l1 sobre os coeficientes')\r\n",
    " \r\n",
    "# Chamamos o método show() para mostrar o gráfico na tela\r\n",
    "plt.show()"
   ],
   "outputs": [
    {
     "output_type": "display_data",
     "data": {
      "text/plain": [
       "<Figure size 432x288 with 1 Axes>"
      ],
      "image/png": "[encoded data removed]"
     },
     "metadata": {
      "needs_background": "light"
     }
    }
   ],
   "metadata": {}
  },
  {
   "cell_type": "code",
   "execution_count": 28,
   "source": [
    "score = []\r\n",
    "#print(valores_alpha)\r\n",
    "for a in valores_alpha:\r\n",
    "    lr = LogisticRegression(penalty='l1', C=(1/a), solver='liblinear')\r\n",
    "    lr.fit(X_train, y_train)\r\n",
    "    y_pred = lr.predict(X_test)\r\n",
    "    #score.append(lr.score(X_test, y_test))\r\n",
    "    score.append(metrics.accuracy_score(y_test, y_pred))\r\n",
    "score"
   ],
   "outputs": [
    {
     "output_type": "execute_result",
     "data": {
      "text/plain": [
       "[0.7532467532467533,\n",
       " 0.7532467532467533,\n",
       " 0.7532467532467533,\n",
       " 0.6428571428571429,\n",
       " 0.6428571428571429]"
      ]
     },
     "metadata": {},
     "execution_count": 28
    }
   ],
   "metadata": {}
  },
  {
   "cell_type": "markdown",
   "source": [
    "### penalty='l2'"
   ],
   "metadata": {}
  },
  {
   "cell_type": "code",
   "execution_count": 29,
   "source": [
    "lr = LogisticRegression(penalty='l2')\r\n",
    "lr.fit(X_train, y_train)\r\n",
    "y_pred = lr.predict(X_test)\r\n",
    "#score.append(lr.score(X_test, y_test))\r\n",
    "score = metrics.accuracy_score(y_test, y_pred)\r\n",
    "print(lr.coef_[0])"
   ],
   "outputs": [
    {
     "output_type": "stream",
     "name": "stdout",
     "text": [
      "[ 0.05751072  0.0340953  -0.01426805  0.00439296 -0.00186568  0.09973223\n",
      "  0.60626     0.03689671]\n"
     ]
    }
   ],
   "metadata": {}
  },
  {
   "cell_type": "code",
   "execution_count": 30,
   "source": [
    "plt.figure(figsize = (14, 5))\r\n",
    "\r\n",
    "barWidth = 0.5\r\n",
    "\r\n",
    "p1 = np.arange(len(lr_none.coef_[0]))\r\n",
    "p2 = [p + barWidth for p in p1]\r\n",
    "\r\n",
    "\r\n",
    "plt.bar(p1, lr_none.coef_[0], color='green', width=barWidth, label='None')\r\n",
    "plt.bar(p2, lr.coef_[0], color='blue', width=barWidth, label='L2')\r\n",
    "plt.legend()\r\n",
    "plt.xlabel('Features')\r\n",
    "plt.ylabel('Coeficientes')\r\n",
    "plt.title('Comparação da L2 com None')\r\n",
    "plt.xticks((p1+p2)/2, diabetes.columns[:-1], rotation=90)\r\n",
    "plt.show()"
   ],
   "outputs": [
    {
     "output_type": "display_data",
     "data": {
      "text/plain": [
       "<Figure size 1008x360 with 1 Axes>"
      ],
      "image/png": "[encoded data removed]"
     },
     "metadata": {
      "needs_background": "light"
     }
    }
   ],
   "metadata": {}
  },
  {
   "cell_type": "code",
   "execution_count": 31,
   "source": [
    "plt.bar(diabetes.columns[:-1].values, lr.coef_[0], color=\"blue\")\r\n",
    "plt.xticks(diabetes.columns[:-1].values, rotation=90)\r\n",
    "#plt.yticks([0.704, 0.706, 0.710, 0.711, 0.712])\r\n",
    "#plt.ylim([0.702, 0.712])\r\n",
    "\r\n",
    "# A label para o eixo Y\r\n",
    "plt.ylabel('Valor do Coeficiente')\r\n",
    "\r\n",
    "# A label para o eixo X\r\n",
    "plt.xlabel(\"Features\")\r\n",
    "\r\n",
    "# O título do gráfico\r\n",
    "plt.title('Impacto de penalty=l2 sobre os coeficientes')\r\n",
    " \r\n",
    "# Chamamos o método show() para mostrar o gráfico na tela\r\n",
    "plt.show()"
   ],
   "outputs": [
    {
     "output_type": "display_data",
     "data": {
      "text/plain": [
       "<Figure size 432x288 with 1 Axes>"
      ],
      "image/png": "[encoded data removed]"
     },
     "metadata": {
      "needs_background": "light"
     }
    }
   ],
   "metadata": {}
  },
  {
   "cell_type": "code",
   "execution_count": 32,
   "source": [
    "score = []\r\n",
    "#print(valores_alpha)\r\n",
    "for a in valores_alpha:\r\n",
    "    lr = LogisticRegression(penalty='l2', C=(1/a))\r\n",
    "    lr.fit(X_train, y_train)\r\n",
    "    y_pred = lr.predict(X_test)\r\n",
    "    #score.append(lr.score(X_test, y_test))\r\n",
    "    score.append(metrics.accuracy_score(y_test, y_pred))\r\n",
    "score"
   ],
   "outputs": [
    {
     "output_type": "execute_result",
     "data": {
      "text/plain": [
       "[0.7727272727272727,\n",
       " 0.7597402597402597,\n",
       " 0.7467532467532467,\n",
       " 0.7792207792207793,\n",
       " 0.6428571428571429]"
      ]
     },
     "metadata": {},
     "execution_count": 32
    }
   ],
   "metadata": {}
  },
  {
   "cell_type": "markdown",
   "source": [
    "### penalty='elasticnet'"
   ],
   "metadata": {}
  },
  {
   "cell_type": "code",
   "execution_count": 33,
   "source": [
    "score = []\r\n",
    "#print(valores_alpha)\r\n",
    "for a in valores_alpha:\r\n",
    "    lr = LogisticRegression(penalty='elasticnet', C=(1/a), solver='saga', l1_ratio=0.88)\r\n",
    "    lr.fit(X_train, y_train)\r\n",
    "    y_pred = lr.predict(X_test)\r\n",
    "    #score.append(lr.score(X_test, y_test))\r\n",
    "    score.append(metrics.accuracy_score(y_test, y_pred))\r\n",
    "score"
   ],
   "outputs": [
    {
     "output_type": "execute_result",
     "data": {
      "text/plain": [
       "[0.6948051948051948,\n",
       " 0.6948051948051948,\n",
       " 0.6948051948051948,\n",
       " 0.6428571428571429,\n",
       " 0.6428571428571429]"
      ]
     },
     "metadata": {},
     "execution_count": 33
    }
   ],
   "metadata": {}
  }
 ]
}