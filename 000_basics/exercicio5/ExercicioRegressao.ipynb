{
 "cells": [
  {
   "cell_type": "markdown",
   "metadata": {},
   "source": [
    "# Exercício Regressão\n",
    "\n",
    "## Primeira parte:\n",
    "\n",
    "- Utilizar os dados do gapminder.csv para determinar a expectativa de vida em um país baseado em features como GDP do país, taxa de fertilidade e população. Como a variável alvo é quantitativa o problema é de regressão.\n",
    "- Ajuste uma Regressão Linear com apenas a feature fertilidade (fertility), que é o número médio de crianças que uma mulher dá a luz. lembre-se de usar o `.reshape` do `numpy`.\n",
    "- Crie o `prediction_space` usando `numpy.linspace()`."
   ]
  },
  {
   "cell_type": "code",
   "execution_count": 87,
   "metadata": {},
   "outputs": [],
   "source": [
    "import pandas as pd\n",
    "import numpy as np\n",
    "import matplotlib.pyplot as plt\n",
    "from sklearn.linear_model import LinearRegression"
   ]
  },
  {
   "cell_type": "code",
   "execution_count": 88,
   "metadata": {},
   "outputs": [
    {
     "data": {
      "text/html": [
       "<div>\n",
       "<style scoped>\n",
       "    .dataframe tbody tr th:only-of-type {\n",
       "        vertical-align: middle;\n",
       "    }\n",
       "\n",
       "    .dataframe tbody tr th {\n",
       "        vertical-align: top;\n",
       "    }\n",
       "\n",
       "    .dataframe thead th {\n",
       "        text-align: right;\n",
       "    }\n",
       "</style>\n",
       "<table border=\"1\" class=\"dataframe\">\n",
       "  <thead>\n",
       "    <tr style=\"text-align: right;\">\n",
       "      <th></th>\n",
       "      <th>population</th>\n",
       "      <th>fertility</th>\n",
       "      <th>HIV</th>\n",
       "      <th>CO2</th>\n",
       "      <th>BMI_male</th>\n",
       "      <th>GDP</th>\n",
       "      <th>BMI_female</th>\n",
       "      <th>life</th>\n",
       "      <th>child_mortality</th>\n",
       "      <th>Region</th>\n",
       "    </tr>\n",
       "  </thead>\n",
       "  <tbody>\n",
       "    <tr>\n",
       "      <th>0</th>\n",
       "      <td>34811059.0</td>\n",
       "      <td>2.73</td>\n",
       "      <td>0.1</td>\n",
       "      <td>3.328945</td>\n",
       "      <td>24.59620</td>\n",
       "      <td>12314.0</td>\n",
       "      <td>129.9049</td>\n",
       "      <td>75.3</td>\n",
       "      <td>29.5</td>\n",
       "      <td>Middle East &amp; North Africa</td>\n",
       "    </tr>\n",
       "    <tr>\n",
       "      <th>1</th>\n",
       "      <td>19842251.0</td>\n",
       "      <td>6.43</td>\n",
       "      <td>2.0</td>\n",
       "      <td>1.474353</td>\n",
       "      <td>22.25083</td>\n",
       "      <td>7103.0</td>\n",
       "      <td>130.1247</td>\n",
       "      <td>58.3</td>\n",
       "      <td>192.0</td>\n",
       "      <td>Sub-Saharan Africa</td>\n",
       "    </tr>\n",
       "    <tr>\n",
       "      <th>2</th>\n",
       "      <td>40381860.0</td>\n",
       "      <td>2.24</td>\n",
       "      <td>0.5</td>\n",
       "      <td>4.785170</td>\n",
       "      <td>27.50170</td>\n",
       "      <td>14646.0</td>\n",
       "      <td>118.8915</td>\n",
       "      <td>75.5</td>\n",
       "      <td>15.4</td>\n",
       "      <td>America</td>\n",
       "    </tr>\n",
       "    <tr>\n",
       "      <th>3</th>\n",
       "      <td>2975029.0</td>\n",
       "      <td>1.40</td>\n",
       "      <td>0.1</td>\n",
       "      <td>1.804106</td>\n",
       "      <td>25.35542</td>\n",
       "      <td>7383.0</td>\n",
       "      <td>132.8108</td>\n",
       "      <td>72.5</td>\n",
       "      <td>20.0</td>\n",
       "      <td>Europe &amp; Central Asia</td>\n",
       "    </tr>\n",
       "    <tr>\n",
       "      <th>4</th>\n",
       "      <td>21370348.0</td>\n",
       "      <td>1.96</td>\n",
       "      <td>0.1</td>\n",
       "      <td>18.016313</td>\n",
       "      <td>27.56373</td>\n",
       "      <td>41312.0</td>\n",
       "      <td>117.3755</td>\n",
       "      <td>81.5</td>\n",
       "      <td>5.2</td>\n",
       "      <td>East Asia &amp; Pacific</td>\n",
       "    </tr>\n",
       "    <tr>\n",
       "      <th>...</th>\n",
       "      <td>...</td>\n",
       "      <td>...</td>\n",
       "      <td>...</td>\n",
       "      <td>...</td>\n",
       "      <td>...</td>\n",
       "      <td>...</td>\n",
       "      <td>...</td>\n",
       "      <td>...</td>\n",
       "      <td>...</td>\n",
       "      <td>...</td>\n",
       "    </tr>\n",
       "    <tr>\n",
       "      <th>134</th>\n",
       "      <td>3350832.0</td>\n",
       "      <td>2.11</td>\n",
       "      <td>0.5</td>\n",
       "      <td>2.489764</td>\n",
       "      <td>26.39123</td>\n",
       "      <td>15317.0</td>\n",
       "      <td>124.2604</td>\n",
       "      <td>76.0</td>\n",
       "      <td>13.0</td>\n",
       "      <td>America</td>\n",
       "    </tr>\n",
       "    <tr>\n",
       "      <th>135</th>\n",
       "      <td>26952719.0</td>\n",
       "      <td>2.46</td>\n",
       "      <td>0.1</td>\n",
       "      <td>4.476669</td>\n",
       "      <td>25.32054</td>\n",
       "      <td>3733.0</td>\n",
       "      <td>124.3462</td>\n",
       "      <td>68.7</td>\n",
       "      <td>49.2</td>\n",
       "      <td>Europe &amp; Central Asia</td>\n",
       "    </tr>\n",
       "    <tr>\n",
       "      <th>136</th>\n",
       "      <td>86589342.0</td>\n",
       "      <td>1.86</td>\n",
       "      <td>0.4</td>\n",
       "      <td>1.479347</td>\n",
       "      <td>20.91630</td>\n",
       "      <td>4085.0</td>\n",
       "      <td>121.9367</td>\n",
       "      <td>75.4</td>\n",
       "      <td>26.2</td>\n",
       "      <td>East Asia &amp; Pacific</td>\n",
       "    </tr>\n",
       "    <tr>\n",
       "      <th>137</th>\n",
       "      <td>13114579.0</td>\n",
       "      <td>5.88</td>\n",
       "      <td>13.6</td>\n",
       "      <td>0.148982</td>\n",
       "      <td>20.68321</td>\n",
       "      <td>3039.0</td>\n",
       "      <td>132.4493</td>\n",
       "      <td>52.0</td>\n",
       "      <td>94.9</td>\n",
       "      <td>Sub-Saharan Africa</td>\n",
       "    </tr>\n",
       "    <tr>\n",
       "      <th>138</th>\n",
       "      <td>13495462.0</td>\n",
       "      <td>3.85</td>\n",
       "      <td>15.1</td>\n",
       "      <td>0.654323</td>\n",
       "      <td>22.02660</td>\n",
       "      <td>1286.0</td>\n",
       "      <td>131.9745</td>\n",
       "      <td>49.0</td>\n",
       "      <td>98.3</td>\n",
       "      <td>Sub-Saharan Africa</td>\n",
       "    </tr>\n",
       "  </tbody>\n",
       "</table>\n",
       "<p>139 rows × 10 columns</p>\n",
       "</div>"
      ],
      "text/plain": [
       "     population  fertility   HIV        CO2  BMI_male      GDP  BMI_female  \\\n",
       "0    34811059.0       2.73   0.1   3.328945  24.59620  12314.0    129.9049   \n",
       "1    19842251.0       6.43   2.0   1.474353  22.25083   7103.0    130.1247   \n",
       "2    40381860.0       2.24   0.5   4.785170  27.50170  14646.0    118.8915   \n",
       "3     2975029.0       1.40   0.1   1.804106  25.35542   7383.0    132.8108   \n",
       "4    21370348.0       1.96   0.1  18.016313  27.56373  41312.0    117.3755   \n",
       "..          ...        ...   ...        ...       ...      ...         ...   \n",
       "134   3350832.0       2.11   0.5   2.489764  26.39123  15317.0    124.2604   \n",
       "135  26952719.0       2.46   0.1   4.476669  25.32054   3733.0    124.3462   \n",
       "136  86589342.0       1.86   0.4   1.479347  20.91630   4085.0    121.9367   \n",
       "137  13114579.0       5.88  13.6   0.148982  20.68321   3039.0    132.4493   \n",
       "138  13495462.0       3.85  15.1   0.654323  22.02660   1286.0    131.9745   \n",
       "\n",
       "     life  child_mortality                      Region  \n",
       "0    75.3             29.5  Middle East & North Africa  \n",
       "1    58.3            192.0          Sub-Saharan Africa  \n",
       "2    75.5             15.4                     America  \n",
       "3    72.5             20.0       Europe & Central Asia  \n",
       "4    81.5              5.2         East Asia & Pacific  \n",
       "..    ...              ...                         ...  \n",
       "134  76.0             13.0                     America  \n",
       "135  68.7             49.2       Europe & Central Asia  \n",
       "136  75.4             26.2         East Asia & Pacific  \n",
       "137  52.0             94.9          Sub-Saharan Africa  \n",
       "138  49.0             98.3          Sub-Saharan Africa  \n",
       "\n",
       "[139 rows x 10 columns]"
      ]
     },
     "execution_count": 88,
     "metadata": {},
     "output_type": "execute_result"
    }
   ],
   "source": [
    "data = pd.read_csv('gm_2008_region.csv')\n",
    "data"
   ]
  },
  {
   "cell_type": "code",
   "execution_count": 89,
   "metadata": {},
   "outputs": [
    {
     "data": {
      "text/plain": [
       "array([2.73, 6.43, 2.24, 1.4 , 1.96, 1.41, 1.99, 1.89, 2.38, 1.83, 1.42,\n",
       "       1.82, 2.91, 5.27, 2.51, 3.48, 2.86, 1.9 , 1.43, 6.04, 6.48, 3.05,\n",
       "       5.17, 1.68, 6.81, 1.89, 2.43, 5.05, 5.1 , 1.91, 4.91, 1.43, 1.5 ,\n",
       "       1.89, 3.76, 2.73, 2.95, 2.32, 5.31, 5.16, 1.62, 2.74, 1.85, 1.97,\n",
       "       4.28, 5.8 , 1.79, 1.37, 4.19, 1.46, 4.12, 5.34, 5.25, 2.74, 3.5 ,\n",
       "       3.27, 1.33, 2.12, 2.64, 2.48, 1.88, 2.  , 2.92, 1.39, 2.39, 1.34,\n",
       "       2.51, 4.76, 1.5 , 1.57, 3.34, 5.19, 1.42, 1.63, 4.79, 5.78, 2.05,\n",
       "       2.38, 6.82, 1.38, 4.94, 1.58, 2.35, 1.49, 2.37, 2.44, 5.54, 2.05,\n",
       "       2.9 , 1.77, 2.12, 2.72, 7.59, 6.02, 1.96, 2.89, 3.58, 2.61, 4.07,\n",
       "       3.06, 2.58, 3.26, 1.33, 1.36, 2.2 , 1.34, 1.49, 5.06, 5.11, 1.41,\n",
       "       5.13, 1.28, 1.31, 1.43, 7.06, 2.54, 1.42, 2.32, 4.79, 2.41, 3.7 ,\n",
       "       1.92, 1.47, 3.7 , 5.54, 1.48, 4.88, 1.8 , 2.04, 2.15, 6.34, 1.38,\n",
       "       1.87, 2.07, 2.11, 2.46, 1.86, 5.88, 3.85])"
      ]
     },
     "execution_count": 89,
     "metadata": {},
     "output_type": "execute_result"
    }
   ],
   "source": [
    "X_fertility = data['fertility'].values\n",
    "X_fertility"
   ]
  },
  {
   "cell_type": "code",
   "execution_count": 90,
   "metadata": {},
   "outputs": [
    {
     "data": {
      "text/plain": [
       "array([75.3, 58.3, 75.5, 72.5, 81.5, 80.4, 70.6, 72.2, 68.4, 75.3, 70.1,\n",
       "       79.4, 70.7, 63.2, 67.6, 70.9, 61.2, 73.9, 73.2, 59.4, 57.4, 66.2,\n",
       "       56.6, 80.7, 54.8, 78.9, 75.1, 62.6, 58.6, 79.7, 55.9, 76.5, 77.8,\n",
       "       78.7, 61. , 74. , 70.1, 74.1, 56.7, 60.4, 74. , 65.7, 79.4, 81. ,\n",
       "       57.5, 62.2, 72.1, 80. , 62.7, 79.5, 70.8, 58.3, 51.3, 63. , 61.7,\n",
       "       70.9, 73.8, 82. , 64.4, 69.5, 76.9, 79.4, 80.9, 81.4, 75.5, 82.6,\n",
       "       66.1, 61.5, 72.3, 77.6, 45.2, 61. , 72. , 80.7, 63.4, 51.4, 74.5,\n",
       "       78.2, 55.8, 81.4, 63.6, 72.1, 75.7, 69.6, 63.2, 73.3, 55. , 60.8,\n",
       "       68.6, 80.3, 80.2, 75.2, 59.7, 58. , 80.7, 74.6, 64.1, 77.1, 58.2,\n",
       "       73.6, 76.8, 69.4, 75.3, 79.2, 80.4, 73.4, 67.6, 62.2, 64.3, 76.4,\n",
       "       55.9, 80.9, 74.8, 78.5, 56.7, 55. , 81.1, 74.3, 67.4, 69.1, 46.1,\n",
       "       81.1, 81.9, 69.5, 59.7, 74.1, 60. , 71.3, 76.5, 75.1, 57.2, 68.2,\n",
       "       79.5, 78.2, 76. , 68.7, 75.4, 52. , 49. ])"
      ]
     },
     "execution_count": 90,
     "metadata": {},
     "output_type": "execute_result"
    }
   ],
   "source": [
    "y = data['life'].values\n",
    "y"
   ]
  },
  {
   "cell_type": "code",
   "execution_count": 91,
   "metadata": {},
   "outputs": [
    {
     "data": {
      "text/plain": [
       "(139,)"
      ]
     },
     "execution_count": 91,
     "metadata": {},
     "output_type": "execute_result"
    }
   ],
   "source": [
    "y.shape"
   ]
  },
  {
   "cell_type": "code",
   "execution_count": 92,
   "metadata": {},
   "outputs": [
    {
     "data": {
      "text/plain": [
       "(139, 1)"
      ]
     },
     "execution_count": 92,
     "metadata": {},
     "output_type": "execute_result"
    }
   ],
   "source": [
    "# Convertendo o array 1D para 2D\n",
    "y = y.reshape(-1, 1) # -1 significa que o valor será inferido pelo tamanho de y\n",
    "y.shape"
   ]
  },
  {
   "cell_type": "code",
   "execution_count": 93,
   "metadata": {},
   "outputs": [
    {
     "data": {
      "text/plain": [
       "(139,)"
      ]
     },
     "execution_count": 93,
     "metadata": {},
     "output_type": "execute_result"
    }
   ],
   "source": [
    "X_fertility.shape"
   ]
  },
  {
   "cell_type": "code",
   "execution_count": 94,
   "metadata": {},
   "outputs": [
    {
     "data": {
      "text/plain": [
       "(139, 1)"
      ]
     },
     "execution_count": 94,
     "metadata": {},
     "output_type": "execute_result"
    }
   ],
   "source": [
    "X_fertility = X_fertility.reshape(-1, 1)\n",
    "X_fertility.shape"
   ]
  },
  {
   "cell_type": "code",
   "execution_count": 95,
   "metadata": {},
   "outputs": [
    {
     "data": {
      "text/plain": [
       "array([[2.73],\n",
       "       [6.43],\n",
       "       [2.24],\n",
       "       [1.4 ],\n",
       "       [1.96],\n",
       "       [1.41],\n",
       "       [1.99],\n",
       "       [1.89],\n",
       "       [2.38],\n",
       "       [1.83],\n",
       "       [1.42],\n",
       "       [1.82],\n",
       "       [2.91],\n",
       "       [5.27],\n",
       "       [2.51],\n",
       "       [3.48],\n",
       "       [2.86],\n",
       "       [1.9 ],\n",
       "       [1.43],\n",
       "       [6.04],\n",
       "       [6.48],\n",
       "       [3.05],\n",
       "       [5.17],\n",
       "       [1.68],\n",
       "       [6.81],\n",
       "       [1.89],\n",
       "       [2.43],\n",
       "       [5.05],\n",
       "       [5.1 ],\n",
       "       [1.91],\n",
       "       [4.91],\n",
       "       [1.43],\n",
       "       [1.5 ],\n",
       "       [1.89],\n",
       "       [3.76],\n",
       "       [2.73],\n",
       "       [2.95],\n",
       "       [2.32],\n",
       "       [5.31],\n",
       "       [5.16],\n",
       "       [1.62],\n",
       "       [2.74],\n",
       "       [1.85],\n",
       "       [1.97],\n",
       "       [4.28],\n",
       "       [5.8 ],\n",
       "       [1.79],\n",
       "       [1.37],\n",
       "       [4.19],\n",
       "       [1.46],\n",
       "       [4.12],\n",
       "       [5.34],\n",
       "       [5.25],\n",
       "       [2.74],\n",
       "       [3.5 ],\n",
       "       [3.27],\n",
       "       [1.33],\n",
       "       [2.12],\n",
       "       [2.64],\n",
       "       [2.48],\n",
       "       [1.88],\n",
       "       [2.  ],\n",
       "       [2.92],\n",
       "       [1.39],\n",
       "       [2.39],\n",
       "       [1.34],\n",
       "       [2.51],\n",
       "       [4.76],\n",
       "       [1.5 ],\n",
       "       [1.57],\n",
       "       [3.34],\n",
       "       [5.19],\n",
       "       [1.42],\n",
       "       [1.63],\n",
       "       [4.79],\n",
       "       [5.78],\n",
       "       [2.05],\n",
       "       [2.38],\n",
       "       [6.82],\n",
       "       [1.38],\n",
       "       [4.94],\n",
       "       [1.58],\n",
       "       [2.35],\n",
       "       [1.49],\n",
       "       [2.37],\n",
       "       [2.44],\n",
       "       [5.54],\n",
       "       [2.05],\n",
       "       [2.9 ],\n",
       "       [1.77],\n",
       "       [2.12],\n",
       "       [2.72],\n",
       "       [7.59],\n",
       "       [6.02],\n",
       "       [1.96],\n",
       "       [2.89],\n",
       "       [3.58],\n",
       "       [2.61],\n",
       "       [4.07],\n",
       "       [3.06],\n",
       "       [2.58],\n",
       "       [3.26],\n",
       "       [1.33],\n",
       "       [1.36],\n",
       "       [2.2 ],\n",
       "       [1.34],\n",
       "       [1.49],\n",
       "       [5.06],\n",
       "       [5.11],\n",
       "       [1.41],\n",
       "       [5.13],\n",
       "       [1.28],\n",
       "       [1.31],\n",
       "       [1.43],\n",
       "       [7.06],\n",
       "       [2.54],\n",
       "       [1.42],\n",
       "       [2.32],\n",
       "       [4.79],\n",
       "       [2.41],\n",
       "       [3.7 ],\n",
       "       [1.92],\n",
       "       [1.47],\n",
       "       [3.7 ],\n",
       "       [5.54],\n",
       "       [1.48],\n",
       "       [4.88],\n",
       "       [1.8 ],\n",
       "       [2.04],\n",
       "       [2.15],\n",
       "       [6.34],\n",
       "       [1.38],\n",
       "       [1.87],\n",
       "       [2.07],\n",
       "       [2.11],\n",
       "       [2.46],\n",
       "       [1.86],\n",
       "       [5.88],\n",
       "       [3.85]])"
      ]
     },
     "execution_count": 95,
     "metadata": {},
     "output_type": "execute_result"
    }
   ],
   "source": [
    "X_fertility"
   ]
  },
  {
   "cell_type": "code",
   "execution_count": 96,
   "metadata": {},
   "outputs": [
    {
     "data": {
      "image/png": "[encoded data removed]",
      "text/plain": [
       "<Figure size 640x480 with 1 Axes>"
      ]
     },
     "metadata": {},
     "output_type": "display_data"
    }
   ],
   "source": [
    "plt.scatter(X_fertility, y)\n",
    "plt.ylabel('Expectativa de vida')\n",
    "plt.xlabel('Fertilidade')\n",
    "plt.show()"
   ]
  },
  {
   "cell_type": "code",
   "execution_count": 97,
   "metadata": {},
   "outputs": [
    {
     "data": {
      "text/plain": [
       "array([[1.28      ],\n",
       "       [1.40877551],\n",
       "       [1.53755102],\n",
       "       [1.66632653],\n",
       "       [1.79510204],\n",
       "       [1.92387755],\n",
       "       [2.05265306],\n",
       "       [2.18142857],\n",
       "       [2.31020408],\n",
       "       [2.43897959],\n",
       "       [2.5677551 ],\n",
       "       [2.69653061],\n",
       "       [2.82530612],\n",
       "       [2.95408163],\n",
       "       [3.08285714],\n",
       "       [3.21163265],\n",
       "       [3.34040816],\n",
       "       [3.46918367],\n",
       "       [3.59795918],\n",
       "       [3.72673469],\n",
       "       [3.8555102 ],\n",
       "       [3.98428571],\n",
       "       [4.11306122],\n",
       "       [4.24183673],\n",
       "       [4.37061224],\n",
       "       [4.49938776],\n",
       "       [4.62816327],\n",
       "       [4.75693878],\n",
       "       [4.88571429],\n",
       "       [5.0144898 ],\n",
       "       [5.14326531],\n",
       "       [5.27204082],\n",
       "       [5.40081633],\n",
       "       [5.52959184],\n",
       "       [5.65836735],\n",
       "       [5.78714286],\n",
       "       [5.91591837],\n",
       "       [6.04469388],\n",
       "       [6.17346939],\n",
       "       [6.3022449 ],\n",
       "       [6.43102041],\n",
       "       [6.55979592],\n",
       "       [6.68857143],\n",
       "       [6.81734694],\n",
       "       [6.94612245],\n",
       "       [7.07489796],\n",
       "       [7.20367347],\n",
       "       [7.33244898],\n",
       "       [7.46122449],\n",
       "       [7.59      ]])"
      ]
     },
     "execution_count": 97,
     "metadata": {},
     "output_type": "execute_result"
    }
   ],
   "source": [
    "reg = LinearRegression()\n",
    "reg.fit(X_fertility, y)\n",
    "prediction_space = np.linspace(min(X_fertility), max(X_fertility)).reshape(-1,1)\n",
    "prediction_space"
   ]
  },
  {
   "cell_type": "code",
   "execution_count": 98,
   "metadata": {},
   "outputs": [
    {
     "data": {
      "image/png": "[encoded data removed]",
      "text/plain": [
       "<Figure size 640x480 with 1 Axes>"
      ]
     },
     "metadata": {},
     "output_type": "display_data"
    }
   ],
   "source": [
    "plt.scatter(X_fertility, y, color='blue')\n",
    "plt.plot(prediction_space, reg.predict(prediction_space), color='black', linewidth=3)\n",
    "plt.show()"
   ]
  },
  {
   "cell_type": "markdown",
   "metadata": {},
   "source": [
    "## Segunda parte:\n",
    "\n",
    "- use `train_test_split(X, y, test_size = 0.3, random_state=42` para dividir os dados em conjunto de treinamento e conjunto de teste.\n",
    "- Utilize todas as features.\n",
    "- compute a `R**2` usando o método .score()."
   ]
  },
  {
   "cell_type": "code",
   "execution_count": 99,
   "metadata": {},
   "outputs": [],
   "source": [
    "from sklearn.model_selection import train_test_split"
   ]
  },
  {
   "cell_type": "code",
   "execution_count": 100,
   "metadata": {},
   "outputs": [
    {
     "data": {
      "text/plain": [
       "array([[3.4811059e+07, 2.7300000e+00, 1.0000000e-01, ..., 1.2314000e+04,\n",
       "        1.2990490e+02, 2.9500000e+01],\n",
       "       [1.9842251e+07, 6.4300000e+00, 2.0000000e+00, ..., 7.1030000e+03,\n",
       "        1.3012470e+02, 1.9200000e+02],\n",
       "       [4.0381860e+07, 2.2400000e+00, 5.0000000e-01, ..., 1.4646000e+04,\n",
       "        1.1889150e+02, 1.5400000e+01],\n",
       "       ...,\n",
       "       [8.6589342e+07, 1.8600000e+00, 4.0000000e-01, ..., 4.0850000e+03,\n",
       "        1.2193670e+02, 2.6200000e+01],\n",
       "       [1.3114579e+07, 5.8800000e+00, 1.3600000e+01, ..., 3.0390000e+03,\n",
       "        1.3244930e+02, 9.4900000e+01],\n",
       "       [1.3495462e+07, 3.8500000e+00, 1.5100000e+01, ..., 1.2860000e+03,\n",
       "        1.3197450e+02, 9.8300000e+01]])"
      ]
     },
     "execution_count": 100,
     "metadata": {},
     "output_type": "execute_result"
    }
   ],
   "source": [
    "X = data.drop(['life', 'Region'], axis=1).values\n",
    "X"
   ]
  },
  {
   "cell_type": "code",
   "execution_count": 101,
   "metadata": {},
   "outputs": [
    {
     "data": {
      "text/plain": [
       "array([75.3, 58.3, 75.5, 72.5, 81.5, 80.4, 70.6, 72.2, 68.4, 75.3, 70.1,\n",
       "       79.4, 70.7, 63.2, 67.6, 70.9, 61.2, 73.9, 73.2, 59.4, 57.4, 66.2,\n",
       "       56.6, 80.7, 54.8, 78.9, 75.1, 62.6, 58.6, 79.7, 55.9, 76.5, 77.8,\n",
       "       78.7, 61. , 74. , 70.1, 74.1, 56.7, 60.4, 74. , 65.7, 79.4, 81. ,\n",
       "       57.5, 62.2, 72.1, 80. , 62.7, 79.5, 70.8, 58.3, 51.3, 63. , 61.7,\n",
       "       70.9, 73.8, 82. , 64.4, 69.5, 76.9, 79.4, 80.9, 81.4, 75.5, 82.6,\n",
       "       66.1, 61.5, 72.3, 77.6, 45.2, 61. , 72. , 80.7, 63.4, 51.4, 74.5,\n",
       "       78.2, 55.8, 81.4, 63.6, 72.1, 75.7, 69.6, 63.2, 73.3, 55. , 60.8,\n",
       "       68.6, 80.3, 80.2, 75.2, 59.7, 58. , 80.7, 74.6, 64.1, 77.1, 58.2,\n",
       "       73.6, 76.8, 69.4, 75.3, 79.2, 80.4, 73.4, 67.6, 62.2, 64.3, 76.4,\n",
       "       55.9, 80.9, 74.8, 78.5, 56.7, 55. , 81.1, 74.3, 67.4, 69.1, 46.1,\n",
       "       81.1, 81.9, 69.5, 59.7, 74.1, 60. , 71.3, 76.5, 75.1, 57.2, 68.2,\n",
       "       79.5, 78.2, 76. , 68.7, 75.4, 52. , 49. ])"
      ]
     },
     "execution_count": 101,
     "metadata": {},
     "output_type": "execute_result"
    }
   ],
   "source": [
    "y = data['life'].values\n",
    "y"
   ]
  },
  {
   "cell_type": "code",
   "execution_count": 102,
   "metadata": {},
   "outputs": [
    {
     "data": {
      "text/plain": [
       "array([69.78523121, 71.71746546, 75.4383211 , 63.01395864, 78.52729433,\n",
       "       73.34690022, 58.61797567, 74.93251615, 59.59167345, 71.84178687,\n",
       "       75.75296203, 56.77224624, 61.67791787, 57.51580285, 50.76145251,\n",
       "       75.0503528 , 79.60085022, 62.11294809, 75.23852216, 73.90256212,\n",
       "       72.74730103, 72.3544974 , 56.81443574, 79.82333894, 85.49815049,\n",
       "       73.29584958, 78.79416712, 73.18599731, 48.43946014, 74.08185763,\n",
       "       73.96018103, 76.2080427 , 84.61477057, 77.189199  , 73.95404925,\n",
       "       61.30019447, 72.42380546, 79.94569216, 77.17377066, 70.97949258,\n",
       "       54.63782496, 61.70297809])"
      ]
     },
     "execution_count": 102,
     "metadata": {},
     "output_type": "execute_result"
    }
   ],
   "source": [
    "X_train, X_test, y_train, y_test = train_test_split(X, y, test_size=0.3, random_state=42)\n",
    "reg_all = LinearRegression()\n",
    "reg_all.fit(X_train, y_train)\n",
    "y_pred = reg_all.predict(X_test)\n",
    "y_pred"
   ]
  },
  {
   "cell_type": "code",
   "execution_count": 103,
   "metadata": {},
   "outputs": [
    {
     "data": {
      "text/plain": [
       "0.8380468731429359"
      ]
     },
     "execution_count": 103,
     "metadata": {},
     "output_type": "execute_result"
    }
   ],
   "source": [
    "reg_all.score(X_test, y_test)"
   ]
  },
  {
   "cell_type": "markdown",
   "metadata": {},
   "source": [
    "## Terceira parte (Croos-Validation):\n",
    " - A validação cruzada é um passo importante para avaliar um modelo. Ela maximiza a quantidade de dados que é usada para treinar o modelo, devido a durante o treinamento, o modelo não é apenas treinado, mas também testado em todo o dado disponível.\n",
    " - Use 5-fold cross validation nos dados. A função cross-val-score() usa `R**2` por padrão como métrica para avaliar a regressao. A função retornará 5 scores (5-fold cv), compute a média desses scores.\n"
   ]
  },
  {
   "cell_type": "code",
   "execution_count": 104,
   "metadata": {},
   "outputs": [],
   "source": [
    "from sklearn.model_selection import cross_val_score"
   ]
  },
  {
   "cell_type": "code",
   "execution_count": 105,
   "metadata": {},
   "outputs": [
    {
     "data": {
      "text/plain": [
       "array([0.81720569, 0.82917058, 0.90214134, 0.80633989, 0.94495637])"
      ]
     },
     "execution_count": 105,
     "metadata": {},
     "output_type": "execute_result"
    }
   ],
   "source": [
    "reg_cv = LinearRegression()\n",
    "cv_results = cross_val_score(reg_cv, X, y, cv=5)\n",
    "cv_results"
   ]
  },
  {
   "cell_type": "code",
   "execution_count": 106,
   "metadata": {},
   "outputs": [
    {
     "data": {
      "text/plain": [
       "0.8599627722793223"
      ]
     },
     "execution_count": 106,
     "metadata": {},
     "output_type": "execute_result"
    }
   ],
   "source": [
    "np.mean(cv_results)"
   ]
  },
  {
   "cell_type": "markdown",
   "metadata": {},
   "source": [
    "## Quarta parte (usando Lasso Regretion para determinar qual a feature mais importante para determinar a taxa de fertilidade\n",
    "- Instancie o regressor Lasso com `alpha=0.4` e `normalize=True`.\n",
    "- Use Fit nos dados e compute os coeficientes usanto o atributo `.coef_`.\n",
    "- Plote os coeficientes no eixo-y e os nomes das colunas no eixo-x.\n"
   ]
  },
  {
   "cell_type": "code",
   "execution_count": 107,
   "metadata": {},
   "outputs": [],
   "source": [
    "from sklearn.linear_model import Lasso"
   ]
  },
  {
   "cell_type": "code",
   "execution_count": 108,
   "metadata": {},
   "outputs": [],
   "source": [
    "names = data.drop(['life', 'Region'], axis=1).columns"
   ]
  },
  {
   "cell_type": "code",
   "execution_count": 109,
   "metadata": {},
   "outputs": [
    {
     "data": {
      "text/plain": [
       "array([-1.47260906e-09, -0.00000000e+00, -5.69102627e-01, -1.55747261e-01,\n",
       "        1.28244019e-01,  1.35109382e-04, -2.29669866e-01, -1.13689989e-01])"
      ]
     },
     "execution_count": 109,
     "metadata": {},
     "output_type": "execute_result"
    }
   ],
   "source": [
    "lasso = Lasso(alpha=0.4) # Na versão do scikit-learn 1.3.0 não existe o parâmetro normalize - https://scikit-learn.org/stable/modules/generated/sklearn.linear_model.Lasso.html#sklearn.linear_model.Lasso\n",
    "lasso_coef = lasso.fit(X, y).coef_\n",
    "lasso_coef"
   ]
  },
  {
   "cell_type": "code",
   "execution_count": 110,
   "metadata": {},
   "outputs": [
    {
     "data": {
      "text/plain": [
       "(139,)"
      ]
     },
     "execution_count": 110,
     "metadata": {},
     "output_type": "execute_result"
    }
   ],
   "source": [
    "y.shape"
   ]
  },
  {
   "cell_type": "code",
   "execution_count": 111,
   "metadata": {},
   "outputs": [
    {
     "data": {
      "image/png": "[encoded data removed]",
      "text/plain": [
       "<Figure size 640x480 with 1 Axes>"
      ]
     },
     "metadata": {},
     "output_type": "display_data"
    }
   ],
   "source": [
    "_ = plt.plot(range(len(names)), lasso_coef)\n",
    "_ = plt.xticks(range(len(names)), names, rotation=60)\n",
    "_ = plt.ylabel('Coeficientes')\n",
    "plt.show()"
   ]
  }
 ],
 "metadata": {
  "kernelspec": {
   "display_name": "Python 3",
   "language": "python",
   "name": "python3"
  },
  "language_info": {
   "codemirror_mode": {
    "name": "ipython",
    "version": 3
   },
   "file_extension": ".py",
   "mimetype": "text/x-python",
   "name": "python",
   "nbconvert_exporter": "python",
   "pygments_lexer": "ipython3",
   "version": "3.10.12"
  }
 },
 "nbformat": 4,
 "nbformat_minor": 2
}
