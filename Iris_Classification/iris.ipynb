{
 "metadata": {
  "language_info": {
   "codemirror_mode": {
    "name": "ipython",
    "version": 3
   },
   "file_extension": ".py",
   "mimetype": "text/x-python",
   "name": "python",
   "nbconvert_exporter": "python",
   "pygments_lexer": "ipython3",
   "version": "3.8.5"
  },
  "orig_nbformat": 2,
  "kernelspec": {
   "name": "python385jvsc74a57bd01f09bd18c3bd6ca7f9726fc8dcfe1413a5b5683c291aaa94868dd31b44d43b4e",
   "display_name": "Python 3.8.5 64-bit ('base': conda)"
  }
 },
 "nbformat": 4,
 "nbformat_minor": 2,
 "cells": [
  {
   "source": [
    "## 1. Baixe o conjunto de dados Iris (https://www.kaggle.com/uciml/iris):\n"
   ],
   "cell_type": "markdown",
   "metadata": {}
  },
  {
   "cell_type": "code",
   "execution_count": 892,
   "metadata": {},
   "outputs": [],
   "source": [
    "import pandas as pd\n",
    "import numpy as np"
   ]
  },
  {
   "cell_type": "code",
   "execution_count": 893,
   "metadata": {},
   "outputs": [
    {
     "output_type": "stream",
     "name": "stdout",
     "text": [
      "    SepalLengthCm  SepalWidthCm  PetalLengthCm  PetalWidthCm      Species\nId                                                                       \n1             5.1           3.5            1.4           0.2  Iris-setosa\n2             4.9           3.0            1.4           0.2  Iris-setosa\n3             4.7           3.2            1.3           0.2  Iris-setosa\n4             4.6           3.1            1.5           0.2  Iris-setosa\n5             5.0           3.6            1.4           0.2  Iris-setosa\n(150, 5)\n"
     ]
    }
   ],
   "source": [
    "# reading iris dataset\n",
    "iris = pd.read_csv(\"dataset/iris.csv\", index_col=0)\n",
    "print(iris.head())\n",
    "print(iris.shape)"
   ]
  },
  {
   "source": [
    "## 2. Exiba a quantidade de amostras existente em cada classe."
   ],
   "cell_type": "markdown",
   "metadata": {}
  },
  {
   "cell_type": "code",
   "execution_count": 894,
   "metadata": {},
   "outputs": [
    {
     "output_type": "stream",
     "name": "stdout",
     "text": [
      "Iris-setosa: 50 amostras\nIris-virginica: 50 amostras\nIris-versicolor: 50 amostras\n"
     ]
    }
   ],
   "source": [
    "# separated by species\n",
    "type_setosa = iris[iris[\"Species\"] == \"Iris-setosa\"]\n",
    "type_virginica = iris[iris[\"Species\"] == \"Iris-virginica\"]\n",
    "type_versicolor = iris[iris[\"Species\"] == \"Iris-versicolor\"]\n",
    "# number of observations\n",
    "print(\"Iris-setosa: \" + str(type_setosa.shape[0]) + \" amostras\")\n",
    "print(\"Iris-virginica: \" + str(type_virginica.shape[0]) + \" amostras\")\n",
    "print(\"Iris-versicolor: \" + str(type_versicolor.shape[0]) + \" amostras\")"
   ]
  },
  {
   "source": [
    "## 3. Separe aleatoriamente 80% dos dados para treino (conjunto de treino) e 20% dos dados para teste (conjunto de teste). Para esta separação, use somente recursos do Python, Numpy ou Pandas. Não use o Scikit Learn para isso."
   ],
   "cell_type": "markdown",
   "metadata": {}
  },
  {
   "cell_type": "code",
   "execution_count": 895,
   "metadata": {
    "tags": []
   },
   "outputs": [
    {
     "output_type": "stream",
     "name": "stdout",
     "text": [
      "     SepalLengthCm  SepalWidthCm  PetalLengthCm  PetalWidthCm         Species\nId                                                                           \n1              5.1           3.5            1.4           0.2     Iris-setosa\n2              4.9           3.0            1.4           0.2     Iris-setosa\n3              4.7           3.2            1.3           0.2     Iris-setosa\n4              4.6           3.1            1.5           0.2     Iris-setosa\n5              5.0           3.6            1.4           0.2     Iris-setosa\n..             ...           ...            ...           ...             ...\n144            6.8           3.2            5.9           2.3  Iris-virginica\n145            6.7           3.3            5.7           2.5  Iris-virginica\n146            6.7           3.0            5.2           2.3  Iris-virginica\n147            6.3           2.5            5.0           1.9  Iris-virginica\n148            6.5           3.0            5.2           2.0  Iris-virginica\n\n[120 rows x 5 columns]\n(120, 5)\n     SepalLengthCm  SepalWidthCm  PetalLengthCm  PetalWidthCm          Species\nId                                                                            \n6              5.4           3.9            1.7           0.4      Iris-setosa\n13             4.8           3.0            1.4           0.1      Iris-setosa\n15             5.8           4.0            1.2           0.2      Iris-setosa\n29             5.2           3.4            1.4           0.2      Iris-setosa\n30             4.7           3.2            1.6           0.2      Iris-setosa\n36             5.0           3.2            1.2           0.2      Iris-setosa\n39             4.4           3.0            1.3           0.2      Iris-setosa\n42             4.5           2.3            1.3           0.3      Iris-setosa\n49             5.3           3.7            1.5           0.2      Iris-setosa\n50             5.0           3.3            1.4           0.2      Iris-setosa\n56             5.7           2.8            4.5           1.3  Iris-versicolor\n63             6.0           2.2            4.0           1.0  Iris-versicolor\n65             5.6           2.9            3.6           1.3  Iris-versicolor\n79             6.0           2.9            4.5           1.5  Iris-versicolor\n80             5.7           2.6            3.5           1.0  Iris-versicolor\n86             6.0           3.4            4.5           1.6  Iris-versicolor\n89             5.6           3.0            4.1           1.3  Iris-versicolor\n92             6.1           3.0            4.6           1.4  Iris-versicolor\n99             5.1           2.5            3.0           1.1  Iris-versicolor\n100            5.7           2.8            4.1           1.3  Iris-versicolor\n106            7.6           3.0            6.6           2.1   Iris-virginica\n113            6.8           3.0            5.5           2.1   Iris-virginica\n115            5.8           2.8            5.1           2.4   Iris-virginica\n129            6.4           2.8            5.6           2.1   Iris-virginica\n130            7.2           3.0            5.8           1.6   Iris-virginica\n136            7.7           3.0            6.1           2.3   Iris-virginica\n139            6.0           3.0            4.8           1.8   Iris-virginica\n142            6.9           3.1            5.1           2.3   Iris-virginica\n149            6.2           3.4            5.4           2.3   Iris-virginica\n150            5.9           3.0            5.1           1.8   Iris-virginica\n(30, 5)\n"
     ]
    }
   ],
   "source": [
    "# list to separete train data (80% - 120 observations) and test data (20% - 30 observations)\n",
    "a_test = np.array([False]*50)\n",
    "index = 0\n",
    "while index < 10 :\n",
    "    num = np.random.randint(0,50) # create 10 random values to set True on the a_train indexes\n",
    "    if a_test[num] == False :\n",
    "        a_test[num] = True\n",
    "        index += 1\n",
    "\n",
    "# create a test dataframe with 30 observations\n",
    "test_data = pd.concat([type_setosa[a_test], type_versicolor[a_test], type_virginica[a_test]])\n",
    "\n",
    "# invert all values of a_train to crate the test dataframe\n",
    "a_train = np.invert(a_test)\n",
    "\n",
    "# create a train dataframe with 120 observations\n",
    "train_data = pd.concat([type_setosa[a_train], type_versicolor[a_train], type_virginica[a_train]])\n",
    "\n",
    "print(train_data)\n",
    "print(train_data.shape)\n",
    "print(test_data)\n",
    "print(test_data.shape)"
   ]
  },
  {
   "cell_type": "code",
   "execution_count": 896,
   "metadata": {},
   "outputs": [],
   "source": [
    "# randomize the test and train data\n",
    "test_data = test_data.sample(frac=1)\n",
    "train_data = train_data.sample(frac=1)\n",
    "#print(test_data)\n",
    "#print(train_data)"
   ]
  },
  {
   "source": [
    "## 4. Usando somente o conjunto de treino, mostre as médias dos valores de cada feature para cada classe."
   ],
   "cell_type": "markdown",
   "metadata": {}
  },
  {
   "cell_type": "code",
   "execution_count": 897,
   "metadata": {},
   "outputs": [
    {
     "output_type": "execute_result",
     "data": {
      "text/plain": [
       "                 SepalLengthCm  SepalWidthCm  PetalLengthCm  PetalWidthCm\n",
       "Species                                                                  \n",
       "Iris-setosa             5.0050        3.4475         1.4800        0.2500\n",
       "Iris-versicolor         5.9825        2.7600         4.3150        1.3375\n",
       "Iris-virginica          6.5725        2.9650         5.5625        2.0125"
      ],
      "text/html": "<div>\n<style scoped>\n    .dataframe tbody tr th:only-of-type {\n        vertical-align: middle;\n    }\n\n    .dataframe tbody tr th {\n        vertical-align: top;\n    }\n\n    .dataframe thead th {\n        text-align: right;\n    }\n</style>\n<table border=\"1\" class=\"dataframe\">\n  <thead>\n    <tr style=\"text-align: right;\">\n      <th></th>\n      <th>SepalLengthCm</th>\n      <th>SepalWidthCm</th>\n      <th>PetalLengthCm</th>\n      <th>PetalWidthCm</th>\n    </tr>\n    <tr>\n      <th>Species</th>\n      <th></th>\n      <th></th>\n      <th></th>\n      <th></th>\n    </tr>\n  </thead>\n  <tbody>\n    <tr>\n      <th>Iris-setosa</th>\n      <td>5.0050</td>\n      <td>3.4475</td>\n      <td>1.4800</td>\n      <td>0.2500</td>\n    </tr>\n    <tr>\n      <th>Iris-versicolor</th>\n      <td>5.9825</td>\n      <td>2.7600</td>\n      <td>4.3150</td>\n      <td>1.3375</td>\n    </tr>\n    <tr>\n      <th>Iris-virginica</th>\n      <td>6.5725</td>\n      <td>2.9650</td>\n      <td>5.5625</td>\n      <td>2.0125</td>\n    </tr>\n  </tbody>\n</table>\n</div>"
     },
     "metadata": {},
     "execution_count": 897
    }
   ],
   "source": [
    "train_data.groupby(\"Species\").mean()"
   ]
  },
  {
   "source": [
    "## 5. Crie um algoritmo seu (sem usar aprendizado de máquina) para baseado nas médias das features calculadas no item 4, ou mesmo usando outras ideias suas, classificar corretamente as amostras do conjunto de teste. Aperfeçoe o seu algoritmo de forma a obter melhores resultados."
   ],
   "cell_type": "markdown",
   "metadata": {}
  },
  {
   "cell_type": "code",
   "execution_count": 898,
   "metadata": {},
   "outputs": [
    {
     "output_type": "execute_result",
     "data": {
      "text/plain": [
       "       SepalLengthCm  SepalWidthCm  PetalLengthCm  PetalWidthCm\n",
       "count     120.000000    120.000000     120.000000    120.000000\n",
       "mean        5.853333      3.057500       3.785833      1.200000\n",
       "std         0.829086      0.443186       1.766319      0.757706\n",
       "min         4.300000      2.000000       1.000000      0.100000\n",
       "25%         5.100000      2.800000       1.600000      0.300000\n",
       "50%         5.800000      3.000000       4.400000      1.300000\n",
       "75%         6.425000      3.325000       5.100000      1.800000\n",
       "max         7.900000      4.400000       6.900000      2.500000"
      ],
      "text/html": "<div>\n<style scoped>\n    .dataframe tbody tr th:only-of-type {\n        vertical-align: middle;\n    }\n\n    .dataframe tbody tr th {\n        vertical-align: top;\n    }\n\n    .dataframe thead th {\n        text-align: right;\n    }\n</style>\n<table border=\"1\" class=\"dataframe\">\n  <thead>\n    <tr style=\"text-align: right;\">\n      <th></th>\n      <th>SepalLengthCm</th>\n      <th>SepalWidthCm</th>\n      <th>PetalLengthCm</th>\n      <th>PetalWidthCm</th>\n    </tr>\n  </thead>\n  <tbody>\n    <tr>\n      <th>count</th>\n      <td>120.000000</td>\n      <td>120.000000</td>\n      <td>120.000000</td>\n      <td>120.000000</td>\n    </tr>\n    <tr>\n      <th>mean</th>\n      <td>5.853333</td>\n      <td>3.057500</td>\n      <td>3.785833</td>\n      <td>1.200000</td>\n    </tr>\n    <tr>\n      <th>std</th>\n      <td>0.829086</td>\n      <td>0.443186</td>\n      <td>1.766319</td>\n      <td>0.757706</td>\n    </tr>\n    <tr>\n      <th>min</th>\n      <td>4.300000</td>\n      <td>2.000000</td>\n      <td>1.000000</td>\n      <td>0.100000</td>\n    </tr>\n    <tr>\n      <th>25%</th>\n      <td>5.100000</td>\n      <td>2.800000</td>\n      <td>1.600000</td>\n      <td>0.300000</td>\n    </tr>\n    <tr>\n      <th>50%</th>\n      <td>5.800000</td>\n      <td>3.000000</td>\n      <td>4.400000</td>\n      <td>1.300000</td>\n    </tr>\n    <tr>\n      <th>75%</th>\n      <td>6.425000</td>\n      <td>3.325000</td>\n      <td>5.100000</td>\n      <td>1.800000</td>\n    </tr>\n    <tr>\n      <th>max</th>\n      <td>7.900000</td>\n      <td>4.400000</td>\n      <td>6.900000</td>\n      <td>2.500000</td>\n    </tr>\n  </tbody>\n</table>\n</div>"
     },
     "metadata": {},
     "execution_count": 898
    }
   ],
   "source": [
    "# Analyze correlation between the features\n",
    "train_data.describe()"
   ]
  },
  {
   "cell_type": "code",
   "execution_count": 899,
   "metadata": {},
   "outputs": [],
   "source": [
    "def personal_classifier(df_test:pd.DataFrame):\n",
    "    '''\n",
    "    Parameters: df_test = pandas.DataFrame (test dataset).\n",
    "    Return: numpy.Array = [\"Iris_setosa\", \"Iris_versicolor\" ou \"Iris_virginica\"] (classification type).\n",
    "    '''\n",
    "\n",
    "    classification = \"\"\n",
    "\n",
    "    train_petal_info = train_data.groupby(\"Species\").agg(np.mean)\n",
    "    train_petal_info = train_petal_info[[\"PetalLengthCm\", \"PetalWidthCm\"]]\n",
    "    np_train_petal_lenght = np.array(train_petal_info.iloc[:, 0])\n",
    "    np_train_petal_width = np.array(train_petal_info.iloc[:, 1])\n",
    "    #print(np_train_petal_lenght)\n",
    "    #print(train_petal_info)\n",
    "\n",
    "    test_petal_info = df_test[[\"PetalLengthCm\", \"PetalWidthCm\"]]\n",
    "    np_test_petal_lenght = np.array(test_petal_info.iloc[:, 0])\n",
    "    np_test_petal_width = np.array(test_petal_info.iloc[:, 1])\n",
    "    #print(np_test_petal_lenght)\n",
    "\n",
    "    l_train = []\n",
    "\n",
    "    # Setosa test\n",
    "    train = np_train_petal_lenght[0]\n",
    "    for test in np_test_petal_lenght :\n",
    "        l_train.append([abs(train - test), \"Iris-setosa\"])\n",
    "\n",
    "    #print(l_train)\n",
    "    index = 0\n",
    "    # Versicolor test\n",
    "    train = np_train_petal_lenght[1]\n",
    "    for test in np_test_petal_lenght :\n",
    "        if (abs(train - test) < l_train[index][0]) :\n",
    "            l_train[index] = [abs(train - test), \"Iris-versicolor\"]\n",
    "        index += 1\n",
    "    \n",
    "    #print(l_train)\n",
    "    index = 0\n",
    "    # Virginica test\n",
    "    train = np_train_petal_lenght[2]\n",
    "    for test in np_test_petal_lenght :\n",
    "        if (abs(train - test) < l_train[index][0]) :\n",
    "            l_train[index] = [abs(train - test), \"Iris-virginica\"]\n",
    "        index += 1\n",
    "    \n",
    "    np_l_train = np.array(l_train)\n",
    "    return np_l_train[:,1]"
   ]
  },
  {
   "cell_type": "code",
   "execution_count": 900,
   "metadata": {},
   "outputs": [
    {
     "output_type": "stream",
     "name": "stdout",
     "text": [
      "['Iris-setosa' 'Iris-versicolor' 'Iris-versicolor' 'Iris-virginica'\n 'Iris-virginica' 'Iris-setosa' 'Iris-versicolor' 'Iris-versicolor'\n 'Iris-virginica' 'Iris-virginica' 'Iris-virginica' 'Iris-setosa'\n 'Iris-versicolor' 'Iris-setosa' 'Iris-setosa' 'Iris-setosa' 'Iris-setosa'\n 'Iris-setosa' 'Iris-versicolor' 'Iris-virginica' 'Iris-versicolor'\n 'Iris-virginica' 'Iris-virginica' 'Iris-versicolor' 'Iris-versicolor'\n 'Iris-versicolor' 'Iris-setosa' 'Iris-setosa' 'Iris-versicolor'\n 'Iris-virginica']\n"
     ]
    }
   ],
   "source": [
    "predicted_values = personal_classifier(test_data)\n",
    "print(predicted_values)"
   ]
  },
  {
   "source": [
    "## 6. Quanto por cento no conjunto de teste você conseguiu acertar corretamente o rótulo (classe) no seu melhor algoritmo, ou seja, qual a acurácia?"
   ],
   "cell_type": "markdown",
   "metadata": {}
  },
  {
   "cell_type": "code",
   "execution_count": 901,
   "metadata": {},
   "outputs": [
    {
     "output_type": "stream",
     "name": "stdout",
     "text": [
      "96.67 %\n"
     ]
    }
   ],
   "source": [
    "def personal_evaluation(real_values, predicted_values) :\n",
    "    count = 0\n",
    "    for index in range(30) :\n",
    "        if real_values[index] == predicted_values[index] :\n",
    "            count += 1\n",
    "        #print(real_values[index], predicted_values[index])\n",
    "            \n",
    "    return round(count*100 / real_values.shape[0], 2)\n",
    "    \n",
    "\n",
    "real_values = np.array(test_data[\"Species\"])\n",
    "evaluation = personal_evaluation(real_values, predicted_values)\n",
    "print(str(evaluation) + \" %\")"
   ]
  }
 ]
}