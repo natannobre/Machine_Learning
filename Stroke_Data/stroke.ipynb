{
 "metadata": {
  "language_info": {
   "codemirror_mode": {
    "name": "ipython",
    "version": 3
   },
   "file_extension": ".py",
   "mimetype": "text/x-python",
   "name": "python",
   "nbconvert_exporter": "python",
   "pygments_lexer": "ipython3",
   "version": "3.8.5"
  },
  "orig_nbformat": 4,
  "kernelspec": {
   "name": "python3",
   "display_name": "Python 3.8.5 64-bit ('DataScience': conda)"
  },
  "interpreter": {
   "hash": "6a9d193666e13d3b25b51d102bf5ec435779a8e8c05a2ee5783b187e30809c30"
  }
 },
 "nbformat": 4,
 "nbformat_minor": 2,
 "cells": [
  {
   "source": [
    "# Autor: Natan Nobre Chaves\n",
    "## Bacharelando em Engenharia de Computação"
   ],
   "cell_type": "markdown",
   "metadata": {}
  },
  {
   "source": [
    "## Title: Stroke Prediction Dataset\n",
    "\n",
    "### Context:<br>\n",
    "According to the World Health Organization (WHO) stroke is the 2nd leading cause of death globally, responsible for approximately 11% of total deaths.\n",
    "This dataset is used to predict whether a patient is likely to get stroke based on the input parameters like gender, age, various diseases, and smoking status. Each row in the data provides relavant information about the patient.\n",
    "\n",
    "### Attribute Information:<br>\n",
    "1) id: unique identifier<br>\n",
    "2) gender: \"Male\", \"Female\" or \"Other\"<br>\n",
    "3) age: age of the patient<br>\n",
    "4) hypertension: 0 if the patient doesn't have hypertension, 1 if the patient has hypertension<br>\n",
    "5) heart_disease: 0 if the patient doesn't have any heart diseases, 1 if the patient has a heart disease<br>\n",
    "6) ever_married: \"No\" or \"Yes\"<br>\n",
    "7) work_type: \"children\", \"Govt_jov\", \"Never_worked\", \"Private\" or \"Self-employed\"<br>\n",
    "8) Residence_type: \"Rural\" or \"Urban\"<br>\n",
    "9) avg_glucose_level: average glucose level in blood<br>\n",
    "10) bmi: body mass index<br>\n",
    "11) smoking_status: \"formerly smoked\", \"never smoked\", \"smokes\" or \"Unknown\"*<br>\n",
    "12) stroke: 1 if the patient had a stroke or 0 if not<br>\n",
    "*Note: \"Unknown\" in smoking_status means that the information is unavailable for this patient<br>\n",
    "\n",
    "Source: https://www.kaggle.com/fedesoriano/stroke-prediction-dataset"
   ],
   "cell_type": "markdown",
   "metadata": {}
  },
  {
   "source": [
    "# Bibliotecas"
   ],
   "cell_type": "markdown",
   "metadata": {}
  },
  {
   "cell_type": "code",
   "execution_count": 1357,
   "metadata": {},
   "outputs": [],
   "source": [
    "from matplotlib import pyplot\n",
    "import pandas as pd\n",
    "import numpy as np\n",
    "import sklearn\n",
    "from sklearn.model_selection import train_test_split\n",
    "from sklearn.neighbors import KNeighborsClassifier\n",
    "from sklearn.preprocessing import StandardScaler\n",
    "from sklearn.preprocessing import MinMaxScaler\n",
    "from sklearn import metrics\n",
    "# Generate and plot a synthetic imbalanced classification dataset\n",
    "from numpy import where\n",
    "from collections import Counter\n",
    "import imblearn\n",
    "from imblearn.over_sampling import SMOTE"
   ]
  },
  {
   "source": [
    "# 1. Importação dos Dados"
   ],
   "cell_type": "markdown",
   "metadata": {}
  },
  {
   "cell_type": "code",
   "execution_count": 1358,
   "metadata": {},
   "outputs": [
    {
     "output_type": "execute_result",
     "data": {
      "text/plain": [
       "      id     sex   age  hypertension  heart_disease ever_married  \\\n",
       "0   9046    Male  67.0             0              1          Yes   \n",
       "1  51676  Female  61.0             0              0          Yes   \n",
       "2  31112    Male  80.0             0              1          Yes   \n",
       "3  60182  Female  49.0             0              0          Yes   \n",
       "4   1665  Female  79.0             1              0          Yes   \n",
       "\n",
       "       work_type residence_type  avg_glucose_level   bmi   smoking_status  \\\n",
       "0        Private          Urban             228.69  36.6  formerly smoked   \n",
       "1  Self-employed          Rural             202.21   NaN     never smoked   \n",
       "2        Private          Rural             105.92  32.5     never smoked   \n",
       "3        Private          Urban             171.23  34.4           smokes   \n",
       "4  Self-employed          Rural             174.12  24.0     never smoked   \n",
       "\n",
       "   stroke  \n",
       "0       1  \n",
       "1       1  \n",
       "2       1  \n",
       "3       1  \n",
       "4       1  "
      ],
      "text/html": "<div>\n<style scoped>\n    .dataframe tbody tr th:only-of-type {\n        vertical-align: middle;\n    }\n\n    .dataframe tbody tr th {\n        vertical-align: top;\n    }\n\n    .dataframe thead th {\n        text-align: right;\n    }\n</style>\n<table border=\"1\" class=\"dataframe\">\n  <thead>\n    <tr style=\"text-align: right;\">\n      <th></th>\n      <th>id</th>\n      <th>sex</th>\n      <th>age</th>\n      <th>hypertension</th>\n      <th>heart_disease</th>\n      <th>ever_married</th>\n      <th>work_type</th>\n      <th>residence_type</th>\n      <th>avg_glucose_level</th>\n      <th>bmi</th>\n      <th>smoking_status</th>\n      <th>stroke</th>\n    </tr>\n  </thead>\n  <tbody>\n    <tr>\n      <th>0</th>\n      <td>9046</td>\n      <td>Male</td>\n      <td>67.0</td>\n      <td>0</td>\n      <td>1</td>\n      <td>Yes</td>\n      <td>Private</td>\n      <td>Urban</td>\n      <td>228.69</td>\n      <td>36.6</td>\n      <td>formerly smoked</td>\n      <td>1</td>\n    </tr>\n    <tr>\n      <th>1</th>\n      <td>51676</td>\n      <td>Female</td>\n      <td>61.0</td>\n      <td>0</td>\n      <td>0</td>\n      <td>Yes</td>\n      <td>Self-employed</td>\n      <td>Rural</td>\n      <td>202.21</td>\n      <td>NaN</td>\n      <td>never smoked</td>\n      <td>1</td>\n    </tr>\n    <tr>\n      <th>2</th>\n      <td>31112</td>\n      <td>Male</td>\n      <td>80.0</td>\n      <td>0</td>\n      <td>1</td>\n      <td>Yes</td>\n      <td>Private</td>\n      <td>Rural</td>\n      <td>105.92</td>\n      <td>32.5</td>\n      <td>never smoked</td>\n      <td>1</td>\n    </tr>\n    <tr>\n      <th>3</th>\n      <td>60182</td>\n      <td>Female</td>\n      <td>49.0</td>\n      <td>0</td>\n      <td>0</td>\n      <td>Yes</td>\n      <td>Private</td>\n      <td>Urban</td>\n      <td>171.23</td>\n      <td>34.4</td>\n      <td>smokes</td>\n      <td>1</td>\n    </tr>\n    <tr>\n      <th>4</th>\n      <td>1665</td>\n      <td>Female</td>\n      <td>79.0</td>\n      <td>1</td>\n      <td>0</td>\n      <td>Yes</td>\n      <td>Self-employed</td>\n      <td>Rural</td>\n      <td>174.12</td>\n      <td>24.0</td>\n      <td>never smoked</td>\n      <td>1</td>\n    </tr>\n  </tbody>\n</table>\n</div>"
     },
     "metadata": {},
     "execution_count": 1358
    }
   ],
   "source": [
    "cols = [\"id\", \"sex\", \"age\", \"hypertension\", \"heart_disease\", \"ever_married\", \"work_type\", \"residence_type\", \"avg_glucose_level\", \"bmi\", \"smoking_status\", \"stroke\"]\n",
    "stroke = pd.read_csv(\"dataset/healthcare-dataset-stroke-data.csv\")\n",
    "stroke.columns = cols\n",
    "stroke.head()"
   ]
  },
  {
   "source": [
    "# 2. Análise dos Dados"
   ],
   "cell_type": "markdown",
   "metadata": {}
  },
  {
   "cell_type": "code",
   "execution_count": 1359,
   "metadata": {},
   "outputs": [
    {
     "output_type": "execute_result",
     "data": {
      "text/plain": [
       "                 id          age  hypertension  heart_disease  \\\n",
       "count   5110.000000  5110.000000   5110.000000    5110.000000   \n",
       "mean   36517.829354    43.226614      0.097456       0.054012   \n",
       "std    21161.721625    22.612647      0.296607       0.226063   \n",
       "min       67.000000     0.080000      0.000000       0.000000   \n",
       "25%    17741.250000    25.000000      0.000000       0.000000   \n",
       "50%    36932.000000    45.000000      0.000000       0.000000   \n",
       "75%    54682.000000    61.000000      0.000000       0.000000   \n",
       "max    72940.000000    82.000000      1.000000       1.000000   \n",
       "\n",
       "       avg_glucose_level          bmi       stroke  \n",
       "count        5110.000000  4909.000000  5110.000000  \n",
       "mean          106.147677    28.893237     0.048728  \n",
       "std            45.283560     7.854067     0.215320  \n",
       "min            55.120000    10.300000     0.000000  \n",
       "25%            77.245000    23.500000     0.000000  \n",
       "50%            91.885000    28.100000     0.000000  \n",
       "75%           114.090000    33.100000     0.000000  \n",
       "max           271.740000    97.600000     1.000000  "
      ],
      "text/html": "<div>\n<style scoped>\n    .dataframe tbody tr th:only-of-type {\n        vertical-align: middle;\n    }\n\n    .dataframe tbody tr th {\n        vertical-align: top;\n    }\n\n    .dataframe thead th {\n        text-align: right;\n    }\n</style>\n<table border=\"1\" class=\"dataframe\">\n  <thead>\n    <tr style=\"text-align: right;\">\n      <th></th>\n      <th>id</th>\n      <th>age</th>\n      <th>hypertension</th>\n      <th>heart_disease</th>\n      <th>avg_glucose_level</th>\n      <th>bmi</th>\n      <th>stroke</th>\n    </tr>\n  </thead>\n  <tbody>\n    <tr>\n      <th>count</th>\n      <td>5110.000000</td>\n      <td>5110.000000</td>\n      <td>5110.000000</td>\n      <td>5110.000000</td>\n      <td>5110.000000</td>\n      <td>4909.000000</td>\n      <td>5110.000000</td>\n    </tr>\n    <tr>\n      <th>mean</th>\n      <td>36517.829354</td>\n      <td>43.226614</td>\n      <td>0.097456</td>\n      <td>0.054012</td>\n      <td>106.147677</td>\n      <td>28.893237</td>\n      <td>0.048728</td>\n    </tr>\n    <tr>\n      <th>std</th>\n      <td>21161.721625</td>\n      <td>22.612647</td>\n      <td>0.296607</td>\n      <td>0.226063</td>\n      <td>45.283560</td>\n      <td>7.854067</td>\n      <td>0.215320</td>\n    </tr>\n    <tr>\n      <th>min</th>\n      <td>67.000000</td>\n      <td>0.080000</td>\n      <td>0.000000</td>\n      <td>0.000000</td>\n      <td>55.120000</td>\n      <td>10.300000</td>\n      <td>0.000000</td>\n    </tr>\n    <tr>\n      <th>25%</th>\n      <td>17741.250000</td>\n      <td>25.000000</td>\n      <td>0.000000</td>\n      <td>0.000000</td>\n      <td>77.245000</td>\n      <td>23.500000</td>\n      <td>0.000000</td>\n    </tr>\n    <tr>\n      <th>50%</th>\n      <td>36932.000000</td>\n      <td>45.000000</td>\n      <td>0.000000</td>\n      <td>0.000000</td>\n      <td>91.885000</td>\n      <td>28.100000</td>\n      <td>0.000000</td>\n    </tr>\n    <tr>\n      <th>75%</th>\n      <td>54682.000000</td>\n      <td>61.000000</td>\n      <td>0.000000</td>\n      <td>0.000000</td>\n      <td>114.090000</td>\n      <td>33.100000</td>\n      <td>0.000000</td>\n    </tr>\n    <tr>\n      <th>max</th>\n      <td>72940.000000</td>\n      <td>82.000000</td>\n      <td>1.000000</td>\n      <td>1.000000</td>\n      <td>271.740000</td>\n      <td>97.600000</td>\n      <td>1.000000</td>\n    </tr>\n  </tbody>\n</table>\n</div>"
     },
     "metadata": {},
     "execution_count": 1359
    }
   ],
   "source": [
    "stroke.describe()"
   ]
  },
  {
   "cell_type": "code",
   "execution_count": 1360,
   "metadata": {},
   "outputs": [
    {
     "output_type": "stream",
     "name": "stdout",
     "text": [
      "(5110, 12)\n"
     ]
    },
    {
     "output_type": "execute_result",
     "data": {
      "text/plain": [
       "201"
      ]
     },
     "metadata": {},
     "execution_count": 1360
    }
   ],
   "source": [
    "print(stroke.shape)\n",
    "stroke.isnull().values.sum() # Quantidade de amostras faltando algum parâmetro"
   ]
  },
  {
   "source": [
    "# 3. Pré-processamento dos dados"
   ],
   "cell_type": "markdown",
   "metadata": {}
  },
  {
   "cell_type": "code",
   "execution_count": 1361,
   "metadata": {},
   "outputs": [
    {
     "output_type": "stream",
     "name": "stdout",
     "text": [
      "(4909, 12)\n"
     ]
    },
    {
     "output_type": "execute_result",
     "data": {
      "text/plain": [
       "0"
      ]
     },
     "metadata": {},
     "execution_count": 1361
    }
   ],
   "source": [
    "stroke = stroke.dropna() # Retira as amostras que faltam algum parâmetro\n",
    "print(stroke.shape)\n",
    "stroke.isnull().values.sum()"
   ]
  },
  {
   "cell_type": "code",
   "execution_count": 1362,
   "metadata": {},
   "outputs": [
    {
     "output_type": "execute_result",
     "data": {
      "text/plain": [
       "          id   sex   age  hypertension  heart_disease  ever_married  \\\n",
       "stroke                                                                \n",
       "0       4699  4699  4699          4699           4699          4699   \n",
       "1        209   209   209           209            209           209   \n",
       "\n",
       "        work_type  residence_type  avg_glucose_level   bmi  smoking_status  \n",
       "stroke                                                                      \n",
       "0            4699            4699               4699  4699            4699  \n",
       "1             209             209                209   209             209  "
      ],
      "text/html": "<div>\n<style scoped>\n    .dataframe tbody tr th:only-of-type {\n        vertical-align: middle;\n    }\n\n    .dataframe tbody tr th {\n        vertical-align: top;\n    }\n\n    .dataframe thead th {\n        text-align: right;\n    }\n</style>\n<table border=\"1\" class=\"dataframe\">\n  <thead>\n    <tr style=\"text-align: right;\">\n      <th></th>\n      <th>id</th>\n      <th>sex</th>\n      <th>age</th>\n      <th>hypertension</th>\n      <th>heart_disease</th>\n      <th>ever_married</th>\n      <th>work_type</th>\n      <th>residence_type</th>\n      <th>avg_glucose_level</th>\n      <th>bmi</th>\n      <th>smoking_status</th>\n    </tr>\n    <tr>\n      <th>stroke</th>\n      <th></th>\n      <th></th>\n      <th></th>\n      <th></th>\n      <th></th>\n      <th></th>\n      <th></th>\n      <th></th>\n      <th></th>\n      <th></th>\n      <th></th>\n    </tr>\n  </thead>\n  <tbody>\n    <tr>\n      <th>0</th>\n      <td>4699</td>\n      <td>4699</td>\n      <td>4699</td>\n      <td>4699</td>\n      <td>4699</td>\n      <td>4699</td>\n      <td>4699</td>\n      <td>4699</td>\n      <td>4699</td>\n      <td>4699</td>\n      <td>4699</td>\n    </tr>\n    <tr>\n      <th>1</th>\n      <td>209</td>\n      <td>209</td>\n      <td>209</td>\n      <td>209</td>\n      <td>209</td>\n      <td>209</td>\n      <td>209</td>\n      <td>209</td>\n      <td>209</td>\n      <td>209</td>\n      <td>209</td>\n    </tr>\n  </tbody>\n</table>\n</div>"
     },
     "metadata": {},
     "execution_count": 1362
    }
   ],
   "source": [
    "stroke = stroke.drop(stroke[stroke['sex'] == 'Other'].index[0])\n",
    "stroke.groupby('stroke').count()"
   ]
  },
  {
   "source": [
    "## 3.1 Codificando as features: Strings -> Inteiros"
   ],
   "cell_type": "markdown",
   "metadata": {}
  },
  {
   "cell_type": "code",
   "execution_count": 1363,
   "metadata": {},
   "outputs": [
    {
     "output_type": "stream",
     "name": "stdout",
     "text": [
      "{'Female': 0, 'Male': 1}\n{'No': 0, 'Yes': 1}\n{'Govt_job': 0, 'Never_worked': 1, 'Private': 2, 'Self-employed': 3, 'children': 4}\n{'Rural': 0, 'Urban': 1}\n{'Unknown': 0, 'formerly smoked': 1, 'never smoked': 2, 'smokes': 3}\nid                     int64\nsex                    int64\nage                  float64\nhypertension           int64\nheart_disease          int64\never_married           int64\nwork_type              int64\nresidence_type         int64\navg_glucose_level    float64\nbmi                  float64\nsmoking_status         int64\nstroke                 int64\ndtype: object\n"
     ]
    },
    {
     "output_type": "execute_result",
     "data": {
      "text/plain": [
       "      id  sex   age  hypertension  heart_disease  ever_married  work_type  \\\n",
       "0   9046    1  67.0             0              1             1          2   \n",
       "2  31112    1  80.0             0              1             1          2   \n",
       "3  60182    0  49.0             0              0             1          2   \n",
       "4   1665    0  79.0             1              0             1          3   \n",
       "5  56669    1  81.0             0              0             1          2   \n",
       "\n",
       "   residence_type  avg_glucose_level   bmi  smoking_status  stroke  \n",
       "0               1             228.69  36.6               1       1  \n",
       "2               0             105.92  32.5               2       1  \n",
       "3               1             171.23  34.4               3       1  \n",
       "4               0             174.12  24.0               2       1  \n",
       "5               1             186.21  29.0               1       1  "
      ],
      "text/html": "<div>\n<style scoped>\n    .dataframe tbody tr th:only-of-type {\n        vertical-align: middle;\n    }\n\n    .dataframe tbody tr th {\n        vertical-align: top;\n    }\n\n    .dataframe thead th {\n        text-align: right;\n    }\n</style>\n<table border=\"1\" class=\"dataframe\">\n  <thead>\n    <tr style=\"text-align: right;\">\n      <th></th>\n      <th>id</th>\n      <th>sex</th>\n      <th>age</th>\n      <th>hypertension</th>\n      <th>heart_disease</th>\n      <th>ever_married</th>\n      <th>work_type</th>\n      <th>residence_type</th>\n      <th>avg_glucose_level</th>\n      <th>bmi</th>\n      <th>smoking_status</th>\n      <th>stroke</th>\n    </tr>\n  </thead>\n  <tbody>\n    <tr>\n      <th>0</th>\n      <td>9046</td>\n      <td>1</td>\n      <td>67.0</td>\n      <td>0</td>\n      <td>1</td>\n      <td>1</td>\n      <td>2</td>\n      <td>1</td>\n      <td>228.69</td>\n      <td>36.6</td>\n      <td>1</td>\n      <td>1</td>\n    </tr>\n    <tr>\n      <th>2</th>\n      <td>31112</td>\n      <td>1</td>\n      <td>80.0</td>\n      <td>0</td>\n      <td>1</td>\n      <td>1</td>\n      <td>2</td>\n      <td>0</td>\n      <td>105.92</td>\n      <td>32.5</td>\n      <td>2</td>\n      <td>1</td>\n    </tr>\n    <tr>\n      <th>3</th>\n      <td>60182</td>\n      <td>0</td>\n      <td>49.0</td>\n      <td>0</td>\n      <td>0</td>\n      <td>1</td>\n      <td>2</td>\n      <td>1</td>\n      <td>171.23</td>\n      <td>34.4</td>\n      <td>3</td>\n      <td>1</td>\n    </tr>\n    <tr>\n      <th>4</th>\n      <td>1665</td>\n      <td>0</td>\n      <td>79.0</td>\n      <td>1</td>\n      <td>0</td>\n      <td>1</td>\n      <td>3</td>\n      <td>0</td>\n      <td>174.12</td>\n      <td>24.0</td>\n      <td>2</td>\n      <td>1</td>\n    </tr>\n    <tr>\n      <th>5</th>\n      <td>56669</td>\n      <td>1</td>\n      <td>81.0</td>\n      <td>0</td>\n      <td>0</td>\n      <td>1</td>\n      <td>2</td>\n      <td>1</td>\n      <td>186.21</td>\n      <td>29.0</td>\n      <td>1</td>\n      <td>1</td>\n    </tr>\n  </tbody>\n</table>\n</div>"
     },
     "metadata": {},
     "execution_count": 1363
    }
   ],
   "source": [
    "# create a mapping dict\n",
    "sex_mapping = {label: idx for idx, label in enumerate(np.unique(stroke['sex']))}\n",
    "ever_married_mapping = {label: idx for idx, label in enumerate(np.unique(stroke['ever_married']))}\n",
    "work_type_mapping = {label: idx for idx, label in enumerate(np.unique(stroke['work_type']))}\n",
    "residence_type_mapping = {label: idx for idx, label in enumerate(np.unique(stroke['residence_type']))}\n",
    "smoking_status_mapping = {label: idx for idx, label in enumerate(np.unique(stroke['smoking_status']))}\n",
    "print(sex_mapping)\n",
    "print(ever_married_mapping)\n",
    "print(work_type_mapping)\n",
    "print(residence_type_mapping)\n",
    "print(smoking_status_mapping)\n",
    "# convert class labels from strings to integers\n",
    "stroke['sex'] = stroke['sex'].map(sex_mapping)\n",
    "stroke['ever_married'] = stroke['ever_married'].map(ever_married_mapping)\n",
    "stroke['work_type'] = stroke['work_type'].map(work_type_mapping)\n",
    "stroke['residence_type'] = stroke['residence_type'].map(residence_type_mapping)\n",
    "stroke['smoking_status'] = stroke['smoking_status'].map(smoking_status_mapping)\n",
    "print(stroke.dtypes)\n",
    "stroke.head()"
   ]
  },
  {
   "cell_type": "code",
   "execution_count": 1364,
   "metadata": {},
   "outputs": [
    {
     "output_type": "execute_result",
     "data": {
      "text/plain": [
       "(4908, 10)"
      ]
     },
     "metadata": {},
     "execution_count": 1364
    }
   ],
   "source": [
    "y = stroke['stroke'].values\n",
    "X = stroke\n",
    "del stroke['stroke']\n",
    "del stroke['id']\n",
    "X = stroke.values\n",
    "X.shape"
   ]
  },
  {
   "cell_type": "code",
   "execution_count": 1365,
   "metadata": {},
   "outputs": [
    {
     "output_type": "stream",
     "name": "stdout",
     "text": [
      "Counter({0: 4699, 1: 209})\n"
     ]
    }
   ],
   "source": [
    "# summarize class distribution\n",
    "counter = Counter(y)\n",
    "print(counter)"
   ]
  },
  {
   "source": [
    "## 3.2. SMOTE - Synthetic Minority Oversampling Technique"
   ],
   "cell_type": "markdown",
   "metadata": {}
  },
  {
   "cell_type": "code",
   "execution_count": 1366,
   "metadata": {},
   "outputs": [
    {
     "output_type": "stream",
     "name": "stdout",
     "text": [
      "Counter({1: 4699, 0: 4699})\n"
     ]
    }
   ],
   "source": [
    "# transform the dataset\n",
    "oversample = SMOTE(sampling_strategy='minority', random_state=42, k_neighbors=1) # Default: k_neighbors=5\n",
    "X_smote, y_smote = oversample.fit_resample(X, y)\n",
    "# summarize the new class distribution\n",
    "counter = Counter(y_smote)\n",
    "print(counter)"
   ]
  },
  {
   "source": [
    "# 4. Modelos preditivos de classificação"
   ],
   "cell_type": "markdown",
   "metadata": {}
  },
  {
   "cell_type": "code",
   "execution_count": 1367,
   "metadata": {},
   "outputs": [],
   "source": [
    "# separando os dados aleatoriamente em 70%/30%\n",
    "X_train, X_test, y_train, y_test = train_test_split(X, y, train_size=0.7, random_state=42, stratify=y)\n",
    "X_train_smote, X_test_smote, y_train_smote, y_test_smote = train_test_split(X_smote, y_smote, train_size=0.7, random_state=42, stratify=y_smote)"
   ]
  },
  {
   "cell_type": "code",
   "execution_count": 1368,
   "metadata": {},
   "outputs": [],
   "source": [
    "# Normalizando os dados\n",
    "mms = MinMaxScaler()\n",
    "\n",
    "X_train_norm = mms.fit_transform(X_train)\n",
    "X_test_norm = mms.transform(X_test)\n",
    "\n",
    "X_train_smote_norm = mms.fit_transform(X_train_smote)\n",
    "X_test_smote_norm = mms.transform(X_test_smote)"
   ]
  },
  {
   "cell_type": "code",
   "execution_count": 1369,
   "metadata": {},
   "outputs": [],
   "source": [
    "# Standardizando os dados\n",
    "stdsc = StandardScaler()\n",
    "\n",
    "X_train_std = stdsc.fit_transform(X_train)\n",
    "X_test_std = stdsc.transform(X_test)\n",
    "\n",
    "X_train_smote_std = stdsc.fit_transform(X_train_smote)\n",
    "X_test_smote_std = stdsc.transform(X_test_smote)"
   ]
  },
  {
   "cell_type": "code",
   "execution_count": 1370,
   "metadata": {},
   "outputs": [],
   "source": [
    "quantidade_de_modelos = 1\n",
    "\n",
    "# criando os modelos kNN\n",
    "modelokNN = []\n",
    "for idx in range(quantidade_de_modelos) :\n",
    "    modelokNN.append(KNeighborsClassifier(n_neighbors=(idx+1)))\n",
    "\n",
    "# treinando o modelo\n",
    "for idx in range(quantidade_de_modelos) :\n",
    "    modelokNN[idx].fit(X_train, y_train)\n",
    "\n",
    "# predizendo as amostras de teste\n",
    "y_pred = []\n",
    "for idx in range(quantidade_de_modelos) :\n",
    "    y_pred.append(np.array(modelokNN[idx].predict(X_test)))"
   ]
  },
  {
   "cell_type": "code",
   "execution_count": 1371,
   "metadata": {},
   "outputs": [],
   "source": [
    "# criando os modelos kNN com os dados normalizados\n",
    "modelokNN_norm = []\n",
    "for idx in range(quantidade_de_modelos) :\n",
    "    modelokNN_norm.append(KNeighborsClassifier(n_neighbors=(idx+1)))\n",
    "\n",
    "# treinando o modelo\n",
    "for idx in range(quantidade_de_modelos) :\n",
    "    modelokNN_norm[idx].fit(X_train_norm, y_train)\n",
    "\n",
    "# predizendo as amostras de teste\n",
    "y_pred_norm = []\n",
    "for idx in range(quantidade_de_modelos) :\n",
    "    y_pred_norm.append(np.array(modelokNN_norm[idx].predict(X_test_norm)))"
   ]
  },
  {
   "cell_type": "code",
   "execution_count": 1372,
   "metadata": {},
   "outputs": [],
   "source": [
    "# criando os modelos kNN com os dados standardizados\n",
    "modelokNN_std = []\n",
    "for idx in range(quantidade_de_modelos) :\n",
    "    modelokNN_std.append(KNeighborsClassifier(n_neighbors=(idx+1)))\n",
    "\n",
    "# treinando o modelo\n",
    "for idx in range(quantidade_de_modelos) :\n",
    "    modelokNN_std[idx].fit(X_train_std, y_train)\n",
    "\n",
    "# predizendo as amostras de teste\n",
    "y_pred_std = []\n",
    "for idx in range(quantidade_de_modelos) :\n",
    "    y_pred_std.append(np.array(modelokNN_std[idx].predict(X_test_std)))"
   ]
  },
  {
   "cell_type": "code",
   "execution_count": 1373,
   "metadata": {},
   "outputs": [],
   "source": [
    "# criando os modelos kNN usando SMOTE\n",
    "modelokNN_smote = []\n",
    "for idx in range(quantidade_de_modelos) :\n",
    "    modelokNN_smote.append(KNeighborsClassifier(n_neighbors=(idx+1)))\n",
    "\n",
    "# treinando o modelo\n",
    "for idx in range(quantidade_de_modelos) :\n",
    "    modelokNN_smote[idx].fit(X_train_smote, y_train_smote)\n",
    "\n",
    "# predizendo as amostras de teste\n",
    "y_pred_smote = []\n",
    "for idx in range(quantidade_de_modelos) :\n",
    "    y_pred_smote.append(np.array(modelokNN_smote[idx].predict(X_test_smote)))"
   ]
  },
  {
   "cell_type": "code",
   "execution_count": 1374,
   "metadata": {},
   "outputs": [],
   "source": [
    "# criando os modelos kNN usando SMOTE e dados normalizados\n",
    "modelokNN_smote_norm = []\n",
    "for idx in range(quantidade_de_modelos) :\n",
    "    modelokNN_smote_norm.append(KNeighborsClassifier(n_neighbors=(idx+1)))\n",
    "\n",
    "# treinando o modelo\n",
    "for idx in range(quantidade_de_modelos) :\n",
    "    modelokNN_smote_norm[idx].fit(X_train_smote_norm, y_train_smote)\n",
    "\n",
    "# predizendo as amostras de teste\n",
    "y_pred_smote_norm = []\n",
    "for idx in range(quantidade_de_modelos) :\n",
    "    y_pred_smote_norm.append(np.array(modelokNN_smote_norm[idx].predict(X_test_smote_norm)))"
   ]
  },
  {
   "cell_type": "code",
   "execution_count": 1375,
   "metadata": {},
   "outputs": [],
   "source": [
    "# criando os modelos kNN usando SMOTE e dados standardizados\n",
    "modelokNN_smote_std = []\n",
    "for idx in range(quantidade_de_modelos) :\n",
    "    modelokNN_smote_std.append(KNeighborsClassifier(n_neighbors=(idx+1)))\n",
    "\n",
    "# treinando o modelo\n",
    "for idx in range(quantidade_de_modelos) :\n",
    "    modelokNN_smote_std[idx].fit(X_train_smote_std, y_train_smote)\n",
    "\n",
    "# predizendo as amostras de teste\n",
    "y_pred_smote_std = []\n",
    "for idx in range(quantidade_de_modelos) :\n",
    "    y_pred_smote_std.append(np.array(modelokNN_smote_std[idx].predict(X_test_smote_std)))"
   ]
  },
  {
   "source": [
    "# 5. Métricas de avaliação dos resultados"
   ],
   "cell_type": "markdown",
   "metadata": {}
  },
  {
   "source": [
    "## 5.1. Acurácia"
   ],
   "cell_type": "markdown",
   "metadata": {}
  },
  {
   "cell_type": "code",
   "execution_count": 1376,
   "metadata": {},
   "outputs": [
    {
     "output_type": "stream",
     "name": "stdout",
     "text": [
      "0.923285811269518\n"
     ]
    }
   ],
   "source": [
    "for idx in range(quantidade_de_modelos) :\n",
    "    print(metrics.accuracy_score(y_test, y_pred[idx])) # DADOS CRUS"
   ]
  },
  {
   "cell_type": "code",
   "execution_count": 1377,
   "metadata": {},
   "outputs": [
    {
     "output_type": "stream",
     "name": "stdout",
     "text": [
      "0.9226069246435845\n"
     ]
    }
   ],
   "source": [
    "for idx in range(quantidade_de_modelos) :\n",
    "    print(metrics.accuracy_score(y_test, y_pred_norm[idx])) # DADOS CRUS NORMALIZADOS"
   ]
  },
  {
   "cell_type": "code",
   "execution_count": 1378,
   "metadata": {},
   "outputs": [
    {
     "output_type": "stream",
     "name": "stdout",
     "text": [
      "0.9198913781398507\n"
     ]
    }
   ],
   "source": [
    "for idx in range(quantidade_de_modelos) :\n",
    "    print(metrics.accuracy_score(y_test, y_pred_std[idx])) # DADOS CRUS STANDARDIZADOS"
   ]
  },
  {
   "cell_type": "code",
   "execution_count": 1379,
   "metadata": {},
   "outputs": [
    {
     "output_type": "stream",
     "name": "stdout",
     "text": [
      "0.9631205673758865\n"
     ]
    }
   ],
   "source": [
    "for idx in range(quantidade_de_modelos) :\n",
    "    print(metrics.accuracy_score(y_test_smote, y_pred_smote[idx])) # DADOS UTILIZANDO OVERSAMPLING(SMOTE)"
   ]
  },
  {
   "cell_type": "code",
   "execution_count": 1380,
   "metadata": {},
   "outputs": [
    {
     "output_type": "stream",
     "name": "stdout",
     "text": [
      "0.9687943262411347\n"
     ]
    }
   ],
   "source": [
    "for idx in range(quantidade_de_modelos) :\n",
    "    print(metrics.accuracy_score(y_test_smote, y_pred_smote_norm[idx])) # DADOS UTILIZANDO OVERSAMPLING(SMOTE) E NORMALIZADO"
   ]
  },
  {
   "cell_type": "code",
   "execution_count": 1381,
   "metadata": {},
   "outputs": [
    {
     "output_type": "stream",
     "name": "stdout",
     "text": [
      "0.9695035460992908\n"
     ]
    }
   ],
   "source": [
    "for idx in range(quantidade_de_modelos) :\n",
    "    print(metrics.accuracy_score(y_test_smote, y_pred_smote_std[idx])) # DADOS UTILIZANDO OVERSAMPLING(SMOTE) E STANDARDIZADO"
   ]
  },
  {
   "source": [
    "## 5.2. Precisão"
   ],
   "cell_type": "markdown",
   "metadata": {}
  },
  {
   "cell_type": "code",
   "execution_count": 1382,
   "metadata": {},
   "outputs": [
    {
     "output_type": "stream",
     "name": "stdout",
     "text": [
      "0.9249959897131373\n"
     ]
    }
   ],
   "source": [
    "for idx in range(quantidade_de_modelos) :\n",
    "    print(metrics.precision_score(y_test, y_pred[idx], average='weighted', zero_division=0)) # DADOS CRUS"
   ]
  },
  {
   "cell_type": "code",
   "execution_count": 1383,
   "metadata": {},
   "outputs": [
    {
     "output_type": "stream",
     "name": "stdout",
     "text": [
      "0.9270677626134621\n"
     ]
    }
   ],
   "source": [
    "for idx in range(quantidade_de_modelos) :\n",
    "    print(metrics.precision_score(y_test, y_pred_norm[idx], average='weighted', zero_division=0)) # DADOS CRUS NORMALIZADOS"
   ]
  },
  {
   "cell_type": "code",
   "execution_count": 1384,
   "metadata": {},
   "outputs": [
    {
     "output_type": "stream",
     "name": "stdout",
     "text": [
      "0.9222536516514689\n"
     ]
    }
   ],
   "source": [
    "for idx in range(quantidade_de_modelos) :\n",
    "    print(metrics.precision_score(y_test, y_pred_std[idx], average='weighted', zero_division=0)) # DADOS CRUS STANDARDIZADOS"
   ]
  },
  {
   "cell_type": "code",
   "execution_count": 1385,
   "metadata": {},
   "outputs": [
    {
     "output_type": "stream",
     "name": "stdout",
     "text": [
      "0.9655568904422116\n"
     ]
    }
   ],
   "source": [
    "for idx in range(quantidade_de_modelos) :\n",
    "    print(metrics.precision_score(y_test_smote, y_pred_smote[idx], average='weighted', zero_division=0)) # DADOS UTILIZANDO OVERSAMPLING(SMOTE)"
   ]
  },
  {
   "cell_type": "code",
   "execution_count": 1386,
   "metadata": {},
   "outputs": [
    {
     "output_type": "stream",
     "name": "stdout",
     "text": [
      "0.9698872081134331\n"
     ]
    }
   ],
   "source": [
    "for idx in range(quantidade_de_modelos) :\n",
    "    print(metrics.precision_score(y_test_smote, y_pred_smote_norm[idx], average='weighted', zero_division=0)) # DADOS UTILIZANDO OVERSAMPLING(SMOTE) E NORMALIZADO"
   ]
  },
  {
   "cell_type": "code",
   "execution_count": 1387,
   "metadata": {},
   "outputs": [
    {
     "output_type": "stream",
     "name": "stdout",
     "text": [
      "0.9710198314578391\n"
     ]
    }
   ],
   "source": [
    "for idx in range(quantidade_de_modelos) :\n",
    "    print(metrics.precision_score(y_test_smote, y_pred_smote_std[idx], average='weighted', zero_division=0)) # DADOS UTILIZANDO OVERSAMPLING(SMOTE) E STANDARDIZADO"
   ]
  },
  {
   "source": [
    "## 5.3. Recall"
   ],
   "cell_type": "markdown",
   "metadata": {}
  },
  {
   "cell_type": "code",
   "execution_count": 1388,
   "metadata": {},
   "outputs": [
    {
     "output_type": "stream",
     "name": "stdout",
     "text": [
      "0.923285811269518\n"
     ]
    }
   ],
   "source": [
    "for idx in range(quantidade_de_modelos) :\n",
    "    print(metrics.recall_score(y_test, y_pred[idx], average='weighted', zero_division=0)) # DADOS CRUS"
   ]
  },
  {
   "cell_type": "code",
   "execution_count": 1389,
   "metadata": {},
   "outputs": [
    {
     "output_type": "stream",
     "name": "stdout",
     "text": [
      "0.9226069246435845\n"
     ]
    }
   ],
   "source": [
    "for idx in range(quantidade_de_modelos) :\n",
    "    print(metrics.recall_score(y_test, y_pred_norm[idx], average='weighted', zero_division=0)) # DADOS CRUS NORMALIZADOS"
   ]
  },
  {
   "cell_type": "code",
   "execution_count": 1396,
   "metadata": {},
   "outputs": [
    {
     "output_type": "stream",
     "name": "stdout",
     "text": [
      "0.9198913781398507\n"
     ]
    }
   ],
   "source": [
    "for idx in range(quantidade_de_modelos) :\n",
    "    print(metrics.recall_score(y_test, y_pred_std[idx], average='weighted', zero_division=0)) # DADOS CRUS STANDARDIZADOS"
   ]
  },
  {
   "cell_type": "code",
   "execution_count": 1390,
   "metadata": {},
   "outputs": [
    {
     "output_type": "stream",
     "name": "stdout",
     "text": [
      "0.9631205673758865\n"
     ]
    }
   ],
   "source": [
    "for idx in range(quantidade_de_modelos) :\n",
    "    print(metrics.recall_score(y_test_smote, y_pred_smote[idx], average='weighted', zero_division=0)) # DADOS UTILIZANDO OVERSAMPLING(SMOTE)"
   ]
  },
  {
   "cell_type": "code",
   "execution_count": 1391,
   "metadata": {},
   "outputs": [
    {
     "output_type": "stream",
     "name": "stdout",
     "text": [
      "0.9687943262411347\n"
     ]
    }
   ],
   "source": [
    "for idx in range(quantidade_de_modelos) :\n",
    "    print(metrics.recall_score(y_test_smote, y_pred_smote_norm[idx], average='weighted', zero_division=0)) # DADOS UTILIZANDO OVERSAMPLING(SMOTE) E NORMALIZADO"
   ]
  },
  {
   "cell_type": "code",
   "execution_count": 1397,
   "metadata": {},
   "outputs": [
    {
     "output_type": "stream",
     "name": "stdout",
     "text": [
      "0.9695035460992908\n"
     ]
    }
   ],
   "source": [
    "for idx in range(quantidade_de_modelos) :\n",
    "    print(metrics.recall_score(y_test_smote, y_pred_smote_std[idx], average='weighted', zero_division=0)) # DADOS UTILIZANDO OVERSAMPLING(SMOTE) E STANDARDIZADOS"
   ]
  },
  {
   "source": [
    "## 5.4. F1-Measure"
   ],
   "cell_type": "markdown",
   "metadata": {}
  },
  {
   "cell_type": "code",
   "execution_count": 1392,
   "metadata": {},
   "outputs": [
    {
     "output_type": "stream",
     "name": "stdout",
     "text": [
      "0.9241369878440843\n"
     ]
    }
   ],
   "source": [
    "for idx in range(quantidade_de_modelos) :\n",
    "    print(metrics.f1_score(y_test, y_pred[idx], average='weighted', zero_division=0)) # DADOS CRUS"
   ]
  },
  {
   "cell_type": "code",
   "execution_count": 1393,
   "metadata": {},
   "outputs": [
    {
     "output_type": "stream",
     "name": "stdout",
     "text": [
      "0.9248070759758755\n"
     ]
    }
   ],
   "source": [
    "for idx in range(quantidade_de_modelos) :\n",
    "    print(metrics.f1_score(y_test, y_pred_norm[idx], average='weighted', zero_division=0)) # DADOS CRUS NORMALIZADOS"
   ]
  },
  {
   "cell_type": "code",
   "execution_count": 1398,
   "metadata": {},
   "outputs": [
    {
     "output_type": "stream",
     "name": "stdout",
     "text": [
      "0.9210669231481349\n"
     ]
    }
   ],
   "source": [
    "for idx in range(quantidade_de_modelos) :\n",
    "    print(metrics.f1_score(y_test, y_pred_std[idx], average='weighted', zero_division=0)) # DADOS CRUS STANDARDIZADOS"
   ]
  },
  {
   "cell_type": "code",
   "execution_count": 1394,
   "metadata": {},
   "outputs": [
    {
     "output_type": "stream",
     "name": "stdout",
     "text": [
      "0.9630722553876885\n"
     ]
    }
   ],
   "source": [
    "for idx in range(quantidade_de_modelos) :\n",
    "    print(metrics.f1_score(y_test_smote, y_pred_smote[idx], average='weighted', zero_division=0)) # DADOS UTILIZANDO OVERSAMPLING(SMOTE)"
   ]
  },
  {
   "cell_type": "code",
   "execution_count": 1395,
   "metadata": {},
   "outputs": [
    {
     "output_type": "stream",
     "name": "stdout",
     "text": [
      "0.9687761708432648\n"
     ]
    }
   ],
   "source": [
    "for idx in range(quantidade_de_modelos) :\n",
    "    print(metrics.f1_score(y_test_smote, y_pred_smote_norm[idx], average='weighted', zero_division=0)) # DADOS UTILIZANDO OVERSAMPLING(SMOTE) E NORMALIZADO"
   ]
  },
  {
   "cell_type": "code",
   "execution_count": 1399,
   "metadata": {},
   "outputs": [
    {
     "output_type": "stream",
     "name": "stdout",
     "text": [
      "0.9694789831361691\n"
     ]
    }
   ],
   "source": [
    "for idx in range(quantidade_de_modelos) :\n",
    "    print(metrics.f1_score(y_test_smote, y_pred_smote_std[idx], average='weighted', zero_division=0)) # DADOS UTILIZANDO OVERSAMPLING(SMOTE) E STANDARDIZADO"
   ]
  },
  {
   "source": [
    "# 6. Apresentação dos resultados"
   ],
   "cell_type": "markdown",
   "metadata": {}
  }
 ]
}