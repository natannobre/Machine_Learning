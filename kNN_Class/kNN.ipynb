{
 "metadata": {
  "language_info": {
   "codemirror_mode": {
    "name": "ipython",
    "version": 3
   },
   "file_extension": ".py",
   "mimetype": "text/x-python",
   "name": "python",
   "nbconvert_exporter": "python",
   "pygments_lexer": "ipython3",
   "version": "3.8.5"
  },
  "orig_nbformat": 2,
  "kernelspec": {
   "name": "python385jvsc74a57bd01f09bd18c3bd6ca7f9726fc8dcfe1413a5b5683c291aaa94868dd31b44d43b4e",
   "display_name": "Python 3.8.5 64-bit ('base': conda)"
  }
 },
 "nbformat": 4,
 "nbformat_minor": 2,
 "cells": [
  {
   "cell_type": "code",
   "execution_count": 217,
   "metadata": {},
   "outputs": [],
   "source": [
    "import numpy as np\r\n",
    "import sklearn\r\n",
    "from sklearn.model_selection import train_test_split\r\n",
    "from sklearn.neighbors import KNeighborsClassifier"
   ]
  },
  {
   "cell_type": "code",
   "execution_count": 218,
   "metadata": {},
   "outputs": [],
   "source": [
    "# importando o dicionário\n",
    "iris_data = sklearn.datasets.load_iris()"
   ]
  },
  {
   "cell_type": "code",
   "execution_count": 219,
   "metadata": {},
   "outputs": [
    {
     "output_type": "execute_result",
     "data": {
      "text/plain": [
       "(150, 4)"
      ]
     },
     "metadata": {},
     "execution_count": 219
    }
   ],
   "source": [
    "# importando os dados e os targets\n",
    "X, y = sklearn.datasets.load_iris(return_X_y=True)\n",
    "X.shape"
   ]
  },
  {
   "cell_type": "code",
   "execution_count": 220,
   "metadata": {},
   "outputs": [
    {
     "output_type": "execute_result",
     "data": {
      "text/plain": [
       "(150,)"
      ]
     },
     "metadata": {},
     "execution_count": 220
    }
   ],
   "source": [
    "y.shape"
   ]
  },
  {
   "cell_type": "code",
   "execution_count": 221,
   "metadata": {},
   "outputs": [],
   "source": [
    "# separando os dados aleatoriamente em 80%/20%\n",
    "X_treino, X_teste, y_treino, y_teste = train_test_split(X, y, test_size=0.9, random_state=42, stratify=y)"
   ]
  },
  {
   "cell_type": "code",
   "execution_count": 222,
   "metadata": {},
   "outputs": [
    {
     "output_type": "execute_result",
     "data": {
      "text/plain": [
       "(5, 5, 5)"
      ]
     },
     "metadata": {},
     "execution_count": 222
    }
   ],
   "source": [
    "np.sum(y_treino == 0), np.sum(y_treino == 1), np.sum(y_treino == 2)"
   ]
  },
  {
   "cell_type": "code",
   "execution_count": 223,
   "metadata": {},
   "outputs": [
    {
     "output_type": "execute_result",
     "data": {
      "text/plain": [
       "(45, 45, 45)"
      ]
     },
     "metadata": {},
     "execution_count": 223
    }
   ],
   "source": [
    "np.sum(y_teste == 0), np.sum(y_teste == 1), np.sum(y_teste == 2)"
   ]
  },
  {
   "cell_type": "code",
   "execution_count": 224,
   "metadata": {},
   "outputs": [
    {
     "output_type": "stream",
     "name": "stdout",
     "text": [
      "[1 1 0 1 0 2 0 2 1 0 1 0 2 2 2]\n[0 0 0 0 1 0 1 2 0 2 1 0 0 1 0 0 0 1 0 0 2 1 1 2 1 2 1 2 0 2 1 0 2 1 1 2 1\n 1 0 2 0 0 0 2 1 1 1 0 2 0 0 0 2 0 2 1 1 1 0 1 0 1 1 0 2 1 0 0 2 0 0 2 1 1\n 2 2 2 2 1 2 0 2 1 1 1 2 1 1 2 0 0 0 2 1 2 1 1 2 0 1 1 0 2 1 2 0 2 0 2 1 1\n 2 0 2 1 2 2 0 0 2 2 2 1 2 2 2 1 1 0 1 0 2 2 0 2]\n"
     ]
    }
   ],
   "source": [
    "print(y_treino)\n",
    "print(y_teste)"
   ]
  },
  {
   "cell_type": "code",
   "execution_count": 225,
   "metadata": {},
   "outputs": [],
   "source": [
    "# criando o modelo kNN\n",
    "modelo_kNN = KNeighborsClassifier(n_neighbors=3) "
   ]
  },
  {
   "cell_type": "code",
   "execution_count": 226,
   "metadata": {},
   "outputs": [
    {
     "output_type": "execute_result",
     "data": {
      "text/plain": [
       "KNeighborsClassifier(n_neighbors=3)"
      ]
     },
     "metadata": {},
     "execution_count": 226
    }
   ],
   "source": [
    "# treinando o modelo\n",
    "modelo_kNN.fit(X_treino, y_treino)"
   ]
  },
  {
   "cell_type": "code",
   "execution_count": 227,
   "metadata": {},
   "outputs": [
    {
     "output_type": "execute_result",
     "data": {
      "text/plain": [
       "array([0, 0, 0, 0, 1, 0, 1, 2, 0, 2, 2, 0, 0, 1, 0, 0, 0, 1, 0, 0, 2, 2,\n",
       "       1, 2, 1, 2, 1, 2, 0, 2, 1, 0, 2, 1, 1, 2, 1, 1, 0, 2, 0, 0, 0, 2,\n",
       "       1, 1, 2, 0, 2, 0, 0, 0, 2, 0, 2, 1, 2, 1, 0, 1, 0, 1, 1, 0, 2, 2,\n",
       "       0, 0, 2, 0, 0, 2, 1, 1, 2, 2, 2, 2, 1, 2, 0, 1, 2, 2, 1, 2, 1, 1,\n",
       "       2, 0, 0, 0, 2, 1, 2, 1, 1, 2, 0, 1, 1, 0, 2, 1, 2, 0, 2, 0, 2, 1,\n",
       "       2, 2, 0, 2, 1, 2, 2, 0, 0, 2, 2, 2, 1, 2, 2, 2, 1, 1, 0, 1, 0, 2,\n",
       "       2, 0, 2])"
      ]
     },
     "metadata": {},
     "execution_count": 227
    }
   ],
   "source": [
    "# prevendo os valores ara os dados de teste\n",
    "y_pred = modelo_kNN.predict(X_teste)\n",
    "y_pred"
   ]
  },
  {
   "cell_type": "code",
   "execution_count": 231,
   "metadata": {},
   "outputs": [
    {
     "output_type": "execute_result",
     "data": {
      "text/plain": [
       "array([ True,  True,  True,  True,  True,  True,  True,  True,  True,\n",
       "        True, False,  True,  True,  True,  True,  True,  True,  True,\n",
       "        True,  True,  True, False,  True,  True,  True,  True,  True,\n",
       "        True,  True,  True,  True,  True,  True,  True,  True,  True,\n",
       "        True,  True,  True,  True,  True,  True,  True,  True,  True,\n",
       "        True, False,  True,  True,  True,  True,  True,  True,  True,\n",
       "        True,  True, False,  True,  True,  True,  True,  True,  True,\n",
       "        True,  True, False,  True,  True,  True,  True,  True,  True,\n",
       "        True,  True,  True,  True,  True,  True,  True,  True,  True,\n",
       "       False, False, False,  True,  True,  True,  True,  True,  True,\n",
       "        True,  True,  True,  True,  True,  True,  True,  True,  True,\n",
       "        True,  True,  True,  True,  True,  True,  True,  True,  True,\n",
       "        True,  True, False,  True,  True,  True,  True,  True,  True,\n",
       "        True,  True,  True,  True,  True,  True,  True,  True,  True,\n",
       "        True,  True,  True,  True,  True,  True,  True,  True,  True])"
      ]
     },
     "metadata": {},
     "execution_count": 231
    }
   ],
   "source": [
    "y_pred == y_teste"
   ]
  },
  {
   "cell_type": "code",
   "execution_count": 229,
   "metadata": {},
   "outputs": [
    {
     "output_type": "stream",
     "name": "stdout",
     "text": [
      "Acurácia de 93.33333333333333%\n"
     ]
    }
   ],
   "source": [
    "# acurácia\n",
    "print(\"Acurácia de {}%\".format(np.sum(y_pred == y_teste) * 100 / y_teste.shape[0]))"
   ]
  },
  {
   "cell_type": "code",
   "execution_count": null,
   "metadata": {},
   "outputs": [],
   "source": []
  }
 ]
}