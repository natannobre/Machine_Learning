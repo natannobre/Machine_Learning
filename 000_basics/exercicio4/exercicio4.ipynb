{
 "cells": [
  {
   "cell_type": "code",
   "execution_count": 78,
   "metadata": {},
   "outputs": [],
   "source": [
    "from sklearn.model_selection import train_test_split\n",
    "from sklearn.neighbors import KNeighborsClassifier\n",
    "import matplotlib.pyplot as plt\n",
    "import pandas as pd\n",
    "import numpy as np\n",
    "\n",
    "plt.style.use('ggplot')"
   ]
  },
  {
   "cell_type": "code",
   "execution_count": 79,
   "metadata": {},
   "outputs": [
    {
     "data": {
      "text/html": [
       "<div>\n",
       "<style scoped>\n",
       "    .dataframe tbody tr th:only-of-type {\n",
       "        vertical-align: middle;\n",
       "    }\n",
       "\n",
       "    .dataframe tbody tr th {\n",
       "        vertical-align: top;\n",
       "    }\n",
       "\n",
       "    .dataframe thead th {\n",
       "        text-align: right;\n",
       "    }\n",
       "</style>\n",
       "<table border=\"1\" class=\"dataframe\">\n",
       "  <thead>\n",
       "    <tr style=\"text-align: right;\">\n",
       "      <th></th>\n",
       "      <th>id</th>\n",
       "      <th>diagnosis_result</th>\n",
       "      <th>radius</th>\n",
       "      <th>texture</th>\n",
       "      <th>perimeter</th>\n",
       "      <th>area</th>\n",
       "      <th>smoothness</th>\n",
       "      <th>compactness</th>\n",
       "      <th>symmetry</th>\n",
       "      <th>fractal_dimension</th>\n",
       "    </tr>\n",
       "  </thead>\n",
       "  <tbody>\n",
       "    <tr>\n",
       "      <th>0</th>\n",
       "      <td>1</td>\n",
       "      <td>M</td>\n",
       "      <td>23</td>\n",
       "      <td>12</td>\n",
       "      <td>151</td>\n",
       "      <td>954</td>\n",
       "      <td>0.143</td>\n",
       "      <td>0.278</td>\n",
       "      <td>0.242</td>\n",
       "      <td>0.079</td>\n",
       "    </tr>\n",
       "    <tr>\n",
       "      <th>1</th>\n",
       "      <td>2</td>\n",
       "      <td>B</td>\n",
       "      <td>9</td>\n",
       "      <td>13</td>\n",
       "      <td>133</td>\n",
       "      <td>1326</td>\n",
       "      <td>0.143</td>\n",
       "      <td>0.079</td>\n",
       "      <td>0.181</td>\n",
       "      <td>0.057</td>\n",
       "    </tr>\n",
       "    <tr>\n",
       "      <th>2</th>\n",
       "      <td>3</td>\n",
       "      <td>M</td>\n",
       "      <td>21</td>\n",
       "      <td>27</td>\n",
       "      <td>130</td>\n",
       "      <td>1203</td>\n",
       "      <td>0.125</td>\n",
       "      <td>0.160</td>\n",
       "      <td>0.207</td>\n",
       "      <td>0.060</td>\n",
       "    </tr>\n",
       "    <tr>\n",
       "      <th>3</th>\n",
       "      <td>4</td>\n",
       "      <td>M</td>\n",
       "      <td>14</td>\n",
       "      <td>16</td>\n",
       "      <td>78</td>\n",
       "      <td>386</td>\n",
       "      <td>0.070</td>\n",
       "      <td>0.284</td>\n",
       "      <td>0.260</td>\n",
       "      <td>0.097</td>\n",
       "    </tr>\n",
       "    <tr>\n",
       "      <th>4</th>\n",
       "      <td>5</td>\n",
       "      <td>M</td>\n",
       "      <td>9</td>\n",
       "      <td>19</td>\n",
       "      <td>135</td>\n",
       "      <td>1297</td>\n",
       "      <td>0.141</td>\n",
       "      <td>0.133</td>\n",
       "      <td>0.181</td>\n",
       "      <td>0.059</td>\n",
       "    </tr>\n",
       "    <tr>\n",
       "      <th>...</th>\n",
       "      <td>...</td>\n",
       "      <td>...</td>\n",
       "      <td>...</td>\n",
       "      <td>...</td>\n",
       "      <td>...</td>\n",
       "      <td>...</td>\n",
       "      <td>...</td>\n",
       "      <td>...</td>\n",
       "      <td>...</td>\n",
       "      <td>...</td>\n",
       "    </tr>\n",
       "    <tr>\n",
       "      <th>95</th>\n",
       "      <td>96</td>\n",
       "      <td>M</td>\n",
       "      <td>23</td>\n",
       "      <td>16</td>\n",
       "      <td>132</td>\n",
       "      <td>1264</td>\n",
       "      <td>0.091</td>\n",
       "      <td>0.131</td>\n",
       "      <td>0.210</td>\n",
       "      <td>0.056</td>\n",
       "    </tr>\n",
       "    <tr>\n",
       "      <th>96</th>\n",
       "      <td>97</td>\n",
       "      <td>B</td>\n",
       "      <td>22</td>\n",
       "      <td>14</td>\n",
       "      <td>78</td>\n",
       "      <td>451</td>\n",
       "      <td>0.105</td>\n",
       "      <td>0.071</td>\n",
       "      <td>0.190</td>\n",
       "      <td>0.066</td>\n",
       "    </tr>\n",
       "    <tr>\n",
       "      <th>97</th>\n",
       "      <td>98</td>\n",
       "      <td>B</td>\n",
       "      <td>19</td>\n",
       "      <td>27</td>\n",
       "      <td>62</td>\n",
       "      <td>295</td>\n",
       "      <td>0.102</td>\n",
       "      <td>0.053</td>\n",
       "      <td>0.135</td>\n",
       "      <td>0.069</td>\n",
       "    </tr>\n",
       "    <tr>\n",
       "      <th>98</th>\n",
       "      <td>99</td>\n",
       "      <td>B</td>\n",
       "      <td>21</td>\n",
       "      <td>24</td>\n",
       "      <td>74</td>\n",
       "      <td>413</td>\n",
       "      <td>0.090</td>\n",
       "      <td>0.075</td>\n",
       "      <td>0.162</td>\n",
       "      <td>0.066</td>\n",
       "    </tr>\n",
       "    <tr>\n",
       "      <th>99</th>\n",
       "      <td>100</td>\n",
       "      <td>M</td>\n",
       "      <td>16</td>\n",
       "      <td>27</td>\n",
       "      <td>94</td>\n",
       "      <td>643</td>\n",
       "      <td>0.098</td>\n",
       "      <td>0.114</td>\n",
       "      <td>0.188</td>\n",
       "      <td>0.064</td>\n",
       "    </tr>\n",
       "  </tbody>\n",
       "</table>\n",
       "<p>100 rows × 10 columns</p>\n",
       "</div>"
      ],
      "text/plain": [
       "     id diagnosis_result  radius  texture  perimeter  area  smoothness  \\\n",
       "0     1                M      23       12        151   954       0.143   \n",
       "1     2                B       9       13        133  1326       0.143   \n",
       "2     3                M      21       27        130  1203       0.125   \n",
       "3     4                M      14       16         78   386       0.070   \n",
       "4     5                M       9       19        135  1297       0.141   \n",
       "..  ...              ...     ...      ...        ...   ...         ...   \n",
       "95   96                M      23       16        132  1264       0.091   \n",
       "96   97                B      22       14         78   451       0.105   \n",
       "97   98                B      19       27         62   295       0.102   \n",
       "98   99                B      21       24         74   413       0.090   \n",
       "99  100                M      16       27         94   643       0.098   \n",
       "\n",
       "    compactness  symmetry  fractal_dimension  \n",
       "0         0.278     0.242              0.079  \n",
       "1         0.079     0.181              0.057  \n",
       "2         0.160     0.207              0.060  \n",
       "3         0.284     0.260              0.097  \n",
       "4         0.133     0.181              0.059  \n",
       "..          ...       ...                ...  \n",
       "95        0.131     0.210              0.056  \n",
       "96        0.071     0.190              0.066  \n",
       "97        0.053     0.135              0.069  \n",
       "98        0.075     0.162              0.066  \n",
       "99        0.114     0.188              0.064  \n",
       "\n",
       "[100 rows x 10 columns]"
      ]
     },
     "execution_count": 79,
     "metadata": {},
     "output_type": "execute_result"
    }
   ],
   "source": [
    "data = pd.read_csv('Prostate_Cancer.csv')\n",
    "data"
   ]
  },
  {
   "cell_type": "code",
   "execution_count": 80,
   "metadata": {},
   "outputs": [
    {
     "data": {
      "text/html": [
       "<div>\n",
       "<style scoped>\n",
       "    .dataframe tbody tr th:only-of-type {\n",
       "        vertical-align: middle;\n",
       "    }\n",
       "\n",
       "    .dataframe tbody tr th {\n",
       "        vertical-align: top;\n",
       "    }\n",
       "\n",
       "    .dataframe thead th {\n",
       "        text-align: right;\n",
       "    }\n",
       "</style>\n",
       "<table border=\"1\" class=\"dataframe\">\n",
       "  <thead>\n",
       "    <tr style=\"text-align: right;\">\n",
       "      <th></th>\n",
       "      <th>id</th>\n",
       "      <th>radius</th>\n",
       "      <th>texture</th>\n",
       "      <th>perimeter</th>\n",
       "      <th>area</th>\n",
       "      <th>smoothness</th>\n",
       "      <th>compactness</th>\n",
       "      <th>symmetry</th>\n",
       "      <th>fractal_dimension</th>\n",
       "    </tr>\n",
       "  </thead>\n",
       "  <tbody>\n",
       "    <tr>\n",
       "      <th>count</th>\n",
       "      <td>100.000000</td>\n",
       "      <td>100.000000</td>\n",
       "      <td>100.000000</td>\n",
       "      <td>100.000000</td>\n",
       "      <td>100.000000</td>\n",
       "      <td>100.000000</td>\n",
       "      <td>100.000000</td>\n",
       "      <td>100.000000</td>\n",
       "      <td>100.000000</td>\n",
       "    </tr>\n",
       "    <tr>\n",
       "      <th>mean</th>\n",
       "      <td>50.500000</td>\n",
       "      <td>16.850000</td>\n",
       "      <td>18.230000</td>\n",
       "      <td>96.780000</td>\n",
       "      <td>702.880000</td>\n",
       "      <td>0.102730</td>\n",
       "      <td>0.126700</td>\n",
       "      <td>0.193170</td>\n",
       "      <td>0.064690</td>\n",
       "    </tr>\n",
       "    <tr>\n",
       "      <th>std</th>\n",
       "      <td>29.011492</td>\n",
       "      <td>4.879094</td>\n",
       "      <td>5.192954</td>\n",
       "      <td>23.676089</td>\n",
       "      <td>319.710895</td>\n",
       "      <td>0.014642</td>\n",
       "      <td>0.061144</td>\n",
       "      <td>0.030785</td>\n",
       "      <td>0.008151</td>\n",
       "    </tr>\n",
       "    <tr>\n",
       "      <th>min</th>\n",
       "      <td>1.000000</td>\n",
       "      <td>9.000000</td>\n",
       "      <td>11.000000</td>\n",
       "      <td>52.000000</td>\n",
       "      <td>202.000000</td>\n",
       "      <td>0.070000</td>\n",
       "      <td>0.038000</td>\n",
       "      <td>0.135000</td>\n",
       "      <td>0.053000</td>\n",
       "    </tr>\n",
       "    <tr>\n",
       "      <th>25%</th>\n",
       "      <td>25.750000</td>\n",
       "      <td>12.000000</td>\n",
       "      <td>14.000000</td>\n",
       "      <td>82.500000</td>\n",
       "      <td>476.750000</td>\n",
       "      <td>0.093500</td>\n",
       "      <td>0.080500</td>\n",
       "      <td>0.172000</td>\n",
       "      <td>0.059000</td>\n",
       "    </tr>\n",
       "    <tr>\n",
       "      <th>50%</th>\n",
       "      <td>50.500000</td>\n",
       "      <td>17.000000</td>\n",
       "      <td>17.500000</td>\n",
       "      <td>94.000000</td>\n",
       "      <td>644.000000</td>\n",
       "      <td>0.102000</td>\n",
       "      <td>0.118500</td>\n",
       "      <td>0.190000</td>\n",
       "      <td>0.063000</td>\n",
       "    </tr>\n",
       "    <tr>\n",
       "      <th>75%</th>\n",
       "      <td>75.250000</td>\n",
       "      <td>21.000000</td>\n",
       "      <td>22.250000</td>\n",
       "      <td>114.250000</td>\n",
       "      <td>917.000000</td>\n",
       "      <td>0.112000</td>\n",
       "      <td>0.157000</td>\n",
       "      <td>0.209000</td>\n",
       "      <td>0.069000</td>\n",
       "    </tr>\n",
       "    <tr>\n",
       "      <th>max</th>\n",
       "      <td>100.000000</td>\n",
       "      <td>25.000000</td>\n",
       "      <td>27.000000</td>\n",
       "      <td>172.000000</td>\n",
       "      <td>1878.000000</td>\n",
       "      <td>0.143000</td>\n",
       "      <td>0.345000</td>\n",
       "      <td>0.304000</td>\n",
       "      <td>0.097000</td>\n",
       "    </tr>\n",
       "  </tbody>\n",
       "</table>\n",
       "</div>"
      ],
      "text/plain": [
       "               id      radius     texture   perimeter         area  \\\n",
       "count  100.000000  100.000000  100.000000  100.000000   100.000000   \n",
       "mean    50.500000   16.850000   18.230000   96.780000   702.880000   \n",
       "std     29.011492    4.879094    5.192954   23.676089   319.710895   \n",
       "min      1.000000    9.000000   11.000000   52.000000   202.000000   \n",
       "25%     25.750000   12.000000   14.000000   82.500000   476.750000   \n",
       "50%     50.500000   17.000000   17.500000   94.000000   644.000000   \n",
       "75%     75.250000   21.000000   22.250000  114.250000   917.000000   \n",
       "max    100.000000   25.000000   27.000000  172.000000  1878.000000   \n",
       "\n",
       "       smoothness  compactness    symmetry  fractal_dimension  \n",
       "count  100.000000   100.000000  100.000000         100.000000  \n",
       "mean     0.102730     0.126700    0.193170           0.064690  \n",
       "std      0.014642     0.061144    0.030785           0.008151  \n",
       "min      0.070000     0.038000    0.135000           0.053000  \n",
       "25%      0.093500     0.080500    0.172000           0.059000  \n",
       "50%      0.102000     0.118500    0.190000           0.063000  \n",
       "75%      0.112000     0.157000    0.209000           0.069000  \n",
       "max      0.143000     0.345000    0.304000           0.097000  "
      ]
     },
     "execution_count": 80,
     "metadata": {},
     "output_type": "execute_result"
    }
   ],
   "source": [
    "data.describe()"
   ]
  },
  {
   "cell_type": "code",
   "execution_count": 81,
   "metadata": {},
   "outputs": [
    {
     "data": {
      "text/plain": [
       "Index(['id', 'diagnosis_result', 'radius', 'texture', 'perimeter', 'area',\n",
       "       'smoothness', 'compactness', 'symmetry', 'fractal_dimension'],\n",
       "      dtype='object')"
      ]
     },
     "execution_count": 81,
     "metadata": {},
     "output_type": "execute_result"
    }
   ],
   "source": [
    "data.keys()"
   ]
  },
  {
   "cell_type": "code",
   "execution_count": 82,
   "metadata": {},
   "outputs": [
    {
     "data": {
      "text/plain": [
       "(100, 10)"
      ]
     },
     "execution_count": 82,
     "metadata": {},
     "output_type": "execute_result"
    }
   ],
   "source": [
    "data.shape"
   ]
  },
  {
   "cell_type": "code",
   "execution_count": 83,
   "metadata": {},
   "outputs": [
    {
     "data": {
      "text/plain": [
       "(100,)"
      ]
     },
     "execution_count": 83,
     "metadata": {},
     "output_type": "execute_result"
    }
   ],
   "source": [
    "data[\"diagnosis_result\"].shape"
   ]
  },
  {
   "cell_type": "code",
   "execution_count": 84,
   "metadata": {},
   "outputs": [
    {
     "data": {
      "text/plain": [
       "id                   0\n",
       "diagnosis_result     0\n",
       "radius               0\n",
       "texture              0\n",
       "perimeter            0\n",
       "area                 0\n",
       "smoothness           0\n",
       "compactness          0\n",
       "symmetry             0\n",
       "fractal_dimension    0\n",
       "dtype: int64"
      ]
     },
     "execution_count": 84,
     "metadata": {},
     "output_type": "execute_result"
    }
   ],
   "source": [
    "data.isnull().sum()"
   ]
  },
  {
   "cell_type": "code",
   "execution_count": 85,
   "metadata": {},
   "outputs": [
    {
     "data": {
      "text/plain": [
       "diagnosis_result\n",
       "M    62\n",
       "B    38\n",
       "Name: count, dtype: int64"
      ]
     },
     "execution_count": 85,
     "metadata": {},
     "output_type": "execute_result"
    }
   ],
   "source": [
    "data[\"diagnosis_result\"].value_counts()"
   ]
  },
  {
   "cell_type": "code",
   "execution_count": 86,
   "metadata": {},
   "outputs": [
    {
     "data": {
      "text/plain": [
       "array(['M', 'B', 'M', 'M', 'M', 'B', 'M', 'M', 'M', 'M', 'M', 'M', 'B',\n",
       "       'M', 'M', 'M', 'M', 'M', 'M', 'B', 'B', 'B', 'M', 'M', 'M', 'M',\n",
       "       'M', 'M', 'M', 'M', 'M', 'M', 'M', 'M', 'M', 'M', 'M', 'B', 'M',\n",
       "       'M', 'M', 'M', 'M', 'M', 'M', 'M', 'B', 'M', 'B', 'B', 'B', 'B',\n",
       "       'B', 'M', 'M', 'B', 'M', 'M', 'B', 'B', 'B', 'B', 'M', 'B', 'M',\n",
       "       'M', 'B', 'B', 'B', 'B', 'M', 'B', 'M', 'M', 'B', 'M', 'B', 'M',\n",
       "       'M', 'B', 'B', 'B', 'M', 'M', 'B', 'M', 'M', 'M', 'B', 'B', 'B',\n",
       "       'M', 'B', 'B', 'M', 'M', 'B', 'B', 'B', 'M'], dtype=object)"
      ]
     },
     "execution_count": 86,
     "metadata": {},
     "output_type": "execute_result"
    }
   ],
   "source": [
    "y = data[\"diagnosis_result\"].values\n",
    "y"
   ]
  },
  {
   "cell_type": "code",
   "execution_count": 87,
   "metadata": {},
   "outputs": [
    {
     "data": {
      "text/plain": [
       "array([[1.000e+00, 2.300e+01, 1.200e+01, 1.510e+02, 9.540e+02, 1.430e-01,\n",
       "        2.780e-01, 2.420e-01, 7.900e-02],\n",
       "       [2.000e+00, 9.000e+00, 1.300e+01, 1.330e+02, 1.326e+03, 1.430e-01,\n",
       "        7.900e-02, 1.810e-01, 5.700e-02],\n",
       "       [3.000e+00, 2.100e+01, 2.700e+01, 1.300e+02, 1.203e+03, 1.250e-01,\n",
       "        1.600e-01, 2.070e-01, 6.000e-02],\n",
       "       [4.000e+00, 1.400e+01, 1.600e+01, 7.800e+01, 3.860e+02, 7.000e-02,\n",
       "        2.840e-01, 2.600e-01, 9.700e-02],\n",
       "       [5.000e+00, 9.000e+00, 1.900e+01, 1.350e+02, 1.297e+03, 1.410e-01,\n",
       "        1.330e-01, 1.810e-01, 5.900e-02],\n",
       "       [6.000e+00, 2.500e+01, 2.500e+01, 8.300e+01, 4.770e+02, 1.280e-01,\n",
       "        1.700e-01, 2.090e-01, 7.600e-02],\n",
       "       [7.000e+00, 1.600e+01, 2.600e+01, 1.200e+02, 1.040e+03, 9.500e-02,\n",
       "        1.090e-01, 1.790e-01, 5.700e-02],\n",
       "       [8.000e+00, 1.500e+01, 1.800e+01, 9.000e+01, 5.780e+02, 1.190e-01,\n",
       "        1.650e-01, 2.200e-01, 7.500e-02],\n",
       "       [9.000e+00, 1.900e+01, 2.400e+01, 8.800e+01, 5.200e+02, 1.270e-01,\n",
       "        1.930e-01, 2.350e-01, 7.400e-02],\n",
       "       [1.000e+01, 2.500e+01, 1.100e+01, 8.400e+01, 4.760e+02, 1.190e-01,\n",
       "        2.400e-01, 2.030e-01, 8.200e-02],\n",
       "       [1.100e+01, 2.400e+01, 2.100e+01, 1.030e+02, 7.980e+02, 8.200e-02,\n",
       "        6.700e-02, 1.530e-01, 5.700e-02],\n",
       "       [1.200e+01, 1.700e+01, 1.500e+01, 1.040e+02, 7.810e+02, 9.700e-02,\n",
       "        1.290e-01, 1.840e-01, 6.100e-02],\n",
       "       [1.300e+01, 1.400e+01, 1.500e+01, 1.320e+02, 1.123e+03, 9.700e-02,\n",
       "        2.460e-01, 2.400e-01, 7.800e-02],\n",
       "       [1.400e+01, 1.200e+01, 2.200e+01, 1.040e+02, 7.830e+02, 8.400e-02,\n",
       "        1.000e-01, 1.850e-01, 5.300e-02],\n",
       "       [1.500e+01, 1.200e+01, 1.300e+01, 9.400e+01, 5.780e+02, 1.130e-01,\n",
       "        2.290e-01, 2.070e-01, 7.700e-02],\n",
       "       [1.600e+01, 2.200e+01, 1.900e+01, 9.700e+01, 6.590e+02, 1.140e-01,\n",
       "        1.600e-01, 2.300e-01, 7.100e-02],\n",
       "       [1.700e+01, 1.000e+01, 1.600e+01, 9.500e+01, 6.850e+02, 9.900e-02,\n",
       "        7.200e-02, 1.590e-01, 5.900e-02],\n",
       "       [1.800e+01, 1.500e+01, 1.400e+01, 1.080e+02, 7.990e+02, 1.170e-01,\n",
       "        2.020e-01, 2.160e-01, 7.400e-02],\n",
       "       [1.900e+01, 2.000e+01, 1.400e+01, 1.300e+02, 1.260e+03, 9.800e-02,\n",
       "        1.030e-01, 1.580e-01, 5.400e-02],\n",
       "       [2.000e+01, 1.700e+01, 1.100e+01, 8.700e+01, 5.660e+02, 9.800e-02,\n",
       "        8.100e-02, 1.890e-01, 5.800e-02],\n",
       "       [2.100e+01, 1.600e+01, 1.400e+01, 8.600e+01, 5.200e+02, 1.080e-01,\n",
       "        1.270e-01, 1.970e-01, 6.800e-02],\n",
       "       [2.200e+01, 1.700e+01, 2.400e+01, 6.000e+01, 2.740e+02, 1.020e-01,\n",
       "        6.500e-02, 1.820e-01, 6.900e-02],\n",
       "       [2.300e+01, 2.000e+01, 2.700e+01, 1.030e+02, 7.040e+02, 1.070e-01,\n",
       "        2.140e-01, 2.520e-01, 7.000e-02],\n",
       "       [2.400e+01, 1.900e+01, 1.200e+01, 1.370e+02, 1.404e+03, 9.400e-02,\n",
       "        1.020e-01, 1.770e-01, 5.300e-02],\n",
       "       [2.500e+01, 9.000e+00, 1.300e+01, 1.100e+02, 9.050e+02, 1.120e-01,\n",
       "        1.460e-01, 2.000e-01, 6.300e-02],\n",
       "       [2.600e+01, 1.900e+01, 2.700e+01, 1.160e+02, 9.130e+02, 1.190e-01,\n",
       "        2.280e-01, 3.040e-01, 7.400e-02],\n",
       "       [2.700e+01, 1.000e+01, 2.400e+01, 9.700e+01, 6.450e+02, 1.050e-01,\n",
       "        1.870e-01, 2.250e-01, 6.900e-02],\n",
       "       [2.800e+01, 1.600e+01, 2.400e+01, 1.220e+02, 1.094e+03, 9.400e-02,\n",
       "        1.070e-01, 1.700e-01, 5.700e-02],\n",
       "       [2.900e+01, 1.500e+01, 1.500e+01, 1.020e+02, 7.320e+02, 1.080e-01,\n",
       "        1.700e-01, 1.930e-01, 6.500e-02],\n",
       "       [3.000e+01, 1.100e+01, 1.600e+01, 1.150e+02, 9.550e+02, 9.800e-02,\n",
       "        1.160e-01, 1.740e-01, 6.100e-02],\n",
       "       [3.100e+01, 1.100e+01, 2.200e+01, 1.250e+02, 1.088e+03, 1.060e-01,\n",
       "        1.890e-01, 2.180e-01, 6.200e-02],\n",
       "       [3.200e+01, 2.300e+01, 2.600e+01, 7.800e+01, 4.410e+02, 1.110e-01,\n",
       "        1.520e-01, 2.300e-01, 7.800e-02],\n",
       "       [3.300e+01, 2.000e+01, 1.800e+01, 1.130e+02, 8.990e+02, 1.200e-01,\n",
       "        1.500e-01, 2.250e-01, 6.400e-02],\n",
       "       [3.400e+01, 1.100e+01, 2.100e+01, 1.280e+02, 1.162e+03, 9.400e-02,\n",
       "        1.720e-01, 1.850e-01, 6.300e-02],\n",
       "       [3.500e+01, 1.600e+01, 2.300e+01, 1.070e+02, 8.070e+02, 1.040e-01,\n",
       "        1.560e-01, 2.000e-01, 6.500e-02],\n",
       "       [3.600e+01, 1.000e+01, 1.300e+01, 1.100e+02, 8.700e+02, 9.600e-02,\n",
       "        1.340e-01, 1.900e-01, 5.700e-02],\n",
       "       [3.700e+01, 1.800e+01, 1.200e+01, 9.400e+01, 6.330e+02, 9.800e-02,\n",
       "        1.100e-01, 1.890e-01, 6.100e-02],\n",
       "       [3.800e+01, 2.100e+01, 1.100e+01, 8.300e+01, 5.240e+02, 9.000e-02,\n",
       "        3.800e-02, 1.470e-01, 5.900e-02],\n",
       "       [3.900e+01, 1.100e+01, 1.500e+01, 9.600e+01, 6.990e+02, 9.400e-02,\n",
       "        5.100e-02, 1.570e-01, 5.500e-02],\n",
       "       [4.000e+01, 1.000e+01, 1.400e+01, 8.800e+01, 5.590e+02, 1.020e-01,\n",
       "        1.260e-01, 1.720e-01, 6.400e-02],\n",
       "       [4.100e+01, 2.400e+01, 1.600e+01, 8.600e+01, 5.630e+02, 8.200e-02,\n",
       "        6.000e-02, 1.780e-01, 5.600e-02],\n",
       "       [4.200e+01, 1.900e+01, 2.700e+01, 7.200e+01, 3.710e+02, 1.230e-01,\n",
       "        1.220e-01, 1.900e-01, 6.900e-02],\n",
       "       [4.300e+01, 1.100e+01, 1.100e+01, 1.280e+02, 1.104e+03, 9.100e-02,\n",
       "        2.190e-01, 2.310e-01, 6.300e-02],\n",
       "       [4.400e+01, 1.500e+01, 2.100e+01, 8.700e+01, 5.450e+02, 1.040e-01,\n",
       "        1.440e-01, 1.970e-01, 6.800e-02],\n",
       "       [4.500e+01, 1.000e+01, 1.500e+01, 8.500e+01, 5.320e+02, 9.700e-02,\n",
       "        1.050e-01, 1.750e-01, 6.200e-02],\n",
       "       [4.600e+01, 1.800e+01, 1.100e+01, 1.240e+02, 1.076e+03, 1.100e-01,\n",
       "        1.690e-01, 1.910e-01, 6.000e-02],\n",
       "       [4.700e+01, 2.200e+01, 1.200e+01, 5.200e+01, 2.020e+02, 8.600e-02,\n",
       "        5.900e-02, 1.770e-01, 6.500e-02],\n",
       "       [4.800e+01, 2.000e+01, 1.400e+01, 8.600e+01, 5.350e+02, 1.160e-01,\n",
       "        1.230e-01, 2.130e-01, 6.800e-02],\n",
       "       [4.900e+01, 2.000e+01, 2.100e+01, 7.800e+01, 4.490e+02, 1.030e-01,\n",
       "        9.100e-02, 1.680e-01, 6.000e-02],\n",
       "       [5.000e+01, 2.500e+01, 1.100e+01, 8.700e+01, 5.610e+02, 8.800e-02,\n",
       "        7.700e-02, 1.810e-01, 5.700e-02],\n",
       "       [5.100e+01, 1.900e+01, 2.500e+01, 7.500e+01, 4.280e+02, 8.600e-02,\n",
       "        5.000e-02, 1.500e-01, 5.900e-02],\n",
       "       [5.200e+01, 1.900e+01, 2.200e+01, 8.700e+01, 5.720e+02, 7.700e-02,\n",
       "        6.100e-02, 1.350e-01, 6.000e-02],\n",
       "       [5.300e+01, 2.500e+01, 1.500e+01, 7.600e+01, 4.380e+02, 8.300e-02,\n",
       "        4.800e-02, 1.870e-01, 6.100e-02],\n",
       "       [5.400e+01, 1.400e+01, 2.600e+01, 1.200e+02, 1.033e+03, 1.150e-01,\n",
       "        1.490e-01, 2.090e-01, 6.300e-02],\n",
       "       [5.500e+01, 1.800e+01, 2.500e+01, 9.700e+01, 7.130e+02, 9.100e-02,\n",
       "        7.100e-02, 1.620e-01, 5.700e-02],\n",
       "       [5.600e+01, 1.800e+01, 1.300e+01, 7.300e+01, 4.090e+02, 9.500e-02,\n",
       "        5.500e-02, 1.920e-01, 5.900e-02],\n",
       "       [5.700e+01, 1.000e+01, 1.900e+01, 1.260e+02, 1.152e+03, 1.050e-01,\n",
       "        1.270e-01, 1.920e-01, 6.000e-02],\n",
       "       [5.800e+01, 1.700e+01, 2.000e+01, 9.600e+01, 6.570e+02, 1.140e-01,\n",
       "        1.370e-01, 2.030e-01, 6.800e-02],\n",
       "       [5.900e+01, 2.200e+01, 1.500e+01, 8.300e+01, 5.270e+02, 8.100e-02,\n",
       "        3.800e-02, 1.820e-01, 5.500e-02],\n",
       "       [6.000e+01, 2.300e+01, 2.600e+01, 5.400e+01, 2.250e+02, 9.800e-02,\n",
       "        5.300e-02, 1.680e-01, 7.200e-02],\n",
       "       [6.100e+01, 1.500e+01, 1.800e+01, 6.500e+01, 3.120e+02, 1.130e-01,\n",
       "        8.100e-02, 2.740e-01, 7.000e-02],\n",
       "       [6.200e+01, 2.500e+01, 1.500e+01, 5.500e+01, 2.220e+02, 1.240e-01,\n",
       "        9.000e-02, 1.830e-01, 6.800e-02],\n",
       "       [6.300e+01, 1.200e+01, 2.200e+01, 9.600e+01, 6.460e+02, 1.050e-01,\n",
       "        2.010e-01, 1.950e-01, 7.300e-02],\n",
       "       [6.400e+01, 2.400e+01, 1.700e+01, 5.900e+01, 2.610e+02, 7.700e-02,\n",
       "        8.800e-02, 2.340e-01, 7.000e-02],\n",
       "       [6.500e+01, 1.600e+01, 1.900e+01, 8.300e+01, 4.990e+02, 1.120e-01,\n",
       "        1.260e-01, 1.910e-01, 6.600e-02],\n",
       "       [6.600e+01, 1.100e+01, 2.100e+01, 9.700e+01, 6.680e+02, 1.170e-01,\n",
       "        1.480e-01, 1.950e-01, 6.700e-02],\n",
       "       [6.700e+01, 1.200e+01, 1.300e+01, 6.000e+01, 2.690e+02, 1.040e-01,\n",
       "        7.800e-02, 1.720e-01, 6.900e-02],\n",
       "       [6.800e+01, 1.800e+01, 1.200e+01, 7.200e+01, 3.940e+02, 8.100e-02,\n",
       "        4.700e-02, 1.520e-01, 5.700e-02],\n",
       "       [6.900e+01, 1.600e+01, 1.700e+01, 5.900e+01, 2.510e+02, 1.070e-01,\n",
       "        1.410e-01, 2.110e-01, 8.000e-02],\n",
       "       [7.000e+01, 1.700e+01, 2.100e+01, 8.100e+01, 5.030e+02, 9.800e-02,\n",
       "        5.200e-02, 1.590e-01, 5.700e-02],\n",
       "       [7.100e+01, 2.100e+01, 1.800e+01, 1.240e+02, 1.130e+03, 9.000e-02,\n",
       "        1.030e-01, 1.580e-01, 5.500e-02],\n",
       "       [7.200e+01, 9.000e+00, 2.600e+01, 5.900e+01, 2.440e+02, 9.800e-02,\n",
       "        1.530e-01, 1.900e-01, 9.000e-02],\n",
       "       [7.300e+01, 2.100e+01, 1.200e+01, 1.140e+02, 9.290e+02, 1.070e-01,\n",
       "        1.830e-01, 1.930e-01, 6.500e-02],\n",
       "       [7.400e+01, 2.200e+01, 2.500e+01, 9.000e+01, 5.840e+02, 1.010e-01,\n",
       "        1.280e-01, 1.660e-01, 6.600e-02],\n",
       "       [7.500e+01, 1.800e+01, 1.300e+01, 7.900e+01, 4.710e+02, 9.200e-02,\n",
       "        6.800e-02, 1.720e-01, 5.900e-02],\n",
       "       [7.600e+01, 2.100e+01, 1.800e+01, 1.040e+02, 8.180e+02, 9.200e-02,\n",
       "        8.400e-02, 1.800e-01, 5.400e-02],\n",
       "       [7.700e+01, 1.000e+01, 1.700e+01, 8.800e+01, 5.590e+02, 1.290e-01,\n",
       "        1.050e-01, 2.400e-01, 6.600e-02],\n",
       "       [7.800e+01, 1.100e+01, 2.100e+01, 1.200e+02, 1.006e+03, 1.070e-01,\n",
       "        2.150e-01, 2.150e-01, 6.700e-02],\n",
       "       [7.900e+01, 1.600e+01, 1.800e+01, 1.440e+02, 1.245e+03, 1.290e-01,\n",
       "        3.450e-01, 2.910e-01, 8.100e-02],\n",
       "       [8.000e+01, 2.200e+01, 1.600e+01, 8.300e+01, 5.060e+02, 9.900e-02,\n",
       "        9.500e-02, 1.720e-01, 6.000e-02],\n",
       "       [8.100e+01, 1.000e+01, 1.800e+01, 7.400e+01, 4.020e+02, 1.100e-01,\n",
       "        9.400e-02, 1.840e-01, 7.000e-02],\n",
       "       [8.200e+01, 1.700e+01, 2.100e+01, 8.600e+01, 5.200e+02, 1.080e-01,\n",
       "        1.540e-01, 1.940e-01, 6.900e-02],\n",
       "       [8.300e+01, 1.000e+01, 1.500e+01, 1.720e+02, 1.878e+03, 1.060e-01,\n",
       "        2.670e-01, 1.830e-01, 6.800e-02],\n",
       "       [8.400e+01, 2.000e+01, 1.400e+01, 1.290e+02, 1.132e+03, 1.220e-01,\n",
       "        1.790e-01, 1.630e-01, 7.200e-02],\n",
       "       [8.500e+01, 2.500e+01, 2.100e+01, 7.700e+01, 4.430e+02, 9.700e-02,\n",
       "        7.200e-02, 2.080e-01, 6.000e-02],\n",
       "       [8.600e+01, 1.400e+01, 1.300e+01, 1.210e+02, 1.075e+03, 9.900e-02,\n",
       "        1.050e-01, 2.130e-01, 6.000e-02],\n",
       "       [8.700e+01, 1.900e+01, 2.600e+01, 9.400e+01, 6.480e+02, 9.400e-02,\n",
       "        9.900e-02, 2.080e-01, 5.600e-02],\n",
       "       [8.800e+01, 1.900e+01, 1.100e+01, 1.220e+02, 1.076e+03, 9.000e-02,\n",
       "        1.210e-01, 1.950e-01, 5.600e-02],\n",
       "       [8.900e+01, 1.100e+01, 1.100e+01, 8.000e+01, 4.660e+02, 8.800e-02,\n",
       "        9.400e-02, 1.930e-01, 6.400e-02],\n",
       "       [9.000e+01, 1.200e+01, 2.300e+01, 9.600e+01, 6.520e+02, 1.130e-01,\n",
       "        1.340e-01, 2.120e-01, 6.300e-02],\n",
       "       [9.100e+01, 2.300e+01, 2.700e+01, 9.500e+01, 6.630e+02, 9.000e-02,\n",
       "        8.600e-02, 1.690e-01, 5.900e-02],\n",
       "       [9.200e+01, 1.000e+01, 1.200e+01, 1.000e+02, 7.280e+02, 9.200e-02,\n",
       "        1.040e-01, 1.720e-01, 6.100e-02],\n",
       "       [9.300e+01, 1.400e+01, 1.400e+01, 8.500e+01, 5.520e+02, 7.400e-02,\n",
       "        5.100e-02, 1.390e-01, 5.300e-02],\n",
       "       [9.400e+01, 1.000e+01, 1.700e+01, 8.700e+01, 5.550e+02, 1.020e-01,\n",
       "        8.200e-02, 1.640e-01, 5.700e-02],\n",
       "       [9.500e+01, 2.200e+01, 2.600e+01, 1.000e+02, 7.060e+02, 1.040e-01,\n",
       "        1.550e-01, 1.860e-01, 6.300e-02],\n",
       "       [9.600e+01, 2.300e+01, 1.600e+01, 1.320e+02, 1.264e+03, 9.100e-02,\n",
       "        1.310e-01, 2.100e-01, 5.600e-02],\n",
       "       [9.700e+01, 2.200e+01, 1.400e+01, 7.800e+01, 4.510e+02, 1.050e-01,\n",
       "        7.100e-02, 1.900e-01, 6.600e-02],\n",
       "       [9.800e+01, 1.900e+01, 2.700e+01, 6.200e+01, 2.950e+02, 1.020e-01,\n",
       "        5.300e-02, 1.350e-01, 6.900e-02],\n",
       "       [9.900e+01, 2.100e+01, 2.400e+01, 7.400e+01, 4.130e+02, 9.000e-02,\n",
       "        7.500e-02, 1.620e-01, 6.600e-02],\n",
       "       [1.000e+02, 1.600e+01, 2.700e+01, 9.400e+01, 6.430e+02, 9.800e-02,\n",
       "        1.140e-01, 1.880e-01, 6.400e-02]])"
      ]
     },
     "execution_count": 87,
     "metadata": {},
     "output_type": "execute_result"
    }
   ],
   "source": [
    "X = data.drop([\"diagnosis_result\"], axis=1)\n",
    "X = X.values\n",
    "X"
   ]
  },
  {
   "cell_type": "code",
   "execution_count": 88,
   "metadata": {},
   "outputs": [],
   "source": [
    "X_train, X_test, y_train, y_test = train_test_split(X, y, test_size=0.3, random_state=21, stratify=y)"
   ]
  },
  {
   "cell_type": "code",
   "execution_count": 89,
   "metadata": {},
   "outputs": [
    {
     "name": "stdout",
     "output_type": "stream",
     "text": [
      "(70, 9)\n",
      "(30, 9)\n",
      "(70,)\n",
      "(30,)\n"
     ]
    }
   ],
   "source": [
    "print(X_train.shape)\n",
    "print(X_test.shape)\n",
    "print(y_train.shape)\n",
    "print(y_test.shape)"
   ]
  },
  {
   "cell_type": "code",
   "execution_count": 90,
   "metadata": {},
   "outputs": [],
   "source": [
    "# criando modelos\n",
    "qtd_modelos = 15\n",
    "modelo_KNN = []\n",
    "for idx in range(qtd_modelos):\n",
    "    modelo_KNN.append(KNeighborsClassifier(n_neighbors=(idx+1)))"
   ]
  },
  {
   "cell_type": "code",
   "execution_count": 91,
   "metadata": {},
   "outputs": [],
   "source": [
    "# treinando modelos\n",
    "for idx in range(qtd_modelos):\n",
    "    modelo_KNN[idx].fit(X_train, y_train)"
   ]
  },
  {
   "cell_type": "code",
   "execution_count": 92,
   "metadata": {},
   "outputs": [
    {
     "name": "stdout",
     "output_type": "stream",
     "text": [
      "[1.0, 0.8857142857142857, 0.8714285714285714, 0.8, 0.8285714285714286, 0.8428571428571429, 0.8428571428571429, 0.7857142857142857, 0.8142857142857143, 0.8142857142857143, 0.8285714285714286, 0.8142857142857143, 0.8, 0.8285714285714286, 0.8]\n",
      "[0.8333333333333334, 0.8333333333333334, 0.8666666666666667, 0.8333333333333334, 0.8666666666666667, 0.9333333333333333, 0.9, 0.9, 0.9, 0.9, 0.9, 0.9, 0.9, 0.9, 0.9]\n"
     ]
    }
   ],
   "source": [
    "# avaliando modelos\n",
    "train_scores = []\n",
    "test_scores = []\n",
    "for idx in range(qtd_modelos):\n",
    "    train_scores.append(modelo_KNN[idx].score(X_train, y_train))\n",
    "    test_scores.append(modelo_KNN[idx].score(X_test, y_test))\n",
    "print(train_scores)\n",
    "print(test_scores)"
   ]
  },
  {
   "cell_type": "code",
   "execution_count": 93,
   "metadata": {},
   "outputs": [
    {
     "data": {
      "text/plain": [
       "6"
      ]
     },
     "execution_count": 93,
     "metadata": {},
     "output_type": "execute_result"
    }
   ],
   "source": [
    "best_k_neighbors = test_scores.index(np.max(test_scores)) + 1\n",
    "best_k_neighbors"
   ]
  },
  {
   "cell_type": "code",
   "execution_count": 94,
   "metadata": {},
   "outputs": [],
   "source": [
    "np_train_scores = np.array(train_scores)\n",
    "np_test_scores = np.array(test_scores)\n",
    "neighbors = np.arange(1, qtd_modelos+1)"
   ]
  },
  {
   "cell_type": "code",
   "execution_count": 95,
   "metadata": {},
   "outputs": [
    {
     "data": {
      "image/png": "[encoded data removed]",
      "text/plain": [
       "<Figure size 640x480 with 1 Axes>"
      ]
     },
     "metadata": {},
     "output_type": "display_data"
    }
   ],
   "source": [
    "# Generate plot\n",
    "plt.title('k-NN: Varying Number of Neighbors')\n",
    "plt.plot(neighbors, np_test_scores, label = 'Testing Accuracy')\n",
    "plt.plot(neighbors, np_train_scores, label = 'Training Accuracy')\n",
    "plt.legend()\n",
    "plt.xlabel('Number of Neighbors')\n",
    "plt.ylabel('Accuracy')\n",
    "plt.show()"
   ]
  }
 ],
 "metadata": {
  "kernelspec": {
   "display_name": "Python 3",
   "language": "python",
   "name": "python3"
  },
  "language_info": {
   "codemirror_mode": {
    "name": "ipython",
    "version": 3
   },
   "file_extension": ".py",
   "mimetype": "text/x-python",
   "name": "python",
   "nbconvert_exporter": "python",
   "pygments_lexer": "ipython3",
   "version": "3.10.12"
  },
  "orig_nbformat": 4
 },
 "nbformat": 4,
 "nbformat_minor": 2
}
