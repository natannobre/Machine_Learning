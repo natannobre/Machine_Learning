{
 "metadata": {
  "language_info": {
   "codemirror_mode": {
    "name": "ipython",
    "version": 3
   },
   "file_extension": ".py",
   "mimetype": "text/x-python",
   "name": "python",
   "nbconvert_exporter": "python",
   "pygments_lexer": "ipython3",
   "version": "3.8.5"
  },
  "orig_nbformat": 4,
  "kernelspec": {
   "name": "python3",
   "display_name": "Python 3.8.5 64-bit ('base': conda)"
  },
  "interpreter": {
   "hash": "1f09bd18c3bd6ca7f9726fc8dcfe1413a5b5683c291aaa94868dd31b44d43b4e"
  }
 },
 "nbformat": 4,
 "nbformat_minor": 2,
 "cells": [
  {
   "source": [
    "# Autor: Natan Nobre Chaves\n",
    "## Atividade 06"
   ],
   "cell_type": "markdown",
   "metadata": {}
  },
  {
   "source": [
    "## 1. Implemente diferentes funções em Python, usando o NumPy, para calcular:\n",
    "    a) Acurácia\n",
    "    b) Precisão\n",
    "    c) Recall\n",
    "    d) F1-Measure\n",
    "    e) MAE\n",
    "    f) RMSE\n",
    "---\n",
    "Observações:\n",
    "\n",
    "* Cada item acima deve ter uma função própria para calculá-lo.\n",
    "* Todas as funções recebem como parâmetros de entrada y_true e y_pred\n",
    "* As funções para cálculo da Precisão, Recall e F1-Measure devem retornar um único valor já com a métrica calculada baseada na média ponderada das classes.\n",
    "* As funções podem gerar e usar a matriz de confusão usando o scikit learn, mas não podem usar as métricas já implementadas por ele."
   ],
   "cell_type": "markdown",
   "metadata": {}
  },
  {
   "source": [],
   "cell_type": "markdown",
   "metadata": {}
  },
  {
   "cell_type": "code",
   "execution_count": 348,
   "metadata": {},
   "outputs": [],
   "source": [
    "import pandas as pd\n",
    "import numpy as np\n",
    "import sklearn\n",
    "from sklearn.model_selection import train_test_split\n",
    "from sklearn.neighbors import KNeighborsClassifier\n",
    "from sklearn.neighbors import KNeighborsRegressor\n",
    "from sklearn import metrics"
   ]
  },
  {
   "cell_type": "code",
   "execution_count": 349,
   "metadata": {},
   "outputs": [],
   "source": [
    "def calc_tn_fp_fn_tp(y_true, y_pred) :\n",
    "    cm = metrics.confusion_matrix(y_true, y_pred)\n",
    "    qtd_labels = cm.shape[0]\n",
    "    size_each_label = []\n",
    "    tp = [] # True Positives\n",
    "    fp = [] # False Positives\n",
    "    fn = [] # False Negatives\n",
    "    tn = [] # True Negatives\n",
    "\n",
    "    for i in range(qtd_labels) :\n",
    "        size_each_label.append(np.sum(cm[i,:]))\n",
    "        tp.append(cm[i,i])\n",
    "        fp.append(np.sum(cm[:, i]) - cm[i, i])\n",
    "        fn.append(np.sum(cm[i, :]) - cm[i, i])\n",
    "        tn.append(np.sum(cm) - np.sum(cm[i,:]) - np.sum(cm[:, i]))\n",
    "\n",
    "    size_each_label = np.array(size_each_label)\n",
    "    tp = np.array(tp)\n",
    "    fp = np.array(fp)\n",
    "    fn = np.array(fn)\n",
    "    tn = np.array(tn)\n",
    "    #print(cm)\n",
    "\n",
    "    return tn, fp, fn, tp, size_each_label\n",
    "    "
   ]
  },
  {
   "source": [
    "## a) Função da Acurácia"
   ],
   "cell_type": "markdown",
   "metadata": {}
  },
  {
   "cell_type": "code",
   "execution_count": 350,
   "metadata": {},
   "outputs": [],
   "source": [
    "def calc_accuracy(y_true, y_pred) :\n",
    "    return np.sum(y_true == y_pred) / y_true.shape[0]"
   ]
  },
  {
   "source": [
    "## b) Função de Precisão"
   ],
   "cell_type": "markdown",
   "metadata": {}
  },
  {
   "cell_type": "code",
   "execution_count": 351,
   "metadata": {},
   "outputs": [],
   "source": [
    "def calc_precision(y_true, y_pred) :\n",
    "    tn, fp, fn, tp, size = calc_tn_fp_fn_tp(y_true, y_pred)\n",
    "    #precision = tp / (tp + fp)\n",
    "    vector = np.vectorize(np.float)\n",
    "    precision_num = vector(tp)\n",
    "    precision_den = vector(tp + fp)\n",
    "    precision = precision = np.divide(precision_num, precision_den, out=np.zeros_like(precision_num), where=precision_den!=0)\n",
    "    return (np.sum( precision * size) / np.sum(size))"
   ]
  },
  {
   "source": [
    "## c) Função de Recall"
   ],
   "cell_type": "markdown",
   "metadata": {}
  },
  {
   "cell_type": "code",
   "execution_count": 352,
   "metadata": {},
   "outputs": [],
   "source": [
    "def calc_recall(y_true, y_pred) :\n",
    "    tn, fp, fn, tp, size = calc_tn_fp_fn_tp(y_true, y_pred)\n",
    "    recall = tp / (tp + fn)\n",
    "    return (np.sum( recall * size) / np.sum(size))"
   ]
  },
  {
   "source": [
    "## d) Função F1-Measure"
   ],
   "cell_type": "markdown",
   "metadata": {}
  },
  {
   "cell_type": "code",
   "execution_count": 353,
   "metadata": {},
   "outputs": [],
   "source": [
    "def calc_f1_measure(y_true, y_pred) :\n",
    "    tn, fp, fn, tp, size = calc_tn_fp_fn_tp(y_true, y_pred)\n",
    "    vector = np.vectorize(np.float)\n",
    "    precision_num = vector(tp)\n",
    "    precision_den = vector(tp + fp)\n",
    "    precision = precision = np.divide(precision_num, precision_den, out=np.zeros_like(precision_num), where=precision_den!=0)\n",
    "    recall = tp / (tp + fn)\n",
    "    f1_measure = np.divide((2 * precision * recall), (precision + recall), out=np.zeros_like((2 * precision * recall)), where=(precision + recall)!=0, dtype='float')\n",
    "    return (np.sum( f1_measure * size) / np.sum(size)) "
   ]
  },
  {
   "source": [
    "## e) MAE"
   ],
   "cell_type": "markdown",
   "metadata": {}
  },
  {
   "cell_type": "code",
   "execution_count": 354,
   "metadata": {},
   "outputs": [],
   "source": [
    "def calc_mae(y_true, y_pred) :\n",
    "    return (np.sum(abs(y_true - y_pred))) / y_true.shape[0]"
   ]
  },
  {
   "source": [
    "## f) RMSE"
   ],
   "cell_type": "markdown",
   "metadata": {}
  },
  {
   "cell_type": "code",
   "execution_count": 355,
   "metadata": {},
   "outputs": [],
   "source": [
    "def calc_rmse(y_true, y_pred) :\n",
    "    return (np.sum((y_pred - y_true)**2)/y_true.shape[0])**(1/2)"
   ]
  },
  {
   "source": [
    "## 2. Calcule Acurácia, Precisão, Recall e F1-Measure para sua solução da questão 2 da Lista 04. Caso não tenha feito a questão 2 da Lista 04 terá que fazê-la agora."
   ],
   "cell_type": "markdown",
   "metadata": {}
  },
  {
   "cell_type": "code",
   "execution_count": 356,
   "metadata": {},
   "outputs": [],
   "source": [
    "wine = pd.read_csv(\"dataset/winequality-white.csv\", delimiter=';')"
   ]
  },
  {
   "cell_type": "code",
   "execution_count": 357,
   "metadata": {},
   "outputs": [],
   "source": [
    "y = wine['quality'].values\n",
    "X = wine\n",
    "del X['quality']\n",
    "X = X.values"
   ]
  },
  {
   "cell_type": "code",
   "execution_count": 358,
   "metadata": {},
   "outputs": [],
   "source": [
    "# separando os dados aleatoriamente em 70%/30%\n",
    "X_train, X_test, y_train, y_test = train_test_split(X, y, train_size=0.7, random_state=42, stratify=y)"
   ]
  },
  {
   "cell_type": "code",
   "execution_count": 359,
   "metadata": {},
   "outputs": [],
   "source": [
    "# criando os modelos kNN\n",
    "quantidade_de_modelos = 50\n",
    "modelokNN = []\n",
    "for idx in range(quantidade_de_modelos) :\n",
    "    modelokNN.append(KNeighborsClassifier(n_neighbors=(idx+1)))"
   ]
  },
  {
   "cell_type": "code",
   "execution_count": 360,
   "metadata": {},
   "outputs": [],
   "source": [
    "# treinando o modelo\n",
    "for idx in range(quantidade_de_modelos) :\n",
    "    modelokNN[idx].fit(X_train, y_train)"
   ]
  },
  {
   "cell_type": "code",
   "execution_count": 361,
   "metadata": {},
   "outputs": [],
   "source": [
    "y_pred = []\n",
    "for idx in range(quantidade_de_modelos) :\n",
    "    y_pred.append(np.array(modelokNN[idx].predict(X_test)))"
   ]
  },
  {
   "source": [
    "## Acurácia"
   ],
   "cell_type": "markdown",
   "metadata": {}
  },
  {
   "cell_type": "code",
   "execution_count": 362,
   "metadata": {},
   "outputs": [
    {
     "output_type": "stream",
     "name": "stdout",
     "text": [
      "0.5544217687074829\n0.47891156462585033\n0.45918367346938777\n0.47210884353741495\n0.46462585034013604\n0.4605442176870748\n0.45714285714285713\n0.4748299319727891\n0.4639455782312925\n0.46530612244897956\n0.4448979591836735\n0.4530612244897959\n0.4414965986394558\n0.42857142857142855\n0.44013605442176873\n0.4340136054421769\n0.4346938775510204\n0.42993197278911566\n0.43945578231292515\n0.44013605442176873\n0.43537414965986393\n0.43333333333333335\n0.4387755102040816\n0.44081632653061226\n0.43197278911564624\n0.4421768707482993\n0.4380952380952381\n0.4387755102040816\n0.4448979591836735\n0.43945578231292515\n0.43673469387755104\n0.43945578231292515\n0.4421768707482993\n0.44421768707482995\n0.4496598639455782\n0.44829931972789117\n0.44761904761904764\n0.45170068027210886\n0.45510204081632655\n0.45034013605442175\n0.45374149659863944\n0.4435374149659864\n0.45102040816326533\n0.4530612244897959\n0.4557823129251701\n0.45782312925170066\n0.4564625850340136\n0.4605442176870748\n0.45374149659863944\n0.46122448979591835\n"
     ]
    }
   ],
   "source": [
    "for idx in range(quantidade_de_modelos) :\n",
    "    print(calc_accuracy(y_test, y_pred[idx]))"
   ]
  },
  {
   "cell_type": "code",
   "execution_count": 363,
   "metadata": {},
   "outputs": [
    {
     "output_type": "stream",
     "name": "stdout",
     "text": [
      "0.5544217687074829\n0.47891156462585033\n0.45918367346938777\n0.47210884353741495\n0.46462585034013604\n0.4605442176870748\n0.45714285714285713\n0.4748299319727891\n0.4639455782312925\n0.46530612244897956\n0.4448979591836735\n0.4530612244897959\n0.4414965986394558\n0.42857142857142855\n0.44013605442176873\n0.4340136054421769\n0.4346938775510204\n0.42993197278911566\n0.43945578231292515\n0.44013605442176873\n0.43537414965986393\n0.43333333333333335\n0.4387755102040816\n0.44081632653061226\n0.43197278911564624\n0.4421768707482993\n0.4380952380952381\n0.4387755102040816\n0.4448979591836735\n0.43945578231292515\n0.43673469387755104\n0.43945578231292515\n0.4421768707482993\n0.44421768707482995\n0.4496598639455782\n0.44829931972789117\n0.44761904761904764\n0.45170068027210886\n0.45510204081632655\n0.45034013605442175\n0.45374149659863944\n0.4435374149659864\n0.45102040816326533\n0.4530612244897959\n0.4557823129251701\n0.45782312925170066\n0.4564625850340136\n0.4605442176870748\n0.45374149659863944\n0.46122448979591835\n"
     ]
    }
   ],
   "source": [
    "for idx in range(quantidade_de_modelos) :\n",
    "    print(metrics.accuracy_score(y_test, y_pred[idx]))"
   ]
  },
  {
   "source": [
    "## Precisão"
   ],
   "cell_type": "markdown",
   "metadata": {}
  },
  {
   "cell_type": "code",
   "execution_count": 364,
   "metadata": {},
   "outputs": [
    {
     "output_type": "stream",
     "name": "stdout",
     "text": [
      "0.551372409099045\n0.5039397069455999\n0.46050698583322397\n0.4614086390928045\n0.45136332103547094\n0.453793921925357\n0.44517746665668884\n0.46145249820488\n0.4465121070184717\n0.44695008130433667\n0.42271579740539283\n0.4268376233273899\n0.41456510175530753\n0.387687305787882\n0.39702019846550535\n0.3924246205176857\n0.3897171693552583\n0.38350079056305186\n0.39639284527884555\n0.3990620002785731\n0.3938278098780971\n0.3892615375060606\n0.3954150496954499\n0.39103856496369527\n0.4153095010151393\n0.39290484546996335\n0.3799826722242763\n0.37979100942511984\n0.38897844992167174\n0.4128193372263136\n0.37536798964007395\n0.3786501131592932\n0.3812873235904552\n0.3890583074818012\n0.38816569670413287\n0.3886876148790183\n0.38400734136554754\n0.38935323835748037\n0.3940175288101555\n0.3901900455745082\n0.39314407703926213\n0.3810962243590468\n0.3915772806150906\n0.39565156486665864\n0.3956877670316268\n0.3994500571280436\n0.3985008743027983\n0.39560581595091204\n0.39176429375624544\n0.40712608554579094\n"
     ]
    }
   ],
   "source": [
    "for idx in range(quantidade_de_modelos) :\n",
    "    print(calc_precision(y_test, y_pred[idx]))"
   ]
  },
  {
   "cell_type": "code",
   "execution_count": 365,
   "metadata": {},
   "outputs": [
    {
     "output_type": "stream",
     "name": "stdout",
     "text": [
      "0.551372409099045\n",
      "0.5039397069455999\n",
      "0.46050698583322397\n",
      "0.4614086390928045\n",
      "0.45136332103547094\n",
      "0.453793921925357\n",
      "0.44517746665668884\n",
      "0.46145249820488\n",
      "0.4465121070184717\n",
      "0.44695008130433667\n",
      "0.42271579740539283\n",
      "0.4268376233273899\n",
      "0.41456510175530753\n",
      "0.387687305787882\n",
      "0.39702019846550535\n",
      "0.3924246205176857\n",
      "0.3897171693552583\n",
      "0.38350079056305186\n",
      "0.39639284527884555\n",
      "0.3990620002785731\n",
      "0.3938278098780971\n",
      "0.3892615375060606\n",
      "0.3954150496954499\n",
      "0.39103856496369527\n",
      "0.4153095010151393\n",
      "0.39290484546996335\n",
      "0.3799826722242763\n",
      "0.37979100942511984\n",
      "0.38897844992167174\n",
      "0.4128193372263136\n",
      "0.37536798964007395\n",
      "0.3786501131592932\n",
      "0.3812873235904552\n",
      "0.3890583074818012\n",
      "0.38816569670413287\n",
      "0.3886876148790183\n",
      "0.38400734136554754\n",
      "0.38935323835748037\n",
      "0.3940175288101555\n",
      "0.3901900455745082\n",
      "0.39314407703926213\n",
      "0.3810962243590468\n",
      "0.3915772806150906\n",
      "0.39565156486665864\n",
      "0.3956877670316268\n",
      "0.3994500571280436\n",
      "0.3985008743027983\n",
      "0.39560581595091204\n",
      "0.39176429375624544\n",
      "0.40712608554579094\n"
     ]
    }
   ],
   "source": [
    "for idx in range(quantidade_de_modelos) :\n",
    "    print(metrics.precision_score(y_test, y_pred[idx], average='weighted', zero_division=0))"
   ]
  },
  {
   "source": [
    "## Recall"
   ],
   "cell_type": "markdown",
   "metadata": {}
  },
  {
   "cell_type": "code",
   "execution_count": 366,
   "metadata": {},
   "outputs": [
    {
     "output_type": "stream",
     "name": "stdout",
     "text": [
      "0.5544217687074829\n",
      "0.47891156462585033\n",
      "0.45918367346938777\n",
      "0.47210884353741495\n",
      "0.46462585034013604\n",
      "0.4605442176870748\n",
      "0.45714285714285713\n",
      "0.4748299319727891\n",
      "0.4639455782312925\n",
      "0.46530612244897956\n",
      "0.4448979591836735\n",
      "0.4530612244897959\n",
      "0.4414965986394558\n",
      "0.42857142857142855\n",
      "0.44013605442176873\n",
      "0.4340136054421769\n",
      "0.4346938775510204\n",
      "0.42993197278911566\n",
      "0.43945578231292515\n",
      "0.44013605442176873\n",
      "0.43537414965986393\n",
      "0.43333333333333335\n",
      "0.4387755102040816\n",
      "0.44081632653061226\n",
      "0.43197278911564624\n",
      "0.4421768707482993\n",
      "0.4380952380952381\n",
      "0.4387755102040816\n",
      "0.4448979591836735\n",
      "0.43945578231292515\n",
      "0.43673469387755104\n",
      "0.43945578231292515\n",
      "0.4421768707482993\n",
      "0.44421768707482995\n",
      "0.4496598639455782\n",
      "0.44829931972789117\n",
      "0.44761904761904764\n",
      "0.45170068027210886\n",
      "0.45510204081632655\n",
      "0.45034013605442175\n",
      "0.45374149659863944\n",
      "0.4435374149659864\n",
      "0.45102040816326533\n",
      "0.4530612244897959\n",
      "0.4557823129251701\n",
      "0.45782312925170066\n",
      "0.4564625850340136\n",
      "0.4605442176870748\n",
      "0.45374149659863944\n",
      "0.46122448979591835\n"
     ]
    }
   ],
   "source": [
    "for idx in range(quantidade_de_modelos) :\n",
    "    print(calc_recall(y_test, y_pred[idx]))"
   ]
  },
  {
   "cell_type": "code",
   "execution_count": 367,
   "metadata": {},
   "outputs": [
    {
     "output_type": "stream",
     "name": "stdout",
     "text": [
      "0.5544217687074829\n0.47891156462585033\n0.45918367346938777\n0.47210884353741495\n0.46462585034013604\n0.4605442176870748\n0.45714285714285713\n0.4748299319727891\n0.4639455782312925\n0.46530612244897956\n0.4448979591836735\n0.4530612244897959\n0.4414965986394558\n0.42857142857142855\n0.44013605442176873\n0.4340136054421769\n0.4346938775510204\n0.42993197278911566\n0.43945578231292515\n0.44013605442176873\n0.43537414965986393\n0.43333333333333335\n0.4387755102040816\n0.44081632653061226\n0.43197278911564624\n0.4421768707482993\n0.4380952380952381\n0.4387755102040816\n0.4448979591836735\n0.43945578231292515\n0.43673469387755104\n0.43945578231292515\n0.4421768707482993\n0.44421768707482995\n0.4496598639455782\n0.44829931972789117\n0.44761904761904764\n0.45170068027210886\n0.45510204081632655\n0.45034013605442175\n0.45374149659863944\n0.4435374149659864\n0.45102040816326533\n0.4530612244897959\n0.4557823129251701\n0.45782312925170066\n0.4564625850340136\n0.4605442176870748\n0.45374149659863944\n0.46122448979591835\n"
     ]
    }
   ],
   "source": [
    "for idx in range(quantidade_de_modelos) :\n",
    "    print(metrics.recall_score(y_test, y_pred[idx], average='weighted', zero_division=0))"
   ]
  },
  {
   "source": [
    "## F1-Measure"
   ],
   "cell_type": "markdown",
   "metadata": {}
  },
  {
   "cell_type": "code",
   "execution_count": 368,
   "metadata": {},
   "outputs": [
    {
     "output_type": "stream",
     "name": "stdout",
     "text": [
      "0.5525828044529364\n",
      "0.46954377846244816\n",
      "0.45515113346859987\n",
      "0.4611921012780785\n",
      "0.4503368523033497\n",
      "0.4441468744675037\n",
      "0.44033575604653447\n",
      "0.45459790715684356\n",
      "0.44429360862740175\n",
      "0.4455957781745911\n",
      "0.42179876609215483\n",
      "0.42695327160936913\n",
      "0.4155096237607401\n",
      "0.4005157764562704\n",
      "0.40818881655647965\n",
      "0.4021784217307167\n",
      "0.4009411118944877\n",
      "0.395597897702573\n",
      "0.4038682005310935\n",
      "0.4043417154503377\n",
      "0.39926177478057145\n",
      "0.3946997056078115\n",
      "0.40114395153231325\n",
      "0.3995454449967573\n",
      "0.3933034400191946\n",
      "0.3969294333280574\n",
      "0.3926398327878084\n",
      "0.39271131085384364\n",
      "0.39970061061056844\n",
      "0.39207191901595745\n",
      "0.3883348754035206\n",
      "0.3902389330385154\n",
      "0.392530990402904\n",
      "0.3956320483784425\n",
      "0.40032653263609713\n",
      "0.39904872050838325\n",
      "0.3957354019607614\n",
      "0.39914066248605506\n",
      "0.40147999758867425\n",
      "0.39846790357643314\n",
      "0.4008919082821906\n",
      "0.3893584893325842\n",
      "0.3967973156334076\n",
      "0.3990423961034498\n",
      "0.4001734632063886\n",
      "0.40229011438928125\n",
      "0.40018719182586915\n",
      "0.40214571594775056\n",
      "0.3964191853724275\n",
      "0.4056580438835534\n"
     ]
    }
   ],
   "source": [
    "for idx in range(quantidade_de_modelos) :\n",
    "    print(calc_f1_measure(y_test, y_pred[idx]))"
   ]
  },
  {
   "cell_type": "code",
   "execution_count": 369,
   "metadata": {},
   "outputs": [
    {
     "output_type": "stream",
     "name": "stdout",
     "text": [
      "0.5525828044529364\n",
      "0.46954377846244816\n",
      "0.45515113346859987\n",
      "0.4611921012780785\n",
      "0.4503368523033497\n",
      "0.4441468744675037\n",
      "0.44033575604653447\n",
      "0.45459790715684356\n",
      "0.44429360862740175\n",
      "0.4455957781745911\n",
      "0.42179876609215483\n",
      "0.42695327160936913\n",
      "0.4155096237607401\n",
      "0.4005157764562704\n",
      "0.40818881655647965\n",
      "0.4021784217307167\n",
      "0.4009411118944877\n",
      "0.395597897702573\n",
      "0.4038682005310935\n",
      "0.4043417154503377\n",
      "0.39926177478057145\n",
      "0.3946997056078115\n",
      "0.40114395153231325\n",
      "0.3995454449967573\n",
      "0.3933034400191946\n",
      "0.3969294333280574\n",
      "0.3926398327878084\n",
      "0.39271131085384364\n",
      "0.39970061061056844\n",
      "0.39207191901595745\n",
      "0.3883348754035206\n",
      "0.3902389330385154\n",
      "0.392530990402904\n",
      "0.3956320483784425\n",
      "0.40032653263609713\n",
      "0.39904872050838325\n",
      "0.3957354019607614\n",
      "0.39914066248605506\n",
      "0.40147999758867425\n",
      "0.39846790357643314\n",
      "0.4008919082821906\n",
      "0.3893584893325842\n",
      "0.3967973156334076\n",
      "0.3990423961034498\n",
      "0.4001734632063886\n",
      "0.40229011438928125\n",
      "0.40018719182586915\n",
      "0.40214571594775056\n",
      "0.3964191853724275\n",
      "0.4056580438835534\n"
     ]
    }
   ],
   "source": [
    "for idx in range(quantidade_de_modelos) :\n",
    "    print(metrics.f1_score(y_test, y_pred[idx], average='weighted', zero_division=0))"
   ]
  },
  {
   "source": [
    "## 3. Calcule MAE e RMSE para sua solução da questão 3.3 da Lista 05. Caso não tenha feito a questão 3.3 da Lista 05 terá que fazê-la agora."
   ],
   "cell_type": "markdown",
   "metadata": {}
  },
  {
   "cell_type": "code",
   "execution_count": 370,
   "metadata": {},
   "outputs": [
    {
     "output_type": "stream",
     "name": "stdout",
     "text": [
      "[6.4 6.4 6.4 ... 5.6 6.4 6.2]\n"
     ]
    }
   ],
   "source": [
    "k = 5\n",
    "kNNr_model = KNeighborsRegressor(n_neighbors=k)\n",
    "kNNr_model.fit(X_train, y_train)\n",
    "y_pred = kNNr_model.predict(X_test)\n",
    "print(y_pred)"
   ]
  },
  {
   "source": [
    "## MAE"
   ],
   "cell_type": "markdown",
   "metadata": {}
  },
  {
   "cell_type": "code",
   "execution_count": 371,
   "metadata": {},
   "outputs": [
    {
     "output_type": "stream",
     "name": "stdout",
     "text": [
      "0.6337414965986394\n"
     ]
    }
   ],
   "source": [
    "print(calc_mae(y_test, y_pred))"
   ]
  },
  {
   "cell_type": "code",
   "execution_count": 372,
   "metadata": {},
   "outputs": [
    {
     "output_type": "stream",
     "name": "stdout",
     "text": [
      "0.6337414965986394\n"
     ]
    }
   ],
   "source": [
    "print(metrics.mean_absolute_error(y_test, y_pred))"
   ]
  },
  {
   "source": [
    "## RMSE"
   ],
   "cell_type": "markdown",
   "metadata": {}
  },
  {
   "cell_type": "code",
   "execution_count": 373,
   "metadata": {},
   "outputs": [
    {
     "output_type": "stream",
     "name": "stdout",
     "text": [
      "0.8166298756116486\n"
     ]
    }
   ],
   "source": [
    "print(calc_rmse(y_test, y_pred))"
   ]
  },
  {
   "cell_type": "code",
   "execution_count": 374,
   "metadata": {},
   "outputs": [
    {
     "output_type": "stream",
     "name": "stdout",
     "text": [
      "0.8166298756116486\n"
     ]
    }
   ],
   "source": [
    "print(metrics.mean_squared_error(y_test, y_pred, squared=False))"
   ]
  },
  {
   "cell_type": "code",
   "execution_count": null,
   "metadata": {},
   "outputs": [],
   "source": []
  }
 ]
}