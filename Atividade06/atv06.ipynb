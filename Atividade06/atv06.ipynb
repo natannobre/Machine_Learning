{
 "metadata": {
  "language_info": {
   "codemirror_mode": {
    "name": "ipython",
    "version": 3
   },
   "file_extension": ".py",
   "mimetype": "text/x-python",
   "name": "python",
   "nbconvert_exporter": "python",
   "pygments_lexer": "ipython3",
   "version": 3
  },
  "orig_nbformat": 4
 },
 "nbformat": 4,
 "nbformat_minor": 2,
 "cells": [
  {
   "source": [
    "# Autor: Natan Nobre Chaves\n",
    "## Atividade 06"
   ],
   "cell_type": "markdown",
   "metadata": {}
  },
  {
   "source": [
    "### 1. Implemente diferentes funções em Python, usando o NumPy, para calcular:\n",
    "    a) Acurácia\n",
    "    b) Precisão\n",
    "    c) Recall\n",
    "    d) F1-Measure\n",
    "    e) MAE\n",
    "    f) RMSE\n",
    "---\n",
    "Observações:\n",
    "\n",
    "* Cada item acima deve ter uma função própria para calculá-lo.\n",
    "* Todas as funções recebem como parâmetros de entrada y_true e y_pred\n",
    "* As funções para cálculo da Precisão, Recall e F1-Measure devem retornar um único valor já com a métrica calculada baseada na média ponderada das classes.\n",
    "* As funções podem gerar e usar a matriz de confusão usando o scikit learn, mas não podem usar as métricas já implementadas por ele."
   ],
   "cell_type": "markdown",
   "metadata": {}
  },
  {
   "source": [],
   "cell_type": "markdown",
   "metadata": {}
  },
  {
   "cell_type": "code",
   "execution_count": null,
   "metadata": {},
   "outputs": [],
   "source": [
    "import numpy as np\n",
    "from sklearn import metrics"
   ]
  },
  {
   "source": [
    "## a) Acurácia"
   ],
   "cell_type": "markdown",
   "metadata": {}
  },
  {
   "cell_type": "code",
   "execution_count": null,
   "metadata": {},
   "outputs": [],
   "source": [
    "def calc_accuracy(y_true, y_pred) :\n",
    "    return np.sum(y_true == y_pred) / y_true.shape[0]"
   ]
  },
  {
   "source": [
    "## b) Precisão"
   ],
   "cell_type": "markdown",
   "metadata": {}
  }
 ]
}