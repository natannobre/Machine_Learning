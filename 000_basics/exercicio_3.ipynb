{
 "cells": [
  {
   "cell_type": "code",
   "execution_count": 71,
   "metadata": {},
   "outputs": [],
   "source": [
    "import numpy as np\n",
    "import matplotlib.pyplot as plt"
   ]
  },
  {
   "cell_type": "code",
   "execution_count": 72,
   "metadata": {},
   "outputs": [],
   "source": [
    "np.random.seed(123)"
   ]
  },
  {
   "cell_type": "code",
   "execution_count": 73,
   "metadata": {},
   "outputs": [],
   "source": [
    "class Edificio:\n",
    "    def __init__(self, degrau):\n",
    "        self.degrau = degrau\n",
    "    \n",
    "    def sobe(self, qtd):\n",
    "        self.degrau += qtd\n",
    "    \n",
    "    def desce(self, qtd):\n",
    "        self.degrau -= qtd"
   ]
  },
  {
   "cell_type": "code",
   "execution_count": 74,
   "metadata": {},
   "outputs": [],
   "source": [
    "def lanca_dado():\n",
    "    return np.random.randint(1,7)"
   ]
  },
  {
   "cell_type": "code",
   "execution_count": 75,
   "metadata": {},
   "outputs": [
    {
     "data": {
      "text/plain": [
       "(array([  10.,  125.,  622., 1704., 2755., 2724., 1387.,  540.,  119.,\n",
       "          14.]),\n",
       " array([ 15. ,  27.2,  39.4,  51.6,  63.8,  76. ,  88.2, 100.4, 112.6,\n",
       "        124.8, 137. ]),\n",
       " <BarContainer object of 10 artists>)"
      ]
     },
     "execution_count": 75,
     "metadata": {},
     "output_type": "execute_result"
    },
    {
     "data": {
      "image/png": "[encoded data removed]",
      "text/plain": [
       "<Figure size 640x480 with 1 Axes>"
      ]
     },
     "metadata": {},
     "output_type": "display_data"
    }
   ],
   "source": [
    "\n",
    "final_points = []\n",
    "\n",
    "for i in range(10000):\n",
    "    ed = Edificio(0)\n",
    "\n",
    "    for j in range(100):\n",
    "        value = lanca_dado()\n",
    "        if value == 1 or value == 2:\n",
    "            ed.desce(1)\n",
    "        elif value == 3 or value == 4 or value == 5:\n",
    "            ed.sobe(1)\n",
    "        else:\n",
    "            ed.sobe(lanca_dado())\n",
    "        \n",
    "    final_points.append(ed.degrau)\n",
    "\n",
    "plt.hist(final_points)"
   ]
  },
  {
   "cell_type": "code",
   "execution_count": 76,
   "metadata": {},
   "outputs": [
    {
     "name": "stdout",
     "output_type": "stream",
     "text": [
      "Probabilidade de subir 60 ou mais andares(%):  82.47\n"
     ]
    }
   ],
   "source": [
    "np_points = np.array(final_points)\n",
    "print(\"Probabilidade de subir 60 ou mais andares(%): \", np.mean(np_points >= 60)*100)"
   ]
  }
 ],
 "metadata": {
  "kernelspec": {
   "display_name": "Python 3",
   "language": "python",
   "name": "python3"
  },
  "language_info": {
   "codemirror_mode": {
    "name": "ipython",
    "version": 3
   },
   "file_extension": ".py",
   "mimetype": "text/x-python",
   "name": "python",
   "nbconvert_exporter": "python",
   "pygments_lexer": "ipython3",
   "version": "3.10.12"
  },
  "orig_nbformat": 4
 },
 "nbformat": 4,
 "nbformat_minor": 2
}
